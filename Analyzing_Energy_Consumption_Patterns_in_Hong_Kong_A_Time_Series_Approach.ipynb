{
  "cells": [
    {
      "cell_type": "markdown",
      "metadata": {
        "id": "9VRaNYoVavoP"
      },
      "source": [
        "**Overview [Key Energy End-use]**"
      ]
    },
    {
      "cell_type": "code",
      "execution_count": 41,
      "metadata": {
        "colab": {
          "base_uri": "https://localhost:8080/"
        },
        "id": "-N2YCKy8Uu2P",
        "outputId": "6a8b775b-012b-4fc2-e410-9f72d07142c1"
      },
      "outputs": [
        {
          "name": "stdout",
          "output_type": "stream",
          "text": [
            "Data read successfully.\n"
          ]
        }
      ],
      "source": [
        "import requests\n",
        "import pandas as pd\n",
        "import io\n",
        "import numpy as np\n",
        "\n",
        "# Send a GET request to the API endpoint\n",
        "response = requests.get('https://api.data.gov.hk/v1/historical-archive/get-file?url=https%3A%2F%2Fwww.emsd.gov.hk%2Ffilemanager%2Fen%2Fshare%2Fenergy_efficiency%2Fenergy_end_use%2F2022%2Ftable01.csv&time=20221019-1038')\n",
        "\n",
        "# Check if the request was successful\n",
        "if response.status_code == 200:\n",
        "    #convert it into a file-like object\n",
        "    data_io = io.StringIO(response.text)\n",
        "\n",
        "    df_overview = pd.read_csv(data_io)\n",
        "    print('Data read successfully.')\n",
        "else:\n",
        "    print(f'Request failed with status code {response.status_code}')\n"
      ]
    },
    {
      "cell_type": "code",
      "execution_count": 2,
      "metadata": {
        "colab": {
          "base_uri": "https://localhost:8080/",
          "height": 446
        },
        "id": "Oe9JaKtwWizA",
        "outputId": "b916c012-3f08-4456-949e-614fe8ec498d"
      },
      "outputs": [
        {
          "data": {
            "text/html": [
              "<div>\n",
              "<style scoped>\n",
              "    .dataframe tbody tr th:only-of-type {\n",
              "        vertical-align: middle;\n",
              "    }\n",
              "\n",
              "    .dataframe tbody tr th {\n",
              "        vertical-align: top;\n",
              "    }\n",
              "\n",
              "    .dataframe thead th {\n",
              "        text-align: right;\n",
              "    }\n",
              "</style>\n",
              "<table border=\"1\" class=\"dataframe\">\n",
              "  <thead>\n",
              "    <tr style=\"text-align: right;\">\n",
              "      <th></th>\n",
              "      <th>Year</th>\n",
              "      <th>Energy End-use (TJ)/ GDP (HK$ billion)</th>\n",
              "      <th>Energy End-use (TJ)</th>\n",
              "      <th>GDP in Hong Kong in chained 2020 HKD (HK$ million)</th>\n",
              "      <th>Energy End-use/ Capita (GJ)</th>\n",
              "      <th>Electricity/ Capita (GJ)</th>\n",
              "      <th>Population ('000)</th>\n",
              "    </tr>\n",
              "  </thead>\n",
              "  <tbody>\n",
              "    <tr>\n",
              "      <th>0</th>\n",
              "      <td>2010</td>\n",
              "      <td>122</td>\n",
              "      <td>281729</td>\n",
              "      <td>2308742</td>\n",
              "      <td>40.11</td>\n",
              "      <td>21.48</td>\n",
              "      <td>7024</td>\n",
              "    </tr>\n",
              "    <tr>\n",
              "      <th>1</th>\n",
              "      <td>2011</td>\n",
              "      <td>116</td>\n",
              "      <td>279524</td>\n",
              "      <td>2419901</td>\n",
              "      <td>39.53</td>\n",
              "      <td>21.44</td>\n",
              "      <td>7072</td>\n",
              "    </tr>\n",
              "    <tr>\n",
              "      <th>2</th>\n",
              "      <td>2012</td>\n",
              "      <td>115</td>\n",
              "      <td>282055</td>\n",
              "      <td>2461047</td>\n",
              "      <td>39.45</td>\n",
              "      <td>21.69</td>\n",
              "      <td>7150</td>\n",
              "    </tr>\n",
              "    <tr>\n",
              "      <th>3</th>\n",
              "      <td>2013</td>\n",
              "      <td>110</td>\n",
              "      <td>279588</td>\n",
              "      <td>2537377</td>\n",
              "      <td>38.95</td>\n",
              "      <td>21.36</td>\n",
              "      <td>7179</td>\n",
              "    </tr>\n",
              "    <tr>\n",
              "      <th>4</th>\n",
              "      <td>2014</td>\n",
              "      <td>109</td>\n",
              "      <td>283984</td>\n",
              "      <td>2607470</td>\n",
              "      <td>39.28</td>\n",
              "      <td>21.88</td>\n",
              "      <td>7230</td>\n",
              "    </tr>\n",
              "    <tr>\n",
              "      <th>5</th>\n",
              "      <td>2015</td>\n",
              "      <td>106</td>\n",
              "      <td>282960</td>\n",
              "      <td>2669732</td>\n",
              "      <td>38.81</td>\n",
              "      <td>21.72</td>\n",
              "      <td>7291</td>\n",
              "    </tr>\n",
              "    <tr>\n",
              "      <th>6</th>\n",
              "      <td>2016</td>\n",
              "      <td>104</td>\n",
              "      <td>283564</td>\n",
              "      <td>2727810</td>\n",
              "      <td>38.65</td>\n",
              "      <td>21.65</td>\n",
              "      <td>7337</td>\n",
              "    </tr>\n",
              "    <tr>\n",
              "      <th>7</th>\n",
              "      <td>2017</td>\n",
              "      <td>99</td>\n",
              "      <td>281006</td>\n",
              "      <td>2831361</td>\n",
              "      <td>38.01</td>\n",
              "      <td>21.37</td>\n",
              "      <td>7393</td>\n",
              "    </tr>\n",
              "    <tr>\n",
              "      <th>8</th>\n",
              "      <td>2018</td>\n",
              "      <td>97</td>\n",
              "      <td>282486</td>\n",
              "      <td>2911968</td>\n",
              "      <td>37.90</td>\n",
              "      <td>21.40</td>\n",
              "      <td>7453</td>\n",
              "    </tr>\n",
              "    <tr>\n",
              "      <th>9</th>\n",
              "      <td>2019</td>\n",
              "      <td>99</td>\n",
              "      <td>283527</td>\n",
              "      <td>2863098</td>\n",
              "      <td>37.76</td>\n",
              "      <td>21.53</td>\n",
              "      <td>7508</td>\n",
              "    </tr>\n",
              "    <tr>\n",
              "      <th>10</th>\n",
              "      <td>2020</td>\n",
              "      <td>102</td>\n",
              "      <td>272490</td>\n",
              "      <td>2675708</td>\n",
              "      <td>36.42</td>\n",
              "      <td>21.27</td>\n",
              "      <td>7481</td>\n",
              "    </tr>\n",
              "  </tbody>\n",
              "</table>\n",
              "</div>"
            ],
            "text/plain": [
              "    Year  Energy End-use (TJ)/ GDP (HK$ billion)  Energy End-use (TJ)  \\\n",
              "0   2010                                     122               281729   \n",
              "1   2011                                     116               279524   \n",
              "2   2012                                     115               282055   \n",
              "3   2013                                     110               279588   \n",
              "4   2014                                     109               283984   \n",
              "5   2015                                     106               282960   \n",
              "6   2016                                     104               283564   \n",
              "7   2017                                      99               281006   \n",
              "8   2018                                      97               282486   \n",
              "9   2019                                      99               283527   \n",
              "10  2020                                     102               272490   \n",
              "\n",
              "    GDP in Hong Kong in chained 2020 HKD (HK$ million)  \\\n",
              "0                                             2308742    \n",
              "1                                             2419901    \n",
              "2                                             2461047    \n",
              "3                                             2537377    \n",
              "4                                             2607470    \n",
              "5                                             2669732    \n",
              "6                                             2727810    \n",
              "7                                             2831361    \n",
              "8                                             2911968    \n",
              "9                                             2863098    \n",
              "10                                            2675708    \n",
              "\n",
              "    Energy End-use/ Capita (GJ)  Electricity/ Capita (GJ)  Population ('000)  \n",
              "0                         40.11                     21.48               7024  \n",
              "1                         39.53                     21.44               7072  \n",
              "2                         39.45                     21.69               7150  \n",
              "3                         38.95                     21.36               7179  \n",
              "4                         39.28                     21.88               7230  \n",
              "5                         38.81                     21.72               7291  \n",
              "6                         38.65                     21.65               7337  \n",
              "7                         38.01                     21.37               7393  \n",
              "8                         37.90                     21.40               7453  \n",
              "9                         37.76                     21.53               7508  \n",
              "10                        36.42                     21.27               7481  "
            ]
          },
          "execution_count": 2,
          "metadata": {},
          "output_type": "execute_result"
        }
      ],
      "source": [
        "df_overview"
      ]
    },
    {
      "cell_type": "markdown",
      "metadata": {
        "id": "DLTM6Cita8LO"
      },
      "source": [
        "**Total Energy Consumption by fuel**"
      ]
    },
    {
      "cell_type": "code",
      "execution_count": 3,
      "metadata": {
        "colab": {
          "base_uri": "https://localhost:8080/"
        },
        "id": "deg27nosXXq4",
        "outputId": "c623edd7-cad5-4ac3-c97f-a3980314e25b"
      },
      "outputs": [
        {
          "name": "stdout",
          "output_type": "stream",
          "text": [
            "Data read successfully.\n"
          ]
        }
      ],
      "source": [
        "# Send a GET request to the API endpoint\n",
        "response = requests.get('https://api.data.gov.hk/v1/historical-archive/get-file?url=https%3A%2F%2Fwww.emsd.gov.hk%2Ffilemanager%2Fen%2Fshare%2Fenergy_efficiency%2Fenergy_end_use%2F2022%2Ftable02.csv&time=20231007-1113')\n",
        "# Check if the request was successful\n",
        "if response.status_code == 200:\n",
        "    #convert it into a file-like object\n",
        "    data_io = io.StringIO(response.text)\n",
        "\n",
        "    df_total_fuel = pd.read_csv(data_io)\n",
        "    print('Data read successfully.')\n",
        "else:\n",
        "    print(f'Request failed with status code {response.status_code}')\n"
      ]
    },
    {
      "cell_type": "code",
      "execution_count": 4,
      "metadata": {
        "colab": {
          "base_uri": "https://localhost:8080/",
          "height": 464
        },
        "id": "7iv8_nTgXffA",
        "outputId": "77e01185-3829-4868-945e-9c3a3765d770"
      },
      "outputs": [
        {
          "data": {
            "text/html": [
              "<div>\n",
              "<style scoped>\n",
              "    .dataframe tbody tr th:only-of-type {\n",
              "        vertical-align: middle;\n",
              "    }\n",
              "\n",
              "    .dataframe tbody tr th {\n",
              "        vertical-align: top;\n",
              "    }\n",
              "\n",
              "    .dataframe thead th {\n",
              "        text-align: right;\n",
              "    }\n",
              "</style>\n",
              "<table border=\"1\" class=\"dataframe\">\n",
              "  <thead>\n",
              "    <tr style=\"text-align: right;\">\n",
              "      <th></th>\n",
              "      <th>Year</th>\n",
              "      <th>Town Gas &amp; Liquefied Petroleum Gas (Unit : Terajoule)</th>\n",
              "      <th>Town Gas &amp; Liquefied Petroleum Gas Percentage (%)</th>\n",
              "      <th>Oil &amp; Coal Products (Unit : Terajoule)</th>\n",
              "      <th>Oil &amp; Coal Products Percentage (%)</th>\n",
              "      <th>Electricity (Unit : Terajoule)</th>\n",
              "      <th>Electricity Percentage (%)</th>\n",
              "    </tr>\n",
              "  </thead>\n",
              "  <tbody>\n",
              "    <tr>\n",
              "      <th>0</th>\n",
              "      <td>2010</td>\n",
              "      <td>49084</td>\n",
              "      <td>17</td>\n",
              "      <td>81786</td>\n",
              "      <td>29</td>\n",
              "      <td>150859</td>\n",
              "      <td>54</td>\n",
              "    </tr>\n",
              "    <tr>\n",
              "      <th>1</th>\n",
              "      <td>2011</td>\n",
              "      <td>49568</td>\n",
              "      <td>18</td>\n",
              "      <td>78349</td>\n",
              "      <td>28</td>\n",
              "      <td>151606</td>\n",
              "      <td>54</td>\n",
              "    </tr>\n",
              "    <tr>\n",
              "      <th>2</th>\n",
              "      <td>2012</td>\n",
              "      <td>49616</td>\n",
              "      <td>18</td>\n",
              "      <td>77359</td>\n",
              "      <td>27</td>\n",
              "      <td>155080</td>\n",
              "      <td>55</td>\n",
              "    </tr>\n",
              "    <tr>\n",
              "      <th>3</th>\n",
              "      <td>2013</td>\n",
              "      <td>49723</td>\n",
              "      <td>18</td>\n",
              "      <td>76503</td>\n",
              "      <td>27</td>\n",
              "      <td>153362</td>\n",
              "      <td>55</td>\n",
              "    </tr>\n",
              "    <tr>\n",
              "      <th>4</th>\n",
              "      <td>2014</td>\n",
              "      <td>50844</td>\n",
              "      <td>18</td>\n",
              "      <td>74992</td>\n",
              "      <td>26</td>\n",
              "      <td>158148</td>\n",
              "      <td>56</td>\n",
              "    </tr>\n",
              "    <tr>\n",
              "      <th>5</th>\n",
              "      <td>2015</td>\n",
              "      <td>48954</td>\n",
              "      <td>17</td>\n",
              "      <td>75626</td>\n",
              "      <td>27</td>\n",
              "      <td>158380</td>\n",
              "      <td>56</td>\n",
              "    </tr>\n",
              "    <tr>\n",
              "      <th>6</th>\n",
              "      <td>2016</td>\n",
              "      <td>49374</td>\n",
              "      <td>17</td>\n",
              "      <td>75349</td>\n",
              "      <td>27</td>\n",
              "      <td>158841</td>\n",
              "      <td>56</td>\n",
              "    </tr>\n",
              "    <tr>\n",
              "      <th>7</th>\n",
              "      <td>2017</td>\n",
              "      <td>47907</td>\n",
              "      <td>17</td>\n",
              "      <td>75121</td>\n",
              "      <td>27</td>\n",
              "      <td>157977</td>\n",
              "      <td>56</td>\n",
              "    </tr>\n",
              "    <tr>\n",
              "      <th>8</th>\n",
              "      <td>2018</td>\n",
              "      <td>48541</td>\n",
              "      <td>17</td>\n",
              "      <td>74452</td>\n",
              "      <td>26</td>\n",
              "      <td>159494</td>\n",
              "      <td>56</td>\n",
              "    </tr>\n",
              "    <tr>\n",
              "      <th>9</th>\n",
              "      <td>2019</td>\n",
              "      <td>47338</td>\n",
              "      <td>17</td>\n",
              "      <td>74520</td>\n",
              "      <td>26</td>\n",
              "      <td>161669</td>\n",
              "      <td>57</td>\n",
              "    </tr>\n",
              "    <tr>\n",
              "      <th>10</th>\n",
              "      <td>2020</td>\n",
              "      <td>44195</td>\n",
              "      <td>16</td>\n",
              "      <td>69195</td>\n",
              "      <td>25</td>\n",
              "      <td>159100</td>\n",
              "      <td>58</td>\n",
              "    </tr>\n",
              "  </tbody>\n",
              "</table>\n",
              "</div>"
            ],
            "text/plain": [
              "    Year  Town Gas & Liquefied Petroleum Gas (Unit : Terajoule)  \\\n",
              "0   2010                                              49084       \n",
              "1   2011                                              49568       \n",
              "2   2012                                              49616       \n",
              "3   2013                                              49723       \n",
              "4   2014                                              50844       \n",
              "5   2015                                              48954       \n",
              "6   2016                                              49374       \n",
              "7   2017                                              47907       \n",
              "8   2018                                              48541       \n",
              "9   2019                                              47338       \n",
              "10  2020                                              44195       \n",
              "\n",
              "    Town Gas & Liquefied Petroleum Gas Percentage (%)  \\\n",
              "0                                                  17   \n",
              "1                                                  18   \n",
              "2                                                  18   \n",
              "3                                                  18   \n",
              "4                                                  18   \n",
              "5                                                  17   \n",
              "6                                                  17   \n",
              "7                                                  17   \n",
              "8                                                  17   \n",
              "9                                                  17   \n",
              "10                                                 16   \n",
              "\n",
              "    Oil & Coal Products (Unit : Terajoule)  \\\n",
              "0                                    81786   \n",
              "1                                    78349   \n",
              "2                                    77359   \n",
              "3                                    76503   \n",
              "4                                    74992   \n",
              "5                                    75626   \n",
              "6                                    75349   \n",
              "7                                    75121   \n",
              "8                                    74452   \n",
              "9                                    74520   \n",
              "10                                   69195   \n",
              "\n",
              "    Oil & Coal Products Percentage (%)  Electricity (Unit : Terajoule)  \\\n",
              "0                                   29                          150859   \n",
              "1                                   28                          151606   \n",
              "2                                   27                          155080   \n",
              "3                                   27                          153362   \n",
              "4                                   26                          158148   \n",
              "5                                   27                          158380   \n",
              "6                                   27                          158841   \n",
              "7                                   27                          157977   \n",
              "8                                   26                          159494   \n",
              "9                                   26                          161669   \n",
              "10                                  25                          159100   \n",
              "\n",
              "    Electricity Percentage (%)  \n",
              "0                           54  \n",
              "1                           54  \n",
              "2                           55  \n",
              "3                           55  \n",
              "4                           56  \n",
              "5                           56  \n",
              "6                           56  \n",
              "7                           56  \n",
              "8                           56  \n",
              "9                           57  \n",
              "10                          58  "
            ]
          },
          "execution_count": 4,
          "metadata": {},
          "output_type": "execute_result"
        }
      ],
      "source": [
        "df_total_fuel"
      ]
    },
    {
      "cell_type": "markdown",
      "metadata": {
        "id": "zk9r4KhSbDD_"
      },
      "source": [
        "**Energy Consumption in Residential Sector by Fuel**"
      ]
    },
    {
      "cell_type": "code",
      "execution_count": 5,
      "metadata": {
        "colab": {
          "base_uri": "https://localhost:8080/"
        },
        "id": "cFwJ5b1xXyXw",
        "outputId": "301d5f8c-c4a8-4cce-b4e1-14e3b129d9a9"
      },
      "outputs": [
        {
          "name": "stdout",
          "output_type": "stream",
          "text": [
            "Data read successfully.\n"
          ]
        }
      ],
      "source": [
        "# Send a GET request to the API endpoint\n",
        "response = requests.get('https://api.data.gov.hk/v1/historical-archive/get-file?url=https%3A%2F%2Fwww.emsd.gov.hk%2Ffilemanager%2Fen%2Fshare%2Fenergy_efficiency%2Fenergy_end_use%2F2022%2Ftable03.csv&time=20231007-1112')\n",
        "# Check if the request was successful\n",
        "if response.status_code == 200:\n",
        "    #convert it into a file-like object\n",
        "    data_io = io.StringIO(response.text)\n",
        "\n",
        "    df_residential_fuel = pd.read_csv(data_io)\n",
        "    print('Data read successfully.')\n",
        "else:\n",
        "    print(f'Request failed with status code {response.status_code}')"
      ]
    },
    {
      "cell_type": "code",
      "execution_count": 6,
      "metadata": {
        "colab": {
          "base_uri": "https://localhost:8080/",
          "height": 464
        },
        "id": "yEgoGVWuY1-j",
        "outputId": "840cb113-c606-4089-864e-193fd35a57c7"
      },
      "outputs": [
        {
          "data": {
            "text/html": [
              "<div>\n",
              "<style scoped>\n",
              "    .dataframe tbody tr th:only-of-type {\n",
              "        vertical-align: middle;\n",
              "    }\n",
              "\n",
              "    .dataframe tbody tr th {\n",
              "        vertical-align: top;\n",
              "    }\n",
              "\n",
              "    .dataframe thead th {\n",
              "        text-align: right;\n",
              "    }\n",
              "</style>\n",
              "<table border=\"1\" class=\"dataframe\">\n",
              "  <thead>\n",
              "    <tr style=\"text-align: right;\">\n",
              "      <th></th>\n",
              "      <th>Year</th>\n",
              "      <th>Town Gas &amp; Liquefied Petroleum Gas (Unit : Terajoule)</th>\n",
              "      <th>Town Gas &amp; Liquefied Petroleum Gas Percentage (%)</th>\n",
              "      <th>Oil &amp; Coal Products (Unit : Terajoule)</th>\n",
              "      <th>Oil &amp; Coal Products Percentage (%)</th>\n",
              "      <th>Electricity (Unit : Terajoule)</th>\n",
              "      <th>Electricity Percentage (%)</th>\n",
              "    </tr>\n",
              "  </thead>\n",
              "  <tbody>\n",
              "    <tr>\n",
              "      <th>0</th>\n",
              "      <td>2010</td>\n",
              "      <td>19038</td>\n",
              "      <td>33</td>\n",
              "      <td>13</td>\n",
              "      <td>0</td>\n",
              "      <td>39344</td>\n",
              "      <td>67</td>\n",
              "    </tr>\n",
              "    <tr>\n",
              "      <th>1</th>\n",
              "      <td>2011</td>\n",
              "      <td>18977</td>\n",
              "      <td>32</td>\n",
              "      <td>8</td>\n",
              "      <td>0</td>\n",
              "      <td>39872</td>\n",
              "      <td>68</td>\n",
              "    </tr>\n",
              "    <tr>\n",
              "      <th>2</th>\n",
              "      <td>2012</td>\n",
              "      <td>18841</td>\n",
              "      <td>31</td>\n",
              "      <td>8</td>\n",
              "      <td>0</td>\n",
              "      <td>41189</td>\n",
              "      <td>69</td>\n",
              "    </tr>\n",
              "    <tr>\n",
              "      <th>3</th>\n",
              "      <td>2013</td>\n",
              "      <td>18635</td>\n",
              "      <td>32</td>\n",
              "      <td>7</td>\n",
              "      <td>0</td>\n",
              "      <td>39941</td>\n",
              "      <td>68</td>\n",
              "    </tr>\n",
              "    <tr>\n",
              "      <th>4</th>\n",
              "      <td>2014</td>\n",
              "      <td>18681</td>\n",
              "      <td>30</td>\n",
              "      <td>7</td>\n",
              "      <td>0</td>\n",
              "      <td>43415</td>\n",
              "      <td>70</td>\n",
              "    </tr>\n",
              "    <tr>\n",
              "      <th>5</th>\n",
              "      <td>2015</td>\n",
              "      <td>18063</td>\n",
              "      <td>30</td>\n",
              "      <td>8</td>\n",
              "      <td>0</td>\n",
              "      <td>42368</td>\n",
              "      <td>70</td>\n",
              "    </tr>\n",
              "    <tr>\n",
              "      <th>6</th>\n",
              "      <td>2016</td>\n",
              "      <td>18574</td>\n",
              "      <td>30</td>\n",
              "      <td>10</td>\n",
              "      <td>0</td>\n",
              "      <td>43120</td>\n",
              "      <td>70</td>\n",
              "    </tr>\n",
              "    <tr>\n",
              "      <th>7</th>\n",
              "      <td>2017</td>\n",
              "      <td>18335</td>\n",
              "      <td>30</td>\n",
              "      <td>14</td>\n",
              "      <td>0</td>\n",
              "      <td>42127</td>\n",
              "      <td>70</td>\n",
              "    </tr>\n",
              "    <tr>\n",
              "      <th>8</th>\n",
              "      <td>2018</td>\n",
              "      <td>19578</td>\n",
              "      <td>32</td>\n",
              "      <td>14</td>\n",
              "      <td>0</td>\n",
              "      <td>41965</td>\n",
              "      <td>68</td>\n",
              "    </tr>\n",
              "    <tr>\n",
              "      <th>9</th>\n",
              "      <td>2019</td>\n",
              "      <td>18070</td>\n",
              "      <td>30</td>\n",
              "      <td>15</td>\n",
              "      <td>0</td>\n",
              "      <td>42937</td>\n",
              "      <td>70</td>\n",
              "    </tr>\n",
              "    <tr>\n",
              "      <th>10</th>\n",
              "      <td>2020</td>\n",
              "      <td>19726</td>\n",
              "      <td>30</td>\n",
              "      <td>15</td>\n",
              "      <td>0</td>\n",
              "      <td>46675</td>\n",
              "      <td>70</td>\n",
              "    </tr>\n",
              "  </tbody>\n",
              "</table>\n",
              "</div>"
            ],
            "text/plain": [
              "    Year  Town Gas & Liquefied Petroleum Gas (Unit : Terajoule)  \\\n",
              "0   2010                                              19038       \n",
              "1   2011                                              18977       \n",
              "2   2012                                              18841       \n",
              "3   2013                                              18635       \n",
              "4   2014                                              18681       \n",
              "5   2015                                              18063       \n",
              "6   2016                                              18574       \n",
              "7   2017                                              18335       \n",
              "8   2018                                              19578       \n",
              "9   2019                                              18070       \n",
              "10  2020                                              19726       \n",
              "\n",
              "    Town Gas & Liquefied Petroleum Gas Percentage (%)  \\\n",
              "0                                                  33   \n",
              "1                                                  32   \n",
              "2                                                  31   \n",
              "3                                                  32   \n",
              "4                                                  30   \n",
              "5                                                  30   \n",
              "6                                                  30   \n",
              "7                                                  30   \n",
              "8                                                  32   \n",
              "9                                                  30   \n",
              "10                                                 30   \n",
              "\n",
              "    Oil & Coal Products (Unit : Terajoule)  \\\n",
              "0                                       13   \n",
              "1                                        8   \n",
              "2                                        8   \n",
              "3                                        7   \n",
              "4                                        7   \n",
              "5                                        8   \n",
              "6                                       10   \n",
              "7                                       14   \n",
              "8                                       14   \n",
              "9                                       15   \n",
              "10                                      15   \n",
              "\n",
              "    Oil & Coal Products Percentage (%)  Electricity (Unit : Terajoule)  \\\n",
              "0                                    0                           39344   \n",
              "1                                    0                           39872   \n",
              "2                                    0                           41189   \n",
              "3                                    0                           39941   \n",
              "4                                    0                           43415   \n",
              "5                                    0                           42368   \n",
              "6                                    0                           43120   \n",
              "7                                    0                           42127   \n",
              "8                                    0                           41965   \n",
              "9                                    0                           42937   \n",
              "10                                   0                           46675   \n",
              "\n",
              "    Electricity Percentage (%)  \n",
              "0                           67  \n",
              "1                           68  \n",
              "2                           69  \n",
              "3                           68  \n",
              "4                           70  \n",
              "5                           70  \n",
              "6                           70  \n",
              "7                           70  \n",
              "8                           68  \n",
              "9                           70  \n",
              "10                          70  "
            ]
          },
          "execution_count": 6,
          "metadata": {},
          "output_type": "execute_result"
        }
      ],
      "source": [
        "df_residential_fuel"
      ]
    },
    {
      "cell_type": "markdown",
      "metadata": {
        "id": "pmfnzkJ0bRU-"
      },
      "source": [
        "**Energy Consumption in Commercial Sector by Fuel**"
      ]
    },
    {
      "cell_type": "code",
      "execution_count": 7,
      "metadata": {
        "colab": {
          "base_uri": "https://localhost:8080/"
        },
        "id": "k8G4qW9jbJv5",
        "outputId": "ca250cfa-d143-488c-e0e2-21787b9520bd"
      },
      "outputs": [
        {
          "name": "stdout",
          "output_type": "stream",
          "text": [
            "Data read successfully.\n"
          ]
        }
      ],
      "source": [
        "# Send a GET request to the API endpoint\n",
        "response = requests.get('https://api.data.gov.hk/v1/historical-archive/get-file?url=https%3A%2F%2Fwww.emsd.gov.hk%2Ffilemanager%2Fen%2Fshare%2Fenergy_efficiency%2Fenergy_end_use%2F2022%2Ftable04.csv&time=20231007-1113')\n",
        "# Check if the request was successful\n",
        "if response.status_code == 200:\n",
        "    #convert it into a file-like object\n",
        "    data_io = io.StringIO(response.text)\n",
        "\n",
        "    df_commercial_fuel = pd.read_csv(data_io)\n",
        "    print('Data read successfully.')\n",
        "else:\n",
        "    print(f'Request failed with status code {response.status_code}')"
      ]
    },
    {
      "cell_type": "code",
      "execution_count": 8,
      "metadata": {
        "colab": {
          "base_uri": "https://localhost:8080/",
          "height": 464
        },
        "id": "qhMGEywdbig-",
        "outputId": "613bd796-2182-45e1-d34f-5711a15861de"
      },
      "outputs": [
        {
          "data": {
            "text/html": [
              "<div>\n",
              "<style scoped>\n",
              "    .dataframe tbody tr th:only-of-type {\n",
              "        vertical-align: middle;\n",
              "    }\n",
              "\n",
              "    .dataframe tbody tr th {\n",
              "        vertical-align: top;\n",
              "    }\n",
              "\n",
              "    .dataframe thead th {\n",
              "        text-align: right;\n",
              "    }\n",
              "</style>\n",
              "<table border=\"1\" class=\"dataframe\">\n",
              "  <thead>\n",
              "    <tr style=\"text-align: right;\">\n",
              "      <th></th>\n",
              "      <th>Year</th>\n",
              "      <th>Town Gas &amp; Liquefied Petroleum Gas (Unit : Terajoule)</th>\n",
              "      <th>Town Gas &amp; Liquefied Petroleum Gas Percentage (%)</th>\n",
              "      <th>Oil &amp; Coal Products (Unit : Terajoule)</th>\n",
              "      <th>Oil &amp; Coal Products Percentage (%)</th>\n",
              "      <th>Electricity (Unit : Terajoule)</th>\n",
              "      <th>Electricity Percentage (%)</th>\n",
              "    </tr>\n",
              "  </thead>\n",
              "  <tbody>\n",
              "    <tr>\n",
              "      <th>0</th>\n",
              "      <td>2010</td>\n",
              "      <td>13971</td>\n",
              "      <td>12</td>\n",
              "      <td>4526</td>\n",
              "      <td>4</td>\n",
              "      <td>97894</td>\n",
              "      <td>84</td>\n",
              "    </tr>\n",
              "    <tr>\n",
              "      <th>1</th>\n",
              "      <td>2011</td>\n",
              "      <td>14129</td>\n",
              "      <td>12</td>\n",
              "      <td>1979</td>\n",
              "      <td>2</td>\n",
              "      <td>99905</td>\n",
              "      <td>86</td>\n",
              "    </tr>\n",
              "    <tr>\n",
              "      <th>2</th>\n",
              "      <td>2012</td>\n",
              "      <td>14280</td>\n",
              "      <td>12</td>\n",
              "      <td>1696</td>\n",
              "      <td>1</td>\n",
              "      <td>102353</td>\n",
              "      <td>86</td>\n",
              "    </tr>\n",
              "    <tr>\n",
              "      <th>3</th>\n",
              "      <td>2013</td>\n",
              "      <td>14512</td>\n",
              "      <td>12</td>\n",
              "      <td>1477</td>\n",
              "      <td>1</td>\n",
              "      <td>102221</td>\n",
              "      <td>86</td>\n",
              "    </tr>\n",
              "    <tr>\n",
              "      <th>4</th>\n",
              "      <td>2014</td>\n",
              "      <td>14713</td>\n",
              "      <td>12</td>\n",
              "      <td>1431</td>\n",
              "      <td>1</td>\n",
              "      <td>103473</td>\n",
              "      <td>87</td>\n",
              "    </tr>\n",
              "    <tr>\n",
              "      <th>5</th>\n",
              "      <td>2015</td>\n",
              "      <td>14535</td>\n",
              "      <td>12</td>\n",
              "      <td>1235</td>\n",
              "      <td>1</td>\n",
              "      <td>104649</td>\n",
              "      <td>87</td>\n",
              "    </tr>\n",
              "    <tr>\n",
              "      <th>6</th>\n",
              "      <td>2016</td>\n",
              "      <td>14601</td>\n",
              "      <td>12</td>\n",
              "      <td>1019</td>\n",
              "      <td>1</td>\n",
              "      <td>104841</td>\n",
              "      <td>87</td>\n",
              "    </tr>\n",
              "    <tr>\n",
              "      <th>7</th>\n",
              "      <td>2017</td>\n",
              "      <td>14908</td>\n",
              "      <td>12</td>\n",
              "      <td>830</td>\n",
              "      <td>1</td>\n",
              "      <td>104672</td>\n",
              "      <td>87</td>\n",
              "    </tr>\n",
              "    <tr>\n",
              "      <th>8</th>\n",
              "      <td>2018</td>\n",
              "      <td>15253</td>\n",
              "      <td>12</td>\n",
              "      <td>675</td>\n",
              "      <td>1</td>\n",
              "      <td>106294</td>\n",
              "      <td>87</td>\n",
              "    </tr>\n",
              "    <tr>\n",
              "      <th>9</th>\n",
              "      <td>2019</td>\n",
              "      <td>14440</td>\n",
              "      <td>12</td>\n",
              "      <td>574</td>\n",
              "      <td>0</td>\n",
              "      <td>107992</td>\n",
              "      <td>88</td>\n",
              "    </tr>\n",
              "    <tr>\n",
              "      <th>10</th>\n",
              "      <td>2020</td>\n",
              "      <td>11844</td>\n",
              "      <td>10</td>\n",
              "      <td>498</td>\n",
              "      <td>0</td>\n",
              "      <td>102171</td>\n",
              "      <td>89</td>\n",
              "    </tr>\n",
              "  </tbody>\n",
              "</table>\n",
              "</div>"
            ],
            "text/plain": [
              "    Year  Town Gas & Liquefied Petroleum Gas (Unit : Terajoule)  \\\n",
              "0   2010                                              13971       \n",
              "1   2011                                              14129       \n",
              "2   2012                                              14280       \n",
              "3   2013                                              14512       \n",
              "4   2014                                              14713       \n",
              "5   2015                                              14535       \n",
              "6   2016                                              14601       \n",
              "7   2017                                              14908       \n",
              "8   2018                                              15253       \n",
              "9   2019                                              14440       \n",
              "10  2020                                              11844       \n",
              "\n",
              "    Town Gas & Liquefied Petroleum Gas Percentage (%)  \\\n",
              "0                                                  12   \n",
              "1                                                  12   \n",
              "2                                                  12   \n",
              "3                                                  12   \n",
              "4                                                  12   \n",
              "5                                                  12   \n",
              "6                                                  12   \n",
              "7                                                  12   \n",
              "8                                                  12   \n",
              "9                                                  12   \n",
              "10                                                 10   \n",
              "\n",
              "    Oil & Coal Products (Unit : Terajoule)  \\\n",
              "0                                     4526   \n",
              "1                                     1979   \n",
              "2                                     1696   \n",
              "3                                     1477   \n",
              "4                                     1431   \n",
              "5                                     1235   \n",
              "6                                     1019   \n",
              "7                                      830   \n",
              "8                                      675   \n",
              "9                                      574   \n",
              "10                                     498   \n",
              "\n",
              "    Oil & Coal Products Percentage (%)  Electricity (Unit : Terajoule)  \\\n",
              "0                                    4                           97894   \n",
              "1                                    2                           99905   \n",
              "2                                    1                          102353   \n",
              "3                                    1                          102221   \n",
              "4                                    1                          103473   \n",
              "5                                    1                          104649   \n",
              "6                                    1                          104841   \n",
              "7                                    1                          104672   \n",
              "8                                    1                          106294   \n",
              "9                                    0                          107992   \n",
              "10                                   0                          102171   \n",
              "\n",
              "    Electricity Percentage (%)  \n",
              "0                           84  \n",
              "1                           86  \n",
              "2                           86  \n",
              "3                           86  \n",
              "4                           87  \n",
              "5                           87  \n",
              "6                           87  \n",
              "7                           87  \n",
              "8                           87  \n",
              "9                           88  \n",
              "10                          89  "
            ]
          },
          "execution_count": 8,
          "metadata": {},
          "output_type": "execute_result"
        }
      ],
      "source": [
        "df_commercial_fuel"
      ]
    },
    {
      "cell_type": "markdown",
      "metadata": {
        "id": "Cq7CNZgjbnz-"
      },
      "source": [
        "**Energy Consumption in Industrial Sector by Fuel**"
      ]
    },
    {
      "cell_type": "code",
      "execution_count": 9,
      "metadata": {
        "colab": {
          "base_uri": "https://localhost:8080/"
        },
        "id": "RL39OsFpbu_l",
        "outputId": "7ce52e24-58d2-45cc-dbed-10654df9cd17"
      },
      "outputs": [
        {
          "name": "stdout",
          "output_type": "stream",
          "text": [
            "Data read successfully.\n"
          ]
        }
      ],
      "source": [
        "# Send a GET request to the API endpoint\n",
        "response = requests.get('https://api.data.gov.hk/v1/historical-archive/get-file?url=https%3A%2F%2Fwww.emsd.gov.hk%2Ffilemanager%2Fen%2Fshare%2Fenergy_efficiency%2Fenergy_end_use%2F2022%2Ftable05.csv&time=20231007-1113')\n",
        "# Check if the request was successful\n",
        "if response.status_code == 200:\n",
        "    #convert it into a file-like object\n",
        "    data_io = io.StringIO(response.text)\n",
        "\n",
        "    df_industrial_fuel = pd.read_csv(data_io)\n",
        "    print('Data read successfully.')\n",
        "else:\n",
        "    print(f'Request failed with status code {response.status_code}')"
      ]
    },
    {
      "cell_type": "code",
      "execution_count": 10,
      "metadata": {
        "colab": {
          "base_uri": "https://localhost:8080/",
          "height": 464
        },
        "id": "WHp0AVOgb9M4",
        "outputId": "030f8864-87f4-4f6d-fb3c-d83760122be6"
      },
      "outputs": [
        {
          "data": {
            "text/html": [
              "<div>\n",
              "<style scoped>\n",
              "    .dataframe tbody tr th:only-of-type {\n",
              "        vertical-align: middle;\n",
              "    }\n",
              "\n",
              "    .dataframe tbody tr th {\n",
              "        vertical-align: top;\n",
              "    }\n",
              "\n",
              "    .dataframe thead th {\n",
              "        text-align: right;\n",
              "    }\n",
              "</style>\n",
              "<table border=\"1\" class=\"dataframe\">\n",
              "  <thead>\n",
              "    <tr style=\"text-align: right;\">\n",
              "      <th></th>\n",
              "      <th>Year</th>\n",
              "      <th>Town Gas &amp; Liquefied Petroleum Gas (Unit : Terajoule)</th>\n",
              "      <th>Town Gas &amp; Liquefied Petroleum Gas Percentage (%)</th>\n",
              "      <th>Oil &amp; Coal Products (Unit : Terajoule)</th>\n",
              "      <th>Oil &amp; Coal Products Percentage (%)</th>\n",
              "      <th>Electricity (Unit : Terajoule)</th>\n",
              "      <th>Electricity Percentage (%)</th>\n",
              "    </tr>\n",
              "  </thead>\n",
              "  <tbody>\n",
              "    <tr>\n",
              "      <th>0</th>\n",
              "      <td>2010</td>\n",
              "      <td>937</td>\n",
              "      <td>6</td>\n",
              "      <td>4035</td>\n",
              "      <td>25</td>\n",
              "      <td>11082</td>\n",
              "      <td>69</td>\n",
              "    </tr>\n",
              "    <tr>\n",
              "      <th>1</th>\n",
              "      <td>2011</td>\n",
              "      <td>956</td>\n",
              "      <td>7</td>\n",
              "      <td>3978</td>\n",
              "      <td>28</td>\n",
              "      <td>9220</td>\n",
              "      <td>65</td>\n",
              "    </tr>\n",
              "    <tr>\n",
              "      <th>2</th>\n",
              "      <td>2012</td>\n",
              "      <td>1111</td>\n",
              "      <td>8</td>\n",
              "      <td>3728</td>\n",
              "      <td>27</td>\n",
              "      <td>8816</td>\n",
              "      <td>65</td>\n",
              "    </tr>\n",
              "    <tr>\n",
              "      <th>3</th>\n",
              "      <td>2013</td>\n",
              "      <td>1229</td>\n",
              "      <td>9</td>\n",
              "      <td>3571</td>\n",
              "      <td>27</td>\n",
              "      <td>8405</td>\n",
              "      <td>64</td>\n",
              "    </tr>\n",
              "    <tr>\n",
              "      <th>4</th>\n",
              "      <td>2014</td>\n",
              "      <td>1264</td>\n",
              "      <td>10</td>\n",
              "      <td>3389</td>\n",
              "      <td>26</td>\n",
              "      <td>8374</td>\n",
              "      <td>64</td>\n",
              "    </tr>\n",
              "    <tr>\n",
              "      <th>5</th>\n",
              "      <td>2015</td>\n",
              "      <td>1308</td>\n",
              "      <td>10</td>\n",
              "      <td>3386</td>\n",
              "      <td>26</td>\n",
              "      <td>8359</td>\n",
              "      <td>64</td>\n",
              "    </tr>\n",
              "    <tr>\n",
              "      <th>6</th>\n",
              "      <td>2016</td>\n",
              "      <td>1232</td>\n",
              "      <td>10</td>\n",
              "      <td>3190</td>\n",
              "      <td>26</td>\n",
              "      <td>7872</td>\n",
              "      <td>64</td>\n",
              "    </tr>\n",
              "    <tr>\n",
              "      <th>7</th>\n",
              "      <td>2017</td>\n",
              "      <td>1317</td>\n",
              "      <td>10</td>\n",
              "      <td>3442</td>\n",
              "      <td>27</td>\n",
              "      <td>7963</td>\n",
              "      <td>63</td>\n",
              "    </tr>\n",
              "    <tr>\n",
              "      <th>8</th>\n",
              "      <td>2018</td>\n",
              "      <td>1448</td>\n",
              "      <td>11</td>\n",
              "      <td>3443</td>\n",
              "      <td>27</td>\n",
              "      <td>7938</td>\n",
              "      <td>62</td>\n",
              "    </tr>\n",
              "    <tr>\n",
              "      <th>9</th>\n",
              "      <td>2019</td>\n",
              "      <td>1596</td>\n",
              "      <td>13</td>\n",
              "      <td>3177</td>\n",
              "      <td>26</td>\n",
              "      <td>7501</td>\n",
              "      <td>61</td>\n",
              "    </tr>\n",
              "    <tr>\n",
              "      <th>10</th>\n",
              "      <td>2020</td>\n",
              "      <td>1470</td>\n",
              "      <td>12</td>\n",
              "      <td>3309</td>\n",
              "      <td>27</td>\n",
              "      <td>7383</td>\n",
              "      <td>61</td>\n",
              "    </tr>\n",
              "  </tbody>\n",
              "</table>\n",
              "</div>"
            ],
            "text/plain": [
              "    Year  Town Gas & Liquefied Petroleum Gas (Unit : Terajoule)  \\\n",
              "0   2010                                                937       \n",
              "1   2011                                                956       \n",
              "2   2012                                               1111       \n",
              "3   2013                                               1229       \n",
              "4   2014                                               1264       \n",
              "5   2015                                               1308       \n",
              "6   2016                                               1232       \n",
              "7   2017                                               1317       \n",
              "8   2018                                               1448       \n",
              "9   2019                                               1596       \n",
              "10  2020                                               1470       \n",
              "\n",
              "    Town Gas & Liquefied Petroleum Gas Percentage (%)  \\\n",
              "0                                                   6   \n",
              "1                                                   7   \n",
              "2                                                   8   \n",
              "3                                                   9   \n",
              "4                                                  10   \n",
              "5                                                  10   \n",
              "6                                                  10   \n",
              "7                                                  10   \n",
              "8                                                  11   \n",
              "9                                                  13   \n",
              "10                                                 12   \n",
              "\n",
              "    Oil & Coal Products (Unit : Terajoule)  \\\n",
              "0                                     4035   \n",
              "1                                     3978   \n",
              "2                                     3728   \n",
              "3                                     3571   \n",
              "4                                     3389   \n",
              "5                                     3386   \n",
              "6                                     3190   \n",
              "7                                     3442   \n",
              "8                                     3443   \n",
              "9                                     3177   \n",
              "10                                    3309   \n",
              "\n",
              "    Oil & Coal Products Percentage (%)  Electricity (Unit : Terajoule)  \\\n",
              "0                                   25                           11082   \n",
              "1                                   28                            9220   \n",
              "2                                   27                            8816   \n",
              "3                                   27                            8405   \n",
              "4                                   26                            8374   \n",
              "5                                   26                            8359   \n",
              "6                                   26                            7872   \n",
              "7                                   27                            7963   \n",
              "8                                   27                            7938   \n",
              "9                                   26                            7501   \n",
              "10                                  27                            7383   \n",
              "\n",
              "    Electricity Percentage (%)  \n",
              "0                           69  \n",
              "1                           65  \n",
              "2                           65  \n",
              "3                           64  \n",
              "4                           64  \n",
              "5                           64  \n",
              "6                           64  \n",
              "7                           63  \n",
              "8                           62  \n",
              "9                           61  \n",
              "10                          61  "
            ]
          },
          "execution_count": 10,
          "metadata": {},
          "output_type": "execute_result"
        }
      ],
      "source": [
        "df_industrial_fuel"
      ]
    },
    {
      "cell_type": "markdown",
      "metadata": {
        "id": "HwTqMq5AcD3_"
      },
      "source": [
        "**Energy Consumption in Transport Sector by Fuel**"
      ]
    },
    {
      "cell_type": "code",
      "execution_count": 11,
      "metadata": {
        "colab": {
          "base_uri": "https://localhost:8080/"
        },
        "id": "IcnePoL8cQ3d",
        "outputId": "158315b6-3061-4ddf-dc3d-d76cecabf43f"
      },
      "outputs": [
        {
          "name": "stdout",
          "output_type": "stream",
          "text": [
            "Data read successfully.\n"
          ]
        }
      ],
      "source": [
        "# Send a GET request to the API endpoint\n",
        "response = requests.get('https://api.data.gov.hk/v1/historical-archive/get-file?url=https%3A%2F%2Fwww.emsd.gov.hk%2Ffilemanager%2Fen%2Fshare%2Fenergy_efficiency%2Fenergy_end_use%2F2022%2Ftable06.csv&time=20231007-1118')\n",
        "# Check if the request was successful\n",
        "if response.status_code == 200:\n",
        "    #convert it into a file-like object\n",
        "    data_io = io.StringIO(response.text)\n",
        "\n",
        "    df_transport_fuel = pd.read_csv(data_io)\n",
        "    print('Data read successfully.')\n",
        "else:\n",
        "    print(f'Request failed with status code {response.status_code}')"
      ]
    },
    {
      "cell_type": "code",
      "execution_count": 12,
      "metadata": {
        "colab": {
          "base_uri": "https://localhost:8080/",
          "height": 464
        },
        "id": "jZ5QoWgactxu",
        "outputId": "a5ba9727-efb1-4f32-c574-9514d196d345"
      },
      "outputs": [
        {
          "data": {
            "text/html": [
              "<div>\n",
              "<style scoped>\n",
              "    .dataframe tbody tr th:only-of-type {\n",
              "        vertical-align: middle;\n",
              "    }\n",
              "\n",
              "    .dataframe tbody tr th {\n",
              "        vertical-align: top;\n",
              "    }\n",
              "\n",
              "    .dataframe thead th {\n",
              "        text-align: right;\n",
              "    }\n",
              "</style>\n",
              "<table border=\"1\" class=\"dataframe\">\n",
              "  <thead>\n",
              "    <tr style=\"text-align: right;\">\n",
              "      <th></th>\n",
              "      <th>Year</th>\n",
              "      <th>Town Gas &amp; Liquefied Petroleum Gas (Unit : Terajoule)</th>\n",
              "      <th>Town Gas &amp; Liquefied Petroleum Gas Percentage (%)</th>\n",
              "      <th>Oil &amp; Coal Products (Unit : Terajoule)</th>\n",
              "      <th>Oil &amp; Coal Products Percentage (%)</th>\n",
              "      <th>Electricity (Unit : Terajoule)</th>\n",
              "      <th>Electricity Percentage (%)</th>\n",
              "    </tr>\n",
              "  </thead>\n",
              "  <tbody>\n",
              "    <tr>\n",
              "      <th>0</th>\n",
              "      <td>2010</td>\n",
              "      <td>15137</td>\n",
              "      <td>17</td>\n",
              "      <td>73213</td>\n",
              "      <td>81</td>\n",
              "      <td>2540</td>\n",
              "      <td>3</td>\n",
              "    </tr>\n",
              "    <tr>\n",
              "      <th>1</th>\n",
              "      <td>2011</td>\n",
              "      <td>15506</td>\n",
              "      <td>17</td>\n",
              "      <td>72383</td>\n",
              "      <td>80</td>\n",
              "      <td>2609</td>\n",
              "      <td>3</td>\n",
              "    </tr>\n",
              "    <tr>\n",
              "      <th>2</th>\n",
              "      <td>2012</td>\n",
              "      <td>15384</td>\n",
              "      <td>17</td>\n",
              "      <td>71927</td>\n",
              "      <td>80</td>\n",
              "      <td>2722</td>\n",
              "      <td>3</td>\n",
              "    </tr>\n",
              "    <tr>\n",
              "      <th>3</th>\n",
              "      <td>2013</td>\n",
              "      <td>15348</td>\n",
              "      <td>17</td>\n",
              "      <td>71449</td>\n",
              "      <td>80</td>\n",
              "      <td>2796</td>\n",
              "      <td>3</td>\n",
              "    </tr>\n",
              "    <tr>\n",
              "      <th>4</th>\n",
              "      <td>2014</td>\n",
              "      <td>16185</td>\n",
              "      <td>18</td>\n",
              "      <td>70165</td>\n",
              "      <td>79</td>\n",
              "      <td>2886</td>\n",
              "      <td>3</td>\n",
              "    </tr>\n",
              "    <tr>\n",
              "      <th>5</th>\n",
              "      <td>2015</td>\n",
              "      <td>15048</td>\n",
              "      <td>17</td>\n",
              "      <td>70997</td>\n",
              "      <td>80</td>\n",
              "      <td>3004</td>\n",
              "      <td>3</td>\n",
              "    </tr>\n",
              "    <tr>\n",
              "      <th>6</th>\n",
              "      <td>2016</td>\n",
              "      <td>14967</td>\n",
              "      <td>17</td>\n",
              "      <td>71130</td>\n",
              "      <td>80</td>\n",
              "      <td>3008</td>\n",
              "      <td>3</td>\n",
              "    </tr>\n",
              "    <tr>\n",
              "      <th>7</th>\n",
              "      <td>2017</td>\n",
              "      <td>13347</td>\n",
              "      <td>15</td>\n",
              "      <td>70835</td>\n",
              "      <td>81</td>\n",
              "      <td>3215</td>\n",
              "      <td>4</td>\n",
              "    </tr>\n",
              "    <tr>\n",
              "      <th>8</th>\n",
              "      <td>2018</td>\n",
              "      <td>12262</td>\n",
              "      <td>14</td>\n",
              "      <td>70320</td>\n",
              "      <td>82</td>\n",
              "      <td>3297</td>\n",
              "      <td>4</td>\n",
              "    </tr>\n",
              "    <tr>\n",
              "      <th>9</th>\n",
              "      <td>2019</td>\n",
              "      <td>13232</td>\n",
              "      <td>15</td>\n",
              "      <td>70754</td>\n",
              "      <td>81</td>\n",
              "      <td>3239</td>\n",
              "      <td>4</td>\n",
              "    </tr>\n",
              "    <tr>\n",
              "      <th>10</th>\n",
              "      <td>2020</td>\n",
              "      <td>11155</td>\n",
              "      <td>14</td>\n",
              "      <td>65373</td>\n",
              "      <td>82</td>\n",
              "      <td>2871</td>\n",
              "      <td>4</td>\n",
              "    </tr>\n",
              "  </tbody>\n",
              "</table>\n",
              "</div>"
            ],
            "text/plain": [
              "    Year  Town Gas & Liquefied Petroleum Gas (Unit : Terajoule)  \\\n",
              "0   2010                                              15137       \n",
              "1   2011                                              15506       \n",
              "2   2012                                              15384       \n",
              "3   2013                                              15348       \n",
              "4   2014                                              16185       \n",
              "5   2015                                              15048       \n",
              "6   2016                                              14967       \n",
              "7   2017                                              13347       \n",
              "8   2018                                              12262       \n",
              "9   2019                                              13232       \n",
              "10  2020                                              11155       \n",
              "\n",
              "    Town Gas & Liquefied Petroleum Gas Percentage (%)  \\\n",
              "0                                                  17   \n",
              "1                                                  17   \n",
              "2                                                  17   \n",
              "3                                                  17   \n",
              "4                                                  18   \n",
              "5                                                  17   \n",
              "6                                                  17   \n",
              "7                                                  15   \n",
              "8                                                  14   \n",
              "9                                                  15   \n",
              "10                                                 14   \n",
              "\n",
              "    Oil & Coal Products (Unit : Terajoule)  \\\n",
              "0                                    73213   \n",
              "1                                    72383   \n",
              "2                                    71927   \n",
              "3                                    71449   \n",
              "4                                    70165   \n",
              "5                                    70997   \n",
              "6                                    71130   \n",
              "7                                    70835   \n",
              "8                                    70320   \n",
              "9                                    70754   \n",
              "10                                   65373   \n",
              "\n",
              "    Oil & Coal Products Percentage (%)  Electricity (Unit : Terajoule)  \\\n",
              "0                                   81                            2540   \n",
              "1                                   80                            2609   \n",
              "2                                   80                            2722   \n",
              "3                                   80                            2796   \n",
              "4                                   79                            2886   \n",
              "5                                   80                            3004   \n",
              "6                                   80                            3008   \n",
              "7                                   81                            3215   \n",
              "8                                   82                            3297   \n",
              "9                                   81                            3239   \n",
              "10                                  82                            2871   \n",
              "\n",
              "    Electricity Percentage (%)  \n",
              "0                            3  \n",
              "1                            3  \n",
              "2                            3  \n",
              "3                            3  \n",
              "4                            3  \n",
              "5                            3  \n",
              "6                            3  \n",
              "7                            4  \n",
              "8                            4  \n",
              "9                            4  \n",
              "10                           4  "
            ]
          },
          "execution_count": 12,
          "metadata": {},
          "output_type": "execute_result"
        }
      ],
      "source": [
        "df_transport_fuel"
      ]
    },
    {
      "cell_type": "markdown",
      "metadata": {
        "id": "pq7W7ohac05j"
      },
      "source": [
        "**Total Energy Consumption by Sector**"
      ]
    },
    {
      "cell_type": "code",
      "execution_count": 13,
      "metadata": {
        "colab": {
          "base_uri": "https://localhost:8080/"
        },
        "id": "MOX3BsL8c8V9",
        "outputId": "b9fb12ee-fec1-4886-b4f7-196acec67031"
      },
      "outputs": [
        {
          "name": "stdout",
          "output_type": "stream",
          "text": [
            "Data read successfully.\n"
          ]
        }
      ],
      "source": [
        "# Send a GET request to the API endpoint\n",
        "response = requests.get('https://api.data.gov.hk/v1/historical-archive/get-file?url=https%3A%2F%2Fwww.emsd.gov.hk%2Ffilemanager%2Fen%2Fshare%2Fenergy_efficiency%2Fenergy_end_use%2F2022%2Ftable07.csv&time=20231007-1110')\n",
        "# Check if the request was successful\n",
        "if response.status_code == 200:\n",
        "    #convert it into a file-like object\n",
        "    data_io = io.StringIO(response.text)\n",
        "\n",
        "    df_energy_sector = pd.read_csv(data_io)\n",
        "    print('Data read successfully.')\n",
        "else:\n",
        "    print(f'Request failed with status code {response.status_code}')"
      ]
    },
    {
      "cell_type": "code",
      "execution_count": 14,
      "metadata": {
        "colab": {
          "base_uri": "https://localhost:8080/",
          "height": 449
        },
        "id": "oHku9q38dfnJ",
        "outputId": "d9fee852-9e94-401a-9772-a1db11fa4730"
      },
      "outputs": [
        {
          "data": {
            "text/html": [
              "<div>\n",
              "<style scoped>\n",
              "    .dataframe tbody tr th:only-of-type {\n",
              "        vertical-align: middle;\n",
              "    }\n",
              "\n",
              "    .dataframe tbody tr th {\n",
              "        vertical-align: top;\n",
              "    }\n",
              "\n",
              "    .dataframe thead th {\n",
              "        text-align: right;\n",
              "    }\n",
              "</style>\n",
              "<table border=\"1\" class=\"dataframe\">\n",
              "  <thead>\n",
              "    <tr style=\"text-align: right;\">\n",
              "      <th></th>\n",
              "      <th>Year</th>\n",
              "      <th>Residential (Unit : Terajoule)</th>\n",
              "      <th>Residential Percentage (%)</th>\n",
              "      <th>Commercial (Unit : Terajoule)</th>\n",
              "      <th>Commercial Percentage (%)</th>\n",
              "      <th>Industrial (Unit : Terajoule)</th>\n",
              "      <th>Industrial Percentage (%)</th>\n",
              "      <th>Transport (Unit : Terajoule)</th>\n",
              "      <th>Transport Percentage (%)</th>\n",
              "    </tr>\n",
              "  </thead>\n",
              "  <tbody>\n",
              "    <tr>\n",
              "      <th>0</th>\n",
              "      <td>2010</td>\n",
              "      <td>58396</td>\n",
              "      <td>21</td>\n",
              "      <td>116391</td>\n",
              "      <td>41</td>\n",
              "      <td>16053</td>\n",
              "      <td>6</td>\n",
              "      <td>90889</td>\n",
              "      <td>32</td>\n",
              "    </tr>\n",
              "    <tr>\n",
              "      <th>1</th>\n",
              "      <td>2011</td>\n",
              "      <td>58857</td>\n",
              "      <td>21</td>\n",
              "      <td>116013</td>\n",
              "      <td>42</td>\n",
              "      <td>14155</td>\n",
              "      <td>5</td>\n",
              "      <td>90498</td>\n",
              "      <td>32</td>\n",
              "    </tr>\n",
              "    <tr>\n",
              "      <th>2</th>\n",
              "      <td>2012</td>\n",
              "      <td>60037</td>\n",
              "      <td>21</td>\n",
              "      <td>118330</td>\n",
              "      <td>42</td>\n",
              "      <td>13655</td>\n",
              "      <td>5</td>\n",
              "      <td>90033</td>\n",
              "      <td>32</td>\n",
              "    </tr>\n",
              "    <tr>\n",
              "      <th>3</th>\n",
              "      <td>2013</td>\n",
              "      <td>58582</td>\n",
              "      <td>21</td>\n",
              "      <td>118209</td>\n",
              "      <td>42</td>\n",
              "      <td>13204</td>\n",
              "      <td>5</td>\n",
              "      <td>89593</td>\n",
              "      <td>32</td>\n",
              "    </tr>\n",
              "    <tr>\n",
              "      <th>4</th>\n",
              "      <td>2014</td>\n",
              "      <td>62103</td>\n",
              "      <td>22</td>\n",
              "      <td>119617</td>\n",
              "      <td>42</td>\n",
              "      <td>13028</td>\n",
              "      <td>5</td>\n",
              "      <td>89236</td>\n",
              "      <td>31</td>\n",
              "    </tr>\n",
              "    <tr>\n",
              "      <th>5</th>\n",
              "      <td>2015</td>\n",
              "      <td>60439</td>\n",
              "      <td>21</td>\n",
              "      <td>120419</td>\n",
              "      <td>43</td>\n",
              "      <td>13054</td>\n",
              "      <td>5</td>\n",
              "      <td>89049</td>\n",
              "      <td>31</td>\n",
              "    </tr>\n",
              "    <tr>\n",
              "      <th>6</th>\n",
              "      <td>2016</td>\n",
              "      <td>61704</td>\n",
              "      <td>22</td>\n",
              "      <td>120460</td>\n",
              "      <td>42</td>\n",
              "      <td>12294</td>\n",
              "      <td>4</td>\n",
              "      <td>89105</td>\n",
              "      <td>31</td>\n",
              "    </tr>\n",
              "    <tr>\n",
              "      <th>7</th>\n",
              "      <td>2017</td>\n",
              "      <td>60476</td>\n",
              "      <td>22</td>\n",
              "      <td>120410</td>\n",
              "      <td>43</td>\n",
              "      <td>12722</td>\n",
              "      <td>5</td>\n",
              "      <td>87397</td>\n",
              "      <td>31</td>\n",
              "    </tr>\n",
              "    <tr>\n",
              "      <th>8</th>\n",
              "      <td>2018</td>\n",
              "      <td>61557</td>\n",
              "      <td>22</td>\n",
              "      <td>122222</td>\n",
              "      <td>43</td>\n",
              "      <td>12829</td>\n",
              "      <td>5</td>\n",
              "      <td>85878</td>\n",
              "      <td>30</td>\n",
              "    </tr>\n",
              "    <tr>\n",
              "      <th>9</th>\n",
              "      <td>2019</td>\n",
              "      <td>61022</td>\n",
              "      <td>22</td>\n",
              "      <td>123005</td>\n",
              "      <td>43</td>\n",
              "      <td>12274</td>\n",
              "      <td>4</td>\n",
              "      <td>87225</td>\n",
              "      <td>31</td>\n",
              "    </tr>\n",
              "    <tr>\n",
              "      <th>10</th>\n",
              "      <td>2020</td>\n",
              "      <td>66416</td>\n",
              "      <td>24</td>\n",
              "      <td>114513</td>\n",
              "      <td>42</td>\n",
              "      <td>12162</td>\n",
              "      <td>4</td>\n",
              "      <td>79399</td>\n",
              "      <td>29</td>\n",
              "    </tr>\n",
              "  </tbody>\n",
              "</table>\n",
              "</div>"
            ],
            "text/plain": [
              "    Year  Residential (Unit : Terajoule)  Residential Percentage (%)  \\\n",
              "0   2010                           58396                          21   \n",
              "1   2011                           58857                          21   \n",
              "2   2012                           60037                          21   \n",
              "3   2013                           58582                          21   \n",
              "4   2014                           62103                          22   \n",
              "5   2015                           60439                          21   \n",
              "6   2016                           61704                          22   \n",
              "7   2017                           60476                          22   \n",
              "8   2018                           61557                          22   \n",
              "9   2019                           61022                          22   \n",
              "10  2020                           66416                          24   \n",
              "\n",
              "    Commercial (Unit : Terajoule)  Commercial Percentage (%)  \\\n",
              "0                          116391                         41   \n",
              "1                          116013                         42   \n",
              "2                          118330                         42   \n",
              "3                          118209                         42   \n",
              "4                          119617                         42   \n",
              "5                          120419                         43   \n",
              "6                          120460                         42   \n",
              "7                          120410                         43   \n",
              "8                          122222                         43   \n",
              "9                          123005                         43   \n",
              "10                         114513                         42   \n",
              "\n",
              "    Industrial (Unit : Terajoule)  Industrial Percentage (%)  \\\n",
              "0                           16053                          6   \n",
              "1                           14155                          5   \n",
              "2                           13655                          5   \n",
              "3                           13204                          5   \n",
              "4                           13028                          5   \n",
              "5                           13054                          5   \n",
              "6                           12294                          4   \n",
              "7                           12722                          5   \n",
              "8                           12829                          5   \n",
              "9                           12274                          4   \n",
              "10                          12162                          4   \n",
              "\n",
              "    Transport (Unit : Terajoule)  Transport Percentage (%)  \n",
              "0                          90889                        32  \n",
              "1                          90498                        32  \n",
              "2                          90033                        32  \n",
              "3                          89593                        32  \n",
              "4                          89236                        31  \n",
              "5                          89049                        31  \n",
              "6                          89105                        31  \n",
              "7                          87397                        31  \n",
              "8                          85878                        30  \n",
              "9                          87225                        31  \n",
              "10                         79399                        29  "
            ]
          },
          "execution_count": 14,
          "metadata": {},
          "output_type": "execute_result"
        }
      ],
      "source": [
        "df_energy_sector"
      ]
    },
    {
      "cell_type": "markdown",
      "metadata": {
        "id": "6ihcYJ8meIEf"
      },
      "source": [
        "**Electricity Consumption by Sector**"
      ]
    },
    {
      "cell_type": "code",
      "execution_count": 15,
      "metadata": {
        "colab": {
          "base_uri": "https://localhost:8080/"
        },
        "id": "SpHbF6HXeHxA",
        "outputId": "68f8acb0-20fd-4074-be92-695b0e24bdd3"
      },
      "outputs": [
        {
          "name": "stdout",
          "output_type": "stream",
          "text": [
            "Data read successfully.\n"
          ]
        }
      ],
      "source": [
        "# Send a GET request to the API endpoint\n",
        "response = requests.get('https://www.emsd.gov.hk/filemanager/en/share/energy_efficiency/energy_end_use/2022/table08.csv')\n",
        "# Check if the request was successful\n",
        "if response.status_code == 200:\n",
        "    #convert it into a file-like object\n",
        "    data_io = io.StringIO(response.text)\n",
        "\n",
        "    df_electricity_sector = pd.read_csv(data_io)\n",
        "    print('Data read successfully.')\n",
        "else:\n",
        "    print(f'Request failed with status code {response.status_code}')"
      ]
    },
    {
      "cell_type": "code",
      "execution_count": 16,
      "metadata": {
        "colab": {
          "base_uri": "https://localhost:8080/",
          "height": 449
        },
        "id": "AX3KoCIpeW_f",
        "outputId": "12280e7c-7328-4d9c-d0c9-020bb8b14361"
      },
      "outputs": [
        {
          "data": {
            "text/html": [
              "<div>\n",
              "<style scoped>\n",
              "    .dataframe tbody tr th:only-of-type {\n",
              "        vertical-align: middle;\n",
              "    }\n",
              "\n",
              "    .dataframe tbody tr th {\n",
              "        vertical-align: top;\n",
              "    }\n",
              "\n",
              "    .dataframe thead th {\n",
              "        text-align: right;\n",
              "    }\n",
              "</style>\n",
              "<table border=\"1\" class=\"dataframe\">\n",
              "  <thead>\n",
              "    <tr style=\"text-align: right;\">\n",
              "      <th></th>\n",
              "      <th>Year</th>\n",
              "      <th>Residential (Unit : Terajoule)</th>\n",
              "      <th>Residential Percentage (%)</th>\n",
              "      <th>Commercial (Unit : Terajoule)</th>\n",
              "      <th>Commercial Percentage (%)</th>\n",
              "      <th>Industrial (Unit : Terajoule)</th>\n",
              "      <th>Industrial Percentage (%)</th>\n",
              "      <th>Transport (Unit : Terajoule)</th>\n",
              "      <th>Transport Percentage (%)</th>\n",
              "    </tr>\n",
              "  </thead>\n",
              "  <tbody>\n",
              "    <tr>\n",
              "      <th>0</th>\n",
              "      <td>2010</td>\n",
              "      <td>39344</td>\n",
              "      <td>26</td>\n",
              "      <td>97894</td>\n",
              "      <td>65</td>\n",
              "      <td>11082</td>\n",
              "      <td>7</td>\n",
              "      <td>2540</td>\n",
              "      <td>2</td>\n",
              "    </tr>\n",
              "    <tr>\n",
              "      <th>1</th>\n",
              "      <td>2011</td>\n",
              "      <td>39872</td>\n",
              "      <td>26</td>\n",
              "      <td>99905</td>\n",
              "      <td>66</td>\n",
              "      <td>9220</td>\n",
              "      <td>6</td>\n",
              "      <td>2609</td>\n",
              "      <td>2</td>\n",
              "    </tr>\n",
              "    <tr>\n",
              "      <th>2</th>\n",
              "      <td>2012</td>\n",
              "      <td>41189</td>\n",
              "      <td>27</td>\n",
              "      <td>102353</td>\n",
              "      <td>66</td>\n",
              "      <td>8816</td>\n",
              "      <td>6</td>\n",
              "      <td>2722</td>\n",
              "      <td>2</td>\n",
              "    </tr>\n",
              "    <tr>\n",
              "      <th>3</th>\n",
              "      <td>2013</td>\n",
              "      <td>39941</td>\n",
              "      <td>26</td>\n",
              "      <td>102221</td>\n",
              "      <td>67</td>\n",
              "      <td>8405</td>\n",
              "      <td>5</td>\n",
              "      <td>2796</td>\n",
              "      <td>2</td>\n",
              "    </tr>\n",
              "    <tr>\n",
              "      <th>4</th>\n",
              "      <td>2014</td>\n",
              "      <td>43415</td>\n",
              "      <td>27</td>\n",
              "      <td>103473</td>\n",
              "      <td>65</td>\n",
              "      <td>8374</td>\n",
              "      <td>5</td>\n",
              "      <td>2886</td>\n",
              "      <td>2</td>\n",
              "    </tr>\n",
              "    <tr>\n",
              "      <th>5</th>\n",
              "      <td>2015</td>\n",
              "      <td>42368</td>\n",
              "      <td>27</td>\n",
              "      <td>104649</td>\n",
              "      <td>66</td>\n",
              "      <td>8359</td>\n",
              "      <td>5</td>\n",
              "      <td>3004</td>\n",
              "      <td>2</td>\n",
              "    </tr>\n",
              "    <tr>\n",
              "      <th>6</th>\n",
              "      <td>2016</td>\n",
              "      <td>43120</td>\n",
              "      <td>27</td>\n",
              "      <td>104841</td>\n",
              "      <td>66</td>\n",
              "      <td>7872</td>\n",
              "      <td>5</td>\n",
              "      <td>3008</td>\n",
              "      <td>2</td>\n",
              "    </tr>\n",
              "    <tr>\n",
              "      <th>7</th>\n",
              "      <td>2017</td>\n",
              "      <td>42127</td>\n",
              "      <td>27</td>\n",
              "      <td>104672</td>\n",
              "      <td>66</td>\n",
              "      <td>7963</td>\n",
              "      <td>5</td>\n",
              "      <td>3215</td>\n",
              "      <td>2</td>\n",
              "    </tr>\n",
              "    <tr>\n",
              "      <th>8</th>\n",
              "      <td>2018</td>\n",
              "      <td>41965</td>\n",
              "      <td>26</td>\n",
              "      <td>106294</td>\n",
              "      <td>67</td>\n",
              "      <td>7938</td>\n",
              "      <td>5</td>\n",
              "      <td>3297</td>\n",
              "      <td>2</td>\n",
              "    </tr>\n",
              "    <tr>\n",
              "      <th>9</th>\n",
              "      <td>2019</td>\n",
              "      <td>42937</td>\n",
              "      <td>27</td>\n",
              "      <td>107992</td>\n",
              "      <td>67</td>\n",
              "      <td>7501</td>\n",
              "      <td>5</td>\n",
              "      <td>3239</td>\n",
              "      <td>2</td>\n",
              "    </tr>\n",
              "    <tr>\n",
              "      <th>10</th>\n",
              "      <td>2020</td>\n",
              "      <td>46675</td>\n",
              "      <td>29</td>\n",
              "      <td>102171</td>\n",
              "      <td>64</td>\n",
              "      <td>7383</td>\n",
              "      <td>5</td>\n",
              "      <td>2871</td>\n",
              "      <td>2</td>\n",
              "    </tr>\n",
              "  </tbody>\n",
              "</table>\n",
              "</div>"
            ],
            "text/plain": [
              "    Year  Residential (Unit : Terajoule)  Residential Percentage (%)  \\\n",
              "0   2010                           39344                          26   \n",
              "1   2011                           39872                          26   \n",
              "2   2012                           41189                          27   \n",
              "3   2013                           39941                          26   \n",
              "4   2014                           43415                          27   \n",
              "5   2015                           42368                          27   \n",
              "6   2016                           43120                          27   \n",
              "7   2017                           42127                          27   \n",
              "8   2018                           41965                          26   \n",
              "9   2019                           42937                          27   \n",
              "10  2020                           46675                          29   \n",
              "\n",
              "    Commercial (Unit : Terajoule)  Commercial Percentage (%)  \\\n",
              "0                           97894                         65   \n",
              "1                           99905                         66   \n",
              "2                          102353                         66   \n",
              "3                          102221                         67   \n",
              "4                          103473                         65   \n",
              "5                          104649                         66   \n",
              "6                          104841                         66   \n",
              "7                          104672                         66   \n",
              "8                          106294                         67   \n",
              "9                          107992                         67   \n",
              "10                         102171                         64   \n",
              "\n",
              "    Industrial (Unit : Terajoule)  Industrial Percentage (%)  \\\n",
              "0                           11082                          7   \n",
              "1                            9220                          6   \n",
              "2                            8816                          6   \n",
              "3                            8405                          5   \n",
              "4                            8374                          5   \n",
              "5                            8359                          5   \n",
              "6                            7872                          5   \n",
              "7                            7963                          5   \n",
              "8                            7938                          5   \n",
              "9                            7501                          5   \n",
              "10                           7383                          5   \n",
              "\n",
              "    Transport (Unit : Terajoule)  Transport Percentage (%)  \n",
              "0                           2540                         2  \n",
              "1                           2609                         2  \n",
              "2                           2722                         2  \n",
              "3                           2796                         2  \n",
              "4                           2886                         2  \n",
              "5                           3004                         2  \n",
              "6                           3008                         2  \n",
              "7                           3215                         2  \n",
              "8                           3297                         2  \n",
              "9                           3239                         2  \n",
              "10                          2871                         2  "
            ]
          },
          "execution_count": 16,
          "metadata": {},
          "output_type": "execute_result"
        }
      ],
      "source": [
        "df_electricity_sector"
      ]
    },
    {
      "cell_type": "markdown",
      "metadata": {
        "id": "OfOe2xWifqqa"
      },
      "source": [
        "**Oil & Coal Products Consumption by Sector**"
      ]
    },
    {
      "cell_type": "code",
      "execution_count": 17,
      "metadata": {
        "colab": {
          "base_uri": "https://localhost:8080/"
        },
        "id": "OmNOfSlNfnvE",
        "outputId": "18212ff3-1aad-438b-ad80-47a039695336"
      },
      "outputs": [
        {
          "name": "stdout",
          "output_type": "stream",
          "text": [
            "Data read successfully.\n"
          ]
        }
      ],
      "source": [
        "# Send a GET request to the API endpoint\n",
        "response = requests.get('https://www.emsd.gov.hk/filemanager/en/share/energy_efficiency/energy_end_use/2022/table09.csv')\n",
        "# Check if the request was successful\n",
        "if response.status_code == 200:\n",
        "    #convert it into a file-like object\n",
        "    data_io = io.StringIO(response.text)\n",
        "\n",
        "    df_oilcoal_sector = pd.read_csv(data_io)\n",
        "    print('Data read successfully.')\n",
        "else:\n",
        "    print(f'Request failed with status code {response.status_code}')"
      ]
    },
    {
      "cell_type": "code",
      "execution_count": 18,
      "metadata": {
        "colab": {
          "base_uri": "https://localhost:8080/",
          "height": 449
        },
        "id": "m27XOACZiIVs",
        "outputId": "054d3ec3-bde8-4ee3-f173-61e9769c4c9f"
      },
      "outputs": [
        {
          "data": {
            "text/html": [
              "<div>\n",
              "<style scoped>\n",
              "    .dataframe tbody tr th:only-of-type {\n",
              "        vertical-align: middle;\n",
              "    }\n",
              "\n",
              "    .dataframe tbody tr th {\n",
              "        vertical-align: top;\n",
              "    }\n",
              "\n",
              "    .dataframe thead th {\n",
              "        text-align: right;\n",
              "    }\n",
              "</style>\n",
              "<table border=\"1\" class=\"dataframe\">\n",
              "  <thead>\n",
              "    <tr style=\"text-align: right;\">\n",
              "      <th></th>\n",
              "      <th>Year</th>\n",
              "      <th>Residential (Unit : Terajoule)</th>\n",
              "      <th>Residential Percentage (%)</th>\n",
              "      <th>Commercial (Unit : Terajoule)</th>\n",
              "      <th>Commercial Percentage (%)</th>\n",
              "      <th>Industrial (Unit : Terajoule)</th>\n",
              "      <th>Industrial Percentage (%)</th>\n",
              "      <th>Transport (Unit : Terajoule)</th>\n",
              "      <th>Transport Percentage (%)</th>\n",
              "    </tr>\n",
              "  </thead>\n",
              "  <tbody>\n",
              "    <tr>\n",
              "      <th>0</th>\n",
              "      <td>2010</td>\n",
              "      <td>13</td>\n",
              "      <td>0</td>\n",
              "      <td>4526</td>\n",
              "      <td>6</td>\n",
              "      <td>4035</td>\n",
              "      <td>5</td>\n",
              "      <td>73213</td>\n",
              "      <td>90</td>\n",
              "    </tr>\n",
              "    <tr>\n",
              "      <th>1</th>\n",
              "      <td>2011</td>\n",
              "      <td>8</td>\n",
              "      <td>0</td>\n",
              "      <td>1979</td>\n",
              "      <td>3</td>\n",
              "      <td>3978</td>\n",
              "      <td>5</td>\n",
              "      <td>72383</td>\n",
              "      <td>92</td>\n",
              "    </tr>\n",
              "    <tr>\n",
              "      <th>2</th>\n",
              "      <td>2012</td>\n",
              "      <td>8</td>\n",
              "      <td>0</td>\n",
              "      <td>1696</td>\n",
              "      <td>2</td>\n",
              "      <td>3728</td>\n",
              "      <td>5</td>\n",
              "      <td>71927</td>\n",
              "      <td>93</td>\n",
              "    </tr>\n",
              "    <tr>\n",
              "      <th>3</th>\n",
              "      <td>2013</td>\n",
              "      <td>7</td>\n",
              "      <td>0</td>\n",
              "      <td>1477</td>\n",
              "      <td>2</td>\n",
              "      <td>3571</td>\n",
              "      <td>5</td>\n",
              "      <td>71449</td>\n",
              "      <td>93</td>\n",
              "    </tr>\n",
              "    <tr>\n",
              "      <th>4</th>\n",
              "      <td>2014</td>\n",
              "      <td>7</td>\n",
              "      <td>0</td>\n",
              "      <td>1431</td>\n",
              "      <td>2</td>\n",
              "      <td>3389</td>\n",
              "      <td>5</td>\n",
              "      <td>70165</td>\n",
              "      <td>94</td>\n",
              "    </tr>\n",
              "    <tr>\n",
              "      <th>5</th>\n",
              "      <td>2015</td>\n",
              "      <td>8</td>\n",
              "      <td>0</td>\n",
              "      <td>1235</td>\n",
              "      <td>2</td>\n",
              "      <td>3386</td>\n",
              "      <td>4</td>\n",
              "      <td>70997</td>\n",
              "      <td>94</td>\n",
              "    </tr>\n",
              "    <tr>\n",
              "      <th>6</th>\n",
              "      <td>2016</td>\n",
              "      <td>10</td>\n",
              "      <td>0</td>\n",
              "      <td>1019</td>\n",
              "      <td>1</td>\n",
              "      <td>3190</td>\n",
              "      <td>4</td>\n",
              "      <td>71130</td>\n",
              "      <td>94</td>\n",
              "    </tr>\n",
              "    <tr>\n",
              "      <th>7</th>\n",
              "      <td>2017</td>\n",
              "      <td>14</td>\n",
              "      <td>0</td>\n",
              "      <td>830</td>\n",
              "      <td>1</td>\n",
              "      <td>3442</td>\n",
              "      <td>5</td>\n",
              "      <td>70835</td>\n",
              "      <td>94</td>\n",
              "    </tr>\n",
              "    <tr>\n",
              "      <th>8</th>\n",
              "      <td>2018</td>\n",
              "      <td>14</td>\n",
              "      <td>0</td>\n",
              "      <td>675</td>\n",
              "      <td>1</td>\n",
              "      <td>3443</td>\n",
              "      <td>5</td>\n",
              "      <td>70320</td>\n",
              "      <td>94</td>\n",
              "    </tr>\n",
              "    <tr>\n",
              "      <th>9</th>\n",
              "      <td>2019</td>\n",
              "      <td>15</td>\n",
              "      <td>0</td>\n",
              "      <td>574</td>\n",
              "      <td>1</td>\n",
              "      <td>3177</td>\n",
              "      <td>4</td>\n",
              "      <td>70754</td>\n",
              "      <td>95</td>\n",
              "    </tr>\n",
              "    <tr>\n",
              "      <th>10</th>\n",
              "      <td>2020</td>\n",
              "      <td>15</td>\n",
              "      <td>0</td>\n",
              "      <td>498</td>\n",
              "      <td>1</td>\n",
              "      <td>3309</td>\n",
              "      <td>5</td>\n",
              "      <td>65373</td>\n",
              "      <td>94</td>\n",
              "    </tr>\n",
              "  </tbody>\n",
              "</table>\n",
              "</div>"
            ],
            "text/plain": [
              "    Year  Residential (Unit : Terajoule)  Residential Percentage (%)  \\\n",
              "0   2010                              13                           0   \n",
              "1   2011                               8                           0   \n",
              "2   2012                               8                           0   \n",
              "3   2013                               7                           0   \n",
              "4   2014                               7                           0   \n",
              "5   2015                               8                           0   \n",
              "6   2016                              10                           0   \n",
              "7   2017                              14                           0   \n",
              "8   2018                              14                           0   \n",
              "9   2019                              15                           0   \n",
              "10  2020                              15                           0   \n",
              "\n",
              "    Commercial (Unit : Terajoule)  Commercial Percentage (%)  \\\n",
              "0                            4526                          6   \n",
              "1                            1979                          3   \n",
              "2                            1696                          2   \n",
              "3                            1477                          2   \n",
              "4                            1431                          2   \n",
              "5                            1235                          2   \n",
              "6                            1019                          1   \n",
              "7                             830                          1   \n",
              "8                             675                          1   \n",
              "9                             574                          1   \n",
              "10                            498                          1   \n",
              "\n",
              "    Industrial (Unit : Terajoule)  Industrial Percentage (%)  \\\n",
              "0                            4035                          5   \n",
              "1                            3978                          5   \n",
              "2                            3728                          5   \n",
              "3                            3571                          5   \n",
              "4                            3389                          5   \n",
              "5                            3386                          4   \n",
              "6                            3190                          4   \n",
              "7                            3442                          5   \n",
              "8                            3443                          5   \n",
              "9                            3177                          4   \n",
              "10                           3309                          5   \n",
              "\n",
              "    Transport (Unit : Terajoule)  Transport Percentage (%)  \n",
              "0                          73213                        90  \n",
              "1                          72383                        92  \n",
              "2                          71927                        93  \n",
              "3                          71449                        93  \n",
              "4                          70165                        94  \n",
              "5                          70997                        94  \n",
              "6                          71130                        94  \n",
              "7                          70835                        94  \n",
              "8                          70320                        94  \n",
              "9                          70754                        95  \n",
              "10                         65373                        94  "
            ]
          },
          "execution_count": 18,
          "metadata": {},
          "output_type": "execute_result"
        }
      ],
      "source": [
        "df_oilcoal_sector"
      ]
    },
    {
      "cell_type": "markdown",
      "metadata": {
        "id": "8Z-dZarWf9Ok"
      },
      "source": [
        "**Town Gas & LPG Consumption by Sector**"
      ]
    },
    {
      "cell_type": "code",
      "execution_count": 19,
      "metadata": {
        "colab": {
          "base_uri": "https://localhost:8080/"
        },
        "id": "vgiU8WHmfonI",
        "outputId": "5b1da677-bce3-469a-ecde-537b0a1dd193"
      },
      "outputs": [
        {
          "name": "stdout",
          "output_type": "stream",
          "text": [
            "Data read successfully.\n"
          ]
        }
      ],
      "source": [
        "# Send a GET request to the API endpoint\n",
        "response = requests.get('https://www.emsd.gov.hk/filemanager/en/share/energy_efficiency/energy_end_use/2022/table10.csv')\n",
        "# Check if the request was successful\n",
        "if response.status_code == 200:\n",
        "    #convert it into a file-like object\n",
        "    data_io = io.StringIO(response.text)\n",
        "\n",
        "    df_gaslpg_sector = pd.read_csv(data_io)\n",
        "    print('Data read successfully.')\n",
        "else:\n",
        "    print(f'Request failed with status code {response.status_code}')"
      ]
    },
    {
      "cell_type": "code",
      "execution_count": 20,
      "metadata": {
        "colab": {
          "base_uri": "https://localhost:8080/",
          "height": 449
        },
        "id": "DaXxkCQmiKaU",
        "outputId": "04661e59-dc7d-40ba-defb-68c618b102f8"
      },
      "outputs": [
        {
          "data": {
            "text/html": [
              "<div>\n",
              "<style scoped>\n",
              "    .dataframe tbody tr th:only-of-type {\n",
              "        vertical-align: middle;\n",
              "    }\n",
              "\n",
              "    .dataframe tbody tr th {\n",
              "        vertical-align: top;\n",
              "    }\n",
              "\n",
              "    .dataframe thead th {\n",
              "        text-align: right;\n",
              "    }\n",
              "</style>\n",
              "<table border=\"1\" class=\"dataframe\">\n",
              "  <thead>\n",
              "    <tr style=\"text-align: right;\">\n",
              "      <th></th>\n",
              "      <th>Year</th>\n",
              "      <th>Residential (Unit : Terajoule)</th>\n",
              "      <th>Residential Percentage (%)</th>\n",
              "      <th>Commercial (Unit : Terajoule)</th>\n",
              "      <th>Commercial Percentage (%)</th>\n",
              "      <th>Industrial (Unit : Terajoule)</th>\n",
              "      <th>Industrial Percentage (%)</th>\n",
              "      <th>Transport (Unit : Terajoule)</th>\n",
              "      <th>Transport Percentage (%)</th>\n",
              "    </tr>\n",
              "  </thead>\n",
              "  <tbody>\n",
              "    <tr>\n",
              "      <th>0</th>\n",
              "      <td>2010</td>\n",
              "      <td>19038</td>\n",
              "      <td>39</td>\n",
              "      <td>13971</td>\n",
              "      <td>28</td>\n",
              "      <td>937</td>\n",
              "      <td>2</td>\n",
              "      <td>15137</td>\n",
              "      <td>31</td>\n",
              "    </tr>\n",
              "    <tr>\n",
              "      <th>1</th>\n",
              "      <td>2011</td>\n",
              "      <td>18977</td>\n",
              "      <td>38</td>\n",
              "      <td>14129</td>\n",
              "      <td>29</td>\n",
              "      <td>956</td>\n",
              "      <td>2</td>\n",
              "      <td>15506</td>\n",
              "      <td>31</td>\n",
              "    </tr>\n",
              "    <tr>\n",
              "      <th>2</th>\n",
              "      <td>2012</td>\n",
              "      <td>18841</td>\n",
              "      <td>38</td>\n",
              "      <td>14280</td>\n",
              "      <td>29</td>\n",
              "      <td>1111</td>\n",
              "      <td>2</td>\n",
              "      <td>15384</td>\n",
              "      <td>31</td>\n",
              "    </tr>\n",
              "    <tr>\n",
              "      <th>3</th>\n",
              "      <td>2013</td>\n",
              "      <td>18635</td>\n",
              "      <td>37</td>\n",
              "      <td>14512</td>\n",
              "      <td>29</td>\n",
              "      <td>1229</td>\n",
              "      <td>2</td>\n",
              "      <td>15348</td>\n",
              "      <td>31</td>\n",
              "    </tr>\n",
              "    <tr>\n",
              "      <th>4</th>\n",
              "      <td>2014</td>\n",
              "      <td>18681</td>\n",
              "      <td>37</td>\n",
              "      <td>14713</td>\n",
              "      <td>29</td>\n",
              "      <td>1264</td>\n",
              "      <td>2</td>\n",
              "      <td>16185</td>\n",
              "      <td>32</td>\n",
              "    </tr>\n",
              "    <tr>\n",
              "      <th>5</th>\n",
              "      <td>2015</td>\n",
              "      <td>18063</td>\n",
              "      <td>37</td>\n",
              "      <td>14535</td>\n",
              "      <td>30</td>\n",
              "      <td>1308</td>\n",
              "      <td>3</td>\n",
              "      <td>15048</td>\n",
              "      <td>31</td>\n",
              "    </tr>\n",
              "    <tr>\n",
              "      <th>6</th>\n",
              "      <td>2016</td>\n",
              "      <td>18574</td>\n",
              "      <td>38</td>\n",
              "      <td>14601</td>\n",
              "      <td>30</td>\n",
              "      <td>1232</td>\n",
              "      <td>2</td>\n",
              "      <td>14967</td>\n",
              "      <td>30</td>\n",
              "    </tr>\n",
              "    <tr>\n",
              "      <th>7</th>\n",
              "      <td>2017</td>\n",
              "      <td>18335</td>\n",
              "      <td>38</td>\n",
              "      <td>14908</td>\n",
              "      <td>31</td>\n",
              "      <td>1317</td>\n",
              "      <td>3</td>\n",
              "      <td>13347</td>\n",
              "      <td>28</td>\n",
              "    </tr>\n",
              "    <tr>\n",
              "      <th>8</th>\n",
              "      <td>2018</td>\n",
              "      <td>19578</td>\n",
              "      <td>40</td>\n",
              "      <td>15253</td>\n",
              "      <td>31</td>\n",
              "      <td>1448</td>\n",
              "      <td>3</td>\n",
              "      <td>12262</td>\n",
              "      <td>25</td>\n",
              "    </tr>\n",
              "    <tr>\n",
              "      <th>9</th>\n",
              "      <td>2019</td>\n",
              "      <td>18070</td>\n",
              "      <td>38</td>\n",
              "      <td>14440</td>\n",
              "      <td>31</td>\n",
              "      <td>1596</td>\n",
              "      <td>3</td>\n",
              "      <td>13232</td>\n",
              "      <td>28</td>\n",
              "    </tr>\n",
              "    <tr>\n",
              "      <th>10</th>\n",
              "      <td>2020</td>\n",
              "      <td>19726</td>\n",
              "      <td>45</td>\n",
              "      <td>11844</td>\n",
              "      <td>27</td>\n",
              "      <td>1470</td>\n",
              "      <td>3</td>\n",
              "      <td>11155</td>\n",
              "      <td>25</td>\n",
              "    </tr>\n",
              "  </tbody>\n",
              "</table>\n",
              "</div>"
            ],
            "text/plain": [
              "    Year  Residential (Unit : Terajoule)  Residential Percentage (%)  \\\n",
              "0   2010                           19038                          39   \n",
              "1   2011                           18977                          38   \n",
              "2   2012                           18841                          38   \n",
              "3   2013                           18635                          37   \n",
              "4   2014                           18681                          37   \n",
              "5   2015                           18063                          37   \n",
              "6   2016                           18574                          38   \n",
              "7   2017                           18335                          38   \n",
              "8   2018                           19578                          40   \n",
              "9   2019                           18070                          38   \n",
              "10  2020                           19726                          45   \n",
              "\n",
              "    Commercial (Unit : Terajoule)  Commercial Percentage (%)  \\\n",
              "0                           13971                         28   \n",
              "1                           14129                         29   \n",
              "2                           14280                         29   \n",
              "3                           14512                         29   \n",
              "4                           14713                         29   \n",
              "5                           14535                         30   \n",
              "6                           14601                         30   \n",
              "7                           14908                         31   \n",
              "8                           15253                         31   \n",
              "9                           14440                         31   \n",
              "10                          11844                         27   \n",
              "\n",
              "    Industrial (Unit : Terajoule)  Industrial Percentage (%)  \\\n",
              "0                             937                          2   \n",
              "1                             956                          2   \n",
              "2                            1111                          2   \n",
              "3                            1229                          2   \n",
              "4                            1264                          2   \n",
              "5                            1308                          3   \n",
              "6                            1232                          2   \n",
              "7                            1317                          3   \n",
              "8                            1448                          3   \n",
              "9                            1596                          3   \n",
              "10                           1470                          3   \n",
              "\n",
              "    Transport (Unit : Terajoule)  Transport Percentage (%)  \n",
              "0                          15137                        31  \n",
              "1                          15506                        31  \n",
              "2                          15384                        31  \n",
              "3                          15348                        31  \n",
              "4                          16185                        32  \n",
              "5                          15048                        31  \n",
              "6                          14967                        30  \n",
              "7                          13347                        28  \n",
              "8                          12262                        25  \n",
              "9                          13232                        28  \n",
              "10                         11155                        25  "
            ]
          },
          "execution_count": 20,
          "metadata": {},
          "output_type": "execute_result"
        }
      ],
      "source": [
        "df_gaslpg_sector"
      ]
    },
    {
      "cell_type": "markdown",
      "metadata": {
        "id": "PP_DUbfigAk8"
      },
      "source": [
        "**Total Energy Consumption by End-use**"
      ]
    },
    {
      "cell_type": "code",
      "execution_count": 21,
      "metadata": {
        "colab": {
          "base_uri": "https://localhost:8080/"
        },
        "id": "pMwdqEZYfpZk",
        "outputId": "715f0b63-1bb1-4bc9-b387-4db79624bd8d"
      },
      "outputs": [
        {
          "name": "stdout",
          "output_type": "stream",
          "text": [
            "Data read successfully.\n"
          ]
        }
      ],
      "source": [
        "# Send a GET request to the API endpoint\n",
        "response = requests.get('https://www.emsd.gov.hk/filemanager/en/share/energy_efficiency/energy_end_use/2022/table11.csv')\n",
        "# Check if the request was successful\n",
        "if response.status_code == 200:\n",
        "    #convert it into a file-like object\n",
        "    data_io = io.StringIO(response.text)\n",
        "\n",
        "    df_energy_enduse = pd.read_csv(data_io)\n",
        "    print('Data read successfully.')\n",
        "else:\n",
        "    print(f'Request failed with status code {response.status_code}')"
      ]
    },
    {
      "cell_type": "code",
      "execution_count": 22,
      "metadata": {
        "colab": {
          "base_uri": "https://localhost:8080/",
          "height": 513
        },
        "id": "fJGHjDr-iM3B",
        "outputId": "0c98b8ab-d837-4b1f-f1fa-1c9ee13cb423"
      },
      "outputs": [
        {
          "data": {
            "text/html": [
              "<div>\n",
              "<style scoped>\n",
              "    .dataframe tbody tr th:only-of-type {\n",
              "        vertical-align: middle;\n",
              "    }\n",
              "\n",
              "    .dataframe tbody tr th {\n",
              "        vertical-align: top;\n",
              "    }\n",
              "\n",
              "    .dataframe thead th {\n",
              "        text-align: right;\n",
              "    }\n",
              "</style>\n",
              "<table border=\"1\" class=\"dataframe\">\n",
              "  <thead>\n",
              "    <tr style=\"text-align: right;\">\n",
              "      <th></th>\n",
              "      <th>Year</th>\n",
              "      <th>Air Conditioning (Unit : Terajoule)</th>\n",
              "      <th>Air Conditioning Percentage (%)</th>\n",
              "      <th>Cooking (Unit : Terajoule)</th>\n",
              "      <th>Cooking Percentage (%)</th>\n",
              "      <th>Industrial Process/ Equipment (Unit : Terajoule)</th>\n",
              "      <th>Industrial Process/ Equipment Percentage (%)</th>\n",
              "      <th>Lighting (Unit : Terajoule)</th>\n",
              "      <th>Lighting Percentage (%)</th>\n",
              "      <th>Office Equipment (Unit : Terajoule)</th>\n",
              "      <th>...</th>\n",
              "      <th>Bus (Unit : Terajoule)</th>\n",
              "      <th>Bus Percentage (%)</th>\n",
              "      <th>Taxi (Unit : Terajoule)</th>\n",
              "      <th>Taxi Percentage (%)</th>\n",
              "      <th>Car (Unit : Terajoule)</th>\n",
              "      <th>Car Percentage (%)</th>\n",
              "      <th>Marine (Unit : Terajoule)</th>\n",
              "      <th>Marine Percentage (%)</th>\n",
              "      <th>Others (Unit : Terajoule)</th>\n",
              "      <th>Others Percentage (%)</th>\n",
              "    </tr>\n",
              "  </thead>\n",
              "  <tbody>\n",
              "    <tr>\n",
              "      <th>0</th>\n",
              "      <td>2010</td>\n",
              "      <td>45511</td>\n",
              "      <td>16</td>\n",
              "      <td>33379</td>\n",
              "      <td>12</td>\n",
              "      <td>18620</td>\n",
              "      <td>7</td>\n",
              "      <td>19563</td>\n",
              "      <td>7</td>\n",
              "      <td>11758</td>\n",
              "      <td>...</td>\n",
              "      <td>18842</td>\n",
              "      <td>7</td>\n",
              "      <td>13373</td>\n",
              "      <td>5</td>\n",
              "      <td>18247</td>\n",
              "      <td>6</td>\n",
              "      <td>8672</td>\n",
              "      <td>3</td>\n",
              "      <td>42031</td>\n",
              "      <td>15</td>\n",
              "    </tr>\n",
              "    <tr>\n",
              "      <th>1</th>\n",
              "      <td>2011</td>\n",
              "      <td>44617</td>\n",
              "      <td>16</td>\n",
              "      <td>30830</td>\n",
              "      <td>11</td>\n",
              "      <td>15452</td>\n",
              "      <td>6</td>\n",
              "      <td>18357</td>\n",
              "      <td>7</td>\n",
              "      <td>12313</td>\n",
              "      <td>...</td>\n",
              "      <td>18911</td>\n",
              "      <td>7</td>\n",
              "      <td>13593</td>\n",
              "      <td>5</td>\n",
              "      <td>18795</td>\n",
              "      <td>7</td>\n",
              "      <td>8245</td>\n",
              "      <td>3</td>\n",
              "      <td>48544</td>\n",
              "      <td>17</td>\n",
              "    </tr>\n",
              "    <tr>\n",
              "      <th>2</th>\n",
              "      <td>2012</td>\n",
              "      <td>45091</td>\n",
              "      <td>16</td>\n",
              "      <td>30876</td>\n",
              "      <td>11</td>\n",
              "      <td>15514</td>\n",
              "      <td>6</td>\n",
              "      <td>18524</td>\n",
              "      <td>7</td>\n",
              "      <td>12896</td>\n",
              "      <td>...</td>\n",
              "      <td>19128</td>\n",
              "      <td>7</td>\n",
              "      <td>13469</td>\n",
              "      <td>5</td>\n",
              "      <td>19432</td>\n",
              "      <td>7</td>\n",
              "      <td>8077</td>\n",
              "      <td>3</td>\n",
              "      <td>50636</td>\n",
              "      <td>18</td>\n",
              "    </tr>\n",
              "    <tr>\n",
              "      <th>3</th>\n",
              "      <td>2013</td>\n",
              "      <td>43834</td>\n",
              "      <td>16</td>\n",
              "      <td>32205</td>\n",
              "      <td>12</td>\n",
              "      <td>15595</td>\n",
              "      <td>6</td>\n",
              "      <td>17774</td>\n",
              "      <td>6</td>\n",
              "      <td>11825</td>\n",
              "      <td>...</td>\n",
              "      <td>19144</td>\n",
              "      <td>7</td>\n",
              "      <td>13319</td>\n",
              "      <td>5</td>\n",
              "      <td>20955</td>\n",
              "      <td>7</td>\n",
              "      <td>7739</td>\n",
              "      <td>3</td>\n",
              "      <td>50315</td>\n",
              "      <td>18</td>\n",
              "    </tr>\n",
              "    <tr>\n",
              "      <th>4</th>\n",
              "      <td>2014</td>\n",
              "      <td>47277</td>\n",
              "      <td>17</td>\n",
              "      <td>32578</td>\n",
              "      <td>11</td>\n",
              "      <td>15722</td>\n",
              "      <td>6</td>\n",
              "      <td>17365</td>\n",
              "      <td>6</td>\n",
              "      <td>11583</td>\n",
              "      <td>...</td>\n",
              "      <td>19285</td>\n",
              "      <td>7</td>\n",
              "      <td>13696</td>\n",
              "      <td>5</td>\n",
              "      <td>20641</td>\n",
              "      <td>7</td>\n",
              "      <td>7705</td>\n",
              "      <td>3</td>\n",
              "      <td>50956</td>\n",
              "      <td>18</td>\n",
              "    </tr>\n",
              "    <tr>\n",
              "      <th>5</th>\n",
              "      <td>2015</td>\n",
              "      <td>46940</td>\n",
              "      <td>17</td>\n",
              "      <td>32461</td>\n",
              "      <td>11</td>\n",
              "      <td>15857</td>\n",
              "      <td>6</td>\n",
              "      <td>16914</td>\n",
              "      <td>6</td>\n",
              "      <td>11026</td>\n",
              "      <td>...</td>\n",
              "      <td>19168</td>\n",
              "      <td>7</td>\n",
              "      <td>12437</td>\n",
              "      <td>4</td>\n",
              "      <td>21354</td>\n",
              "      <td>8</td>\n",
              "      <td>7792</td>\n",
              "      <td>3</td>\n",
              "      <td>51870</td>\n",
              "      <td>18</td>\n",
              "    </tr>\n",
              "    <tr>\n",
              "      <th>6</th>\n",
              "      <td>2016</td>\n",
              "      <td>46455</td>\n",
              "      <td>16</td>\n",
              "      <td>33208</td>\n",
              "      <td>12</td>\n",
              "      <td>15127</td>\n",
              "      <td>5</td>\n",
              "      <td>16385</td>\n",
              "      <td>6</td>\n",
              "      <td>10709</td>\n",
              "      <td>...</td>\n",
              "      <td>18918</td>\n",
              "      <td>7</td>\n",
              "      <td>12288</td>\n",
              "      <td>4</td>\n",
              "      <td>22189</td>\n",
              "      <td>8</td>\n",
              "      <td>7474</td>\n",
              "      <td>3</td>\n",
              "      <td>52893</td>\n",
              "      <td>19</td>\n",
              "    </tr>\n",
              "    <tr>\n",
              "      <th>7</th>\n",
              "      <td>2017</td>\n",
              "      <td>46410</td>\n",
              "      <td>17</td>\n",
              "      <td>33510</td>\n",
              "      <td>12</td>\n",
              "      <td>15591</td>\n",
              "      <td>6</td>\n",
              "      <td>16026</td>\n",
              "      <td>6</td>\n",
              "      <td>10233</td>\n",
              "      <td>...</td>\n",
              "      <td>18663</td>\n",
              "      <td>7</td>\n",
              "      <td>10686</td>\n",
              "      <td>4</td>\n",
              "      <td>22005</td>\n",
              "      <td>8</td>\n",
              "      <td>7459</td>\n",
              "      <td>3</td>\n",
              "      <td>41947</td>\n",
              "      <td>15</td>\n",
              "    </tr>\n",
              "    <tr>\n",
              "      <th>8</th>\n",
              "      <td>2018</td>\n",
              "      <td>48047</td>\n",
              "      <td>17</td>\n",
              "      <td>34947</td>\n",
              "      <td>12</td>\n",
              "      <td>15779</td>\n",
              "      <td>6</td>\n",
              "      <td>16255</td>\n",
              "      <td>6</td>\n",
              "      <td>10412</td>\n",
              "      <td>...</td>\n",
              "      <td>18286</td>\n",
              "      <td>6</td>\n",
              "      <td>9519</td>\n",
              "      <td>3</td>\n",
              "      <td>22421</td>\n",
              "      <td>8</td>\n",
              "      <td>7006</td>\n",
              "      <td>2</td>\n",
              "      <td>41172</td>\n",
              "      <td>15</td>\n",
              "    </tr>\n",
              "    <tr>\n",
              "      <th>9</th>\n",
              "      <td>2019</td>\n",
              "      <td>47979</td>\n",
              "      <td>17</td>\n",
              "      <td>32871</td>\n",
              "      <td>12</td>\n",
              "      <td>15107</td>\n",
              "      <td>5</td>\n",
              "      <td>16094</td>\n",
              "      <td>6</td>\n",
              "      <td>10534</td>\n",
              "      <td>...</td>\n",
              "      <td>18028</td>\n",
              "      <td>6</td>\n",
              "      <td>10463</td>\n",
              "      <td>4</td>\n",
              "      <td>22925</td>\n",
              "      <td>8</td>\n",
              "      <td>7342</td>\n",
              "      <td>3</td>\n",
              "      <td>44928</td>\n",
              "      <td>16</td>\n",
              "    </tr>\n",
              "    <tr>\n",
              "      <th>10</th>\n",
              "      <td>2020</td>\n",
              "      <td>48634</td>\n",
              "      <td>18</td>\n",
              "      <td>29668</td>\n",
              "      <td>11</td>\n",
              "      <td>14467</td>\n",
              "      <td>5</td>\n",
              "      <td>15786</td>\n",
              "      <td>6</td>\n",
              "      <td>10605</td>\n",
              "      <td>...</td>\n",
              "      <td>14811</td>\n",
              "      <td>5</td>\n",
              "      <td>8701</td>\n",
              "      <td>3</td>\n",
              "      <td>22067</td>\n",
              "      <td>8</td>\n",
              "      <td>7094</td>\n",
              "      <td>3</td>\n",
              "      <td>44320</td>\n",
              "      <td>16</td>\n",
              "    </tr>\n",
              "  </tbody>\n",
              "</table>\n",
              "<p>11 rows × 29 columns</p>\n",
              "</div>"
            ],
            "text/plain": [
              "    Year  Air Conditioning (Unit : Terajoule)  \\\n",
              "0   2010                                45511   \n",
              "1   2011                                44617   \n",
              "2   2012                                45091   \n",
              "3   2013                                43834   \n",
              "4   2014                                47277   \n",
              "5   2015                                46940   \n",
              "6   2016                                46455   \n",
              "7   2017                                46410   \n",
              "8   2018                                48047   \n",
              "9   2019                                47979   \n",
              "10  2020                                48634   \n",
              "\n",
              "    Air Conditioning Percentage (%)  Cooking (Unit : Terajoule)  \\\n",
              "0                                16                       33379   \n",
              "1                                16                       30830   \n",
              "2                                16                       30876   \n",
              "3                                16                       32205   \n",
              "4                                17                       32578   \n",
              "5                                17                       32461   \n",
              "6                                16                       33208   \n",
              "7                                17                       33510   \n",
              "8                                17                       34947   \n",
              "9                                17                       32871   \n",
              "10                               18                       29668   \n",
              "\n",
              "    Cooking Percentage (%)  Industrial Process/ Equipment (Unit : Terajoule)  \\\n",
              "0                       12                                             18620   \n",
              "1                       11                                             15452   \n",
              "2                       11                                             15514   \n",
              "3                       12                                             15595   \n",
              "4                       11                                             15722   \n",
              "5                       11                                             15857   \n",
              "6                       12                                             15127   \n",
              "7                       12                                             15591   \n",
              "8                       12                                             15779   \n",
              "9                       12                                             15107   \n",
              "10                      11                                             14467   \n",
              "\n",
              "    Industrial Process/ Equipment Percentage (%)  Lighting (Unit : Terajoule)  \\\n",
              "0                                              7                        19563   \n",
              "1                                              6                        18357   \n",
              "2                                              6                        18524   \n",
              "3                                              6                        17774   \n",
              "4                                              6                        17365   \n",
              "5                                              6                        16914   \n",
              "6                                              5                        16385   \n",
              "7                                              6                        16026   \n",
              "8                                              6                        16255   \n",
              "9                                              5                        16094   \n",
              "10                                             5                        15786   \n",
              "\n",
              "    Lighting Percentage (%)  Office Equipment (Unit : Terajoule)  ...  \\\n",
              "0                         7                                11758  ...   \n",
              "1                         7                                12313  ...   \n",
              "2                         7                                12896  ...   \n",
              "3                         6                                11825  ...   \n",
              "4                         6                                11583  ...   \n",
              "5                         6                                11026  ...   \n",
              "6                         6                                10709  ...   \n",
              "7                         6                                10233  ...   \n",
              "8                         6                                10412  ...   \n",
              "9                         6                                10534  ...   \n",
              "10                        6                                10605  ...   \n",
              "\n",
              "    Bus (Unit : Terajoule)  Bus Percentage (%)  Taxi (Unit : Terajoule)  \\\n",
              "0                    18842                   7                    13373   \n",
              "1                    18911                   7                    13593   \n",
              "2                    19128                   7                    13469   \n",
              "3                    19144                   7                    13319   \n",
              "4                    19285                   7                    13696   \n",
              "5                    19168                   7                    12437   \n",
              "6                    18918                   7                    12288   \n",
              "7                    18663                   7                    10686   \n",
              "8                    18286                   6                     9519   \n",
              "9                    18028                   6                    10463   \n",
              "10                   14811                   5                     8701   \n",
              "\n",
              "    Taxi Percentage (%)  Car (Unit : Terajoule)  Car Percentage (%)  \\\n",
              "0                     5                   18247                   6   \n",
              "1                     5                   18795                   7   \n",
              "2                     5                   19432                   7   \n",
              "3                     5                   20955                   7   \n",
              "4                     5                   20641                   7   \n",
              "5                     4                   21354                   8   \n",
              "6                     4                   22189                   8   \n",
              "7                     4                   22005                   8   \n",
              "8                     3                   22421                   8   \n",
              "9                     4                   22925                   8   \n",
              "10                    3                   22067                   8   \n",
              "\n",
              "    Marine (Unit : Terajoule)  Marine Percentage (%)  \\\n",
              "0                        8672                      3   \n",
              "1                        8245                      3   \n",
              "2                        8077                      3   \n",
              "3                        7739                      3   \n",
              "4                        7705                      3   \n",
              "5                        7792                      3   \n",
              "6                        7474                      3   \n",
              "7                        7459                      3   \n",
              "8                        7006                      2   \n",
              "9                        7342                      3   \n",
              "10                       7094                      3   \n",
              "\n",
              "    Others (Unit : Terajoule)  Others Percentage (%)  \n",
              "0                       42031                     15  \n",
              "1                       48544                     17  \n",
              "2                       50636                     18  \n",
              "3                       50315                     18  \n",
              "4                       50956                     18  \n",
              "5                       51870                     18  \n",
              "6                       52893                     19  \n",
              "7                       41947                     15  \n",
              "8                       41172                     15  \n",
              "9                       44928                     16  \n",
              "10                      44320                     16  \n",
              "\n",
              "[11 rows x 29 columns]"
            ]
          },
          "execution_count": 22,
          "metadata": {},
          "output_type": "execute_result"
        }
      ],
      "source": [
        "df_energy_enduse"
      ]
    },
    {
      "cell_type": "markdown",
      "metadata": {
        "id": "F08745tmgIyR"
      },
      "source": [
        "**Electricity Consumption by End-use**"
      ]
    },
    {
      "cell_type": "code",
      "execution_count": 23,
      "metadata": {
        "colab": {
          "base_uri": "https://localhost:8080/"
        },
        "id": "ReCtu-IXfpSU",
        "outputId": "88f2f566-6f86-4404-f3cd-3f5958ccff95"
      },
      "outputs": [
        {
          "name": "stdout",
          "output_type": "stream",
          "text": [
            "Data read successfully.\n"
          ]
        }
      ],
      "source": [
        "# Send a GET request to the API endpoint\n",
        "response = requests.get('https://www.emsd.gov.hk/filemanager/en/share/energy_efficiency/energy_end_use/2022/table12.csv')\n",
        "# Check if the request was successful\n",
        "if response.status_code == 200:\n",
        "    #convert it into a file-like object\n",
        "    data_io = io.StringIO(response.text)\n",
        "\n",
        "    df_electricity_enduse = pd.read_csv(data_io)\n",
        "    print('Data read successfully.')\n",
        "else:\n",
        "    print(f'Request failed with status code {response.status_code}')"
      ]
    },
    {
      "cell_type": "code",
      "execution_count": 24,
      "metadata": {
        "colab": {
          "base_uri": "https://localhost:8080/",
          "height": 484
        },
        "id": "mIqXu3wXiO5z",
        "outputId": "6b15f0a2-d476-4dea-9bb6-27b6dec33739"
      },
      "outputs": [
        {
          "data": {
            "text/html": [
              "<div>\n",
              "<style scoped>\n",
              "    .dataframe tbody tr th:only-of-type {\n",
              "        vertical-align: middle;\n",
              "    }\n",
              "\n",
              "    .dataframe tbody tr th {\n",
              "        vertical-align: top;\n",
              "    }\n",
              "\n",
              "    .dataframe thead th {\n",
              "        text-align: right;\n",
              "    }\n",
              "</style>\n",
              "<table border=\"1\" class=\"dataframe\">\n",
              "  <thead>\n",
              "    <tr style=\"text-align: right;\">\n",
              "      <th></th>\n",
              "      <th>Year</th>\n",
              "      <th>Air Conditioning (Unit : Terajoule)</th>\n",
              "      <th>Air Conditioning Percentage (%)</th>\n",
              "      <th>Lighting (Unit : Terajoule)</th>\n",
              "      <th>Lighting Percentage (%)</th>\n",
              "      <th>Refrigeration (Unit : Terajoule)</th>\n",
              "      <th>Refrigeration Percentage (%)</th>\n",
              "      <th>Industrial Process/ Equipment (Unit : Terajoule)</th>\n",
              "      <th>Industrial Process/ Equipment Percentage (%)</th>\n",
              "      <th>Cooking (Unit : Terajoule)</th>\n",
              "      <th>Cooking Percentage (%)</th>\n",
              "      <th>Hot Water (Unit : Terajoule)</th>\n",
              "      <th>Hot Water Percentage (%)</th>\n",
              "      <th>Office Equipment (Unit : Terajoule)</th>\n",
              "      <th>Office Equipment Percentage (%)</th>\n",
              "      <th>Vertical Transport (Unit : Terajoule)</th>\n",
              "      <th>Vertical Transport Percentage (%)</th>\n",
              "      <th>Others (Unit : Terajoule)</th>\n",
              "      <th>Others Percentage (%)</th>\n",
              "    </tr>\n",
              "  </thead>\n",
              "  <tbody>\n",
              "    <tr>\n",
              "      <th>0</th>\n",
              "      <td>2010</td>\n",
              "      <td>45511</td>\n",
              "      <td>30</td>\n",
              "      <td>19563</td>\n",
              "      <td>13</td>\n",
              "      <td>9213</td>\n",
              "      <td>6</td>\n",
              "      <td>10016</td>\n",
              "      <td>7</td>\n",
              "      <td>11430</td>\n",
              "      <td>8</td>\n",
              "      <td>5015</td>\n",
              "      <td>3</td>\n",
              "      <td>11758</td>\n",
              "      <td>8</td>\n",
              "      <td>NaN</td>\n",
              "      <td>NaN</td>\n",
              "      <td>38354</td>\n",
              "      <td>25</td>\n",
              "    </tr>\n",
              "    <tr>\n",
              "      <th>1</th>\n",
              "      <td>2011</td>\n",
              "      <td>44605</td>\n",
              "      <td>29</td>\n",
              "      <td>18357</td>\n",
              "      <td>12</td>\n",
              "      <td>8117</td>\n",
              "      <td>5</td>\n",
              "      <td>9119</td>\n",
              "      <td>6</td>\n",
              "      <td>9565</td>\n",
              "      <td>6</td>\n",
              "      <td>4701</td>\n",
              "      <td>3</td>\n",
              "      <td>12313</td>\n",
              "      <td>8</td>\n",
              "      <td>NaN</td>\n",
              "      <td>NaN</td>\n",
              "      <td>44829</td>\n",
              "      <td>30</td>\n",
              "    </tr>\n",
              "    <tr>\n",
              "      <th>2</th>\n",
              "      <td>2012</td>\n",
              "      <td>45079</td>\n",
              "      <td>29</td>\n",
              "      <td>18524</td>\n",
              "      <td>12</td>\n",
              "      <td>7723</td>\n",
              "      <td>5</td>\n",
              "      <td>8915</td>\n",
              "      <td>6</td>\n",
              "      <td>10191</td>\n",
              "      <td>7</td>\n",
              "      <td>4610</td>\n",
              "      <td>3</td>\n",
              "      <td>12896</td>\n",
              "      <td>8</td>\n",
              "      <td>NaN</td>\n",
              "      <td>NaN</td>\n",
              "      <td>47143</td>\n",
              "      <td>30</td>\n",
              "    </tr>\n",
              "    <tr>\n",
              "      <th>3</th>\n",
              "      <td>2013</td>\n",
              "      <td>43821</td>\n",
              "      <td>29</td>\n",
              "      <td>17774</td>\n",
              "      <td>12</td>\n",
              "      <td>6886</td>\n",
              "      <td>4</td>\n",
              "      <td>8837</td>\n",
              "      <td>6</td>\n",
              "      <td>12115</td>\n",
              "      <td>8</td>\n",
              "      <td>5167</td>\n",
              "      <td>3</td>\n",
              "      <td>11825</td>\n",
              "      <td>8</td>\n",
              "      <td>NaN</td>\n",
              "      <td>NaN</td>\n",
              "      <td>46939</td>\n",
              "      <td>31</td>\n",
              "    </tr>\n",
              "    <tr>\n",
              "      <th>4</th>\n",
              "      <td>2014</td>\n",
              "      <td>47264</td>\n",
              "      <td>30</td>\n",
              "      <td>17365</td>\n",
              "      <td>11</td>\n",
              "      <td>6549</td>\n",
              "      <td>4</td>\n",
              "      <td>8875</td>\n",
              "      <td>6</td>\n",
              "      <td>13023</td>\n",
              "      <td>8</td>\n",
              "      <td>5946</td>\n",
              "      <td>4</td>\n",
              "      <td>11583</td>\n",
              "      <td>7</td>\n",
              "      <td>NaN</td>\n",
              "      <td>NaN</td>\n",
              "      <td>47542</td>\n",
              "      <td>30</td>\n",
              "    </tr>\n",
              "    <tr>\n",
              "      <th>5</th>\n",
              "      <td>2015</td>\n",
              "      <td>46927</td>\n",
              "      <td>30</td>\n",
              "      <td>16914</td>\n",
              "      <td>11</td>\n",
              "      <td>5812</td>\n",
              "      <td>4</td>\n",
              "      <td>8948</td>\n",
              "      <td>6</td>\n",
              "      <td>13768</td>\n",
              "      <td>9</td>\n",
              "      <td>6267</td>\n",
              "      <td>4</td>\n",
              "      <td>11026</td>\n",
              "      <td>7</td>\n",
              "      <td>NaN</td>\n",
              "      <td>NaN</td>\n",
              "      <td>48719</td>\n",
              "      <td>31</td>\n",
              "    </tr>\n",
              "    <tr>\n",
              "      <th>6</th>\n",
              "      <td>2016</td>\n",
              "      <td>46441</td>\n",
              "      <td>29</td>\n",
              "      <td>16385</td>\n",
              "      <td>10</td>\n",
              "      <td>5176</td>\n",
              "      <td>3</td>\n",
              "      <td>8365</td>\n",
              "      <td>5</td>\n",
              "      <td>14799</td>\n",
              "      <td>9</td>\n",
              "      <td>7104</td>\n",
              "      <td>4</td>\n",
              "      <td>10709</td>\n",
              "      <td>7</td>\n",
              "      <td>NaN</td>\n",
              "      <td>NaN</td>\n",
              "      <td>49861</td>\n",
              "      <td>31</td>\n",
              "    </tr>\n",
              "    <tr>\n",
              "      <th>7</th>\n",
              "      <td>2017</td>\n",
              "      <td>46396</td>\n",
              "      <td>29</td>\n",
              "      <td>16026</td>\n",
              "      <td>10</td>\n",
              "      <td>4454</td>\n",
              "      <td>3</td>\n",
              "      <td>8322</td>\n",
              "      <td>5</td>\n",
              "      <td>15714</td>\n",
              "      <td>10</td>\n",
              "      <td>7354</td>\n",
              "      <td>5</td>\n",
              "      <td>10233</td>\n",
              "      <td>6</td>\n",
              "      <td>10313.0</td>\n",
              "      <td>7.0</td>\n",
              "      <td>39166</td>\n",
              "      <td>25</td>\n",
              "    </tr>\n",
              "    <tr>\n",
              "      <th>8</th>\n",
              "      <td>2018</td>\n",
              "      <td>48032</td>\n",
              "      <td>30</td>\n",
              "      <td>16255</td>\n",
              "      <td>10</td>\n",
              "      <td>4292</td>\n",
              "      <td>3</td>\n",
              "      <td>8365</td>\n",
              "      <td>5</td>\n",
              "      <td>16283</td>\n",
              "      <td>10</td>\n",
              "      <td>7561</td>\n",
              "      <td>5</td>\n",
              "      <td>10412</td>\n",
              "      <td>7</td>\n",
              "      <td>10073.0</td>\n",
              "      <td>6.0</td>\n",
              "      <td>38220</td>\n",
              "      <td>24</td>\n",
              "    </tr>\n",
              "    <tr>\n",
              "      <th>9</th>\n",
              "      <td>2019</td>\n",
              "      <td>47965</td>\n",
              "      <td>30</td>\n",
              "      <td>16094</td>\n",
              "      <td>10</td>\n",
              "      <td>4363</td>\n",
              "      <td>3</td>\n",
              "      <td>7869</td>\n",
              "      <td>5</td>\n",
              "      <td>15560</td>\n",
              "      <td>10</td>\n",
              "      <td>7309</td>\n",
              "      <td>5</td>\n",
              "      <td>10534</td>\n",
              "      <td>7</td>\n",
              "      <td>9566.0</td>\n",
              "      <td>6.0</td>\n",
              "      <td>42410</td>\n",
              "      <td>26</td>\n",
              "    </tr>\n",
              "    <tr>\n",
              "      <th>10</th>\n",
              "      <td>2020</td>\n",
              "      <td>48622</td>\n",
              "      <td>31</td>\n",
              "      <td>15786</td>\n",
              "      <td>10</td>\n",
              "      <td>4492</td>\n",
              "      <td>3</td>\n",
              "      <td>7391</td>\n",
              "      <td>5</td>\n",
              "      <td>13568</td>\n",
              "      <td>9</td>\n",
              "      <td>7093</td>\n",
              "      <td>4</td>\n",
              "      <td>10605</td>\n",
              "      <td>7</td>\n",
              "      <td>9417.0</td>\n",
              "      <td>6.0</td>\n",
              "      <td>42126</td>\n",
              "      <td>26</td>\n",
              "    </tr>\n",
              "  </tbody>\n",
              "</table>\n",
              "</div>"
            ],
            "text/plain": [
              "    Year  Air Conditioning (Unit : Terajoule)  \\\n",
              "0   2010                                45511   \n",
              "1   2011                                44605   \n",
              "2   2012                                45079   \n",
              "3   2013                                43821   \n",
              "4   2014                                47264   \n",
              "5   2015                                46927   \n",
              "6   2016                                46441   \n",
              "7   2017                                46396   \n",
              "8   2018                                48032   \n",
              "9   2019                                47965   \n",
              "10  2020                                48622   \n",
              "\n",
              "    Air Conditioning Percentage (%)  Lighting (Unit : Terajoule)  \\\n",
              "0                                30                        19563   \n",
              "1                                29                        18357   \n",
              "2                                29                        18524   \n",
              "3                                29                        17774   \n",
              "4                                30                        17365   \n",
              "5                                30                        16914   \n",
              "6                                29                        16385   \n",
              "7                                29                        16026   \n",
              "8                                30                        16255   \n",
              "9                                30                        16094   \n",
              "10                               31                        15786   \n",
              "\n",
              "    Lighting Percentage (%)  Refrigeration (Unit : Terajoule)  \\\n",
              "0                        13                              9213   \n",
              "1                        12                              8117   \n",
              "2                        12                              7723   \n",
              "3                        12                              6886   \n",
              "4                        11                              6549   \n",
              "5                        11                              5812   \n",
              "6                        10                              5176   \n",
              "7                        10                              4454   \n",
              "8                        10                              4292   \n",
              "9                        10                              4363   \n",
              "10                       10                              4492   \n",
              "\n",
              "    Refrigeration Percentage (%)  \\\n",
              "0                              6   \n",
              "1                              5   \n",
              "2                              5   \n",
              "3                              4   \n",
              "4                              4   \n",
              "5                              4   \n",
              "6                              3   \n",
              "7                              3   \n",
              "8                              3   \n",
              "9                              3   \n",
              "10                             3   \n",
              "\n",
              "    Industrial Process/ Equipment (Unit : Terajoule)  \\\n",
              "0                                              10016   \n",
              "1                                               9119   \n",
              "2                                               8915   \n",
              "3                                               8837   \n",
              "4                                               8875   \n",
              "5                                               8948   \n",
              "6                                               8365   \n",
              "7                                               8322   \n",
              "8                                               8365   \n",
              "9                                               7869   \n",
              "10                                              7391   \n",
              "\n",
              "    Industrial Process/ Equipment Percentage (%)  Cooking (Unit : Terajoule)  \\\n",
              "0                                              7                       11430   \n",
              "1                                              6                        9565   \n",
              "2                                              6                       10191   \n",
              "3                                              6                       12115   \n",
              "4                                              6                       13023   \n",
              "5                                              6                       13768   \n",
              "6                                              5                       14799   \n",
              "7                                              5                       15714   \n",
              "8                                              5                       16283   \n",
              "9                                              5                       15560   \n",
              "10                                             5                       13568   \n",
              "\n",
              "    Cooking Percentage (%)  Hot Water (Unit : Terajoule)  \\\n",
              "0                        8                          5015   \n",
              "1                        6                          4701   \n",
              "2                        7                          4610   \n",
              "3                        8                          5167   \n",
              "4                        8                          5946   \n",
              "5                        9                          6267   \n",
              "6                        9                          7104   \n",
              "7                       10                          7354   \n",
              "8                       10                          7561   \n",
              "9                       10                          7309   \n",
              "10                       9                          7093   \n",
              "\n",
              "    Hot Water Percentage (%)  Office Equipment (Unit : Terajoule)  \\\n",
              "0                          3                                11758   \n",
              "1                          3                                12313   \n",
              "2                          3                                12896   \n",
              "3                          3                                11825   \n",
              "4                          4                                11583   \n",
              "5                          4                                11026   \n",
              "6                          4                                10709   \n",
              "7                          5                                10233   \n",
              "8                          5                                10412   \n",
              "9                          5                                10534   \n",
              "10                         4                                10605   \n",
              "\n",
              "    Office Equipment Percentage (%)  Vertical Transport (Unit : Terajoule)  \\\n",
              "0                                 8                                    NaN   \n",
              "1                                 8                                    NaN   \n",
              "2                                 8                                    NaN   \n",
              "3                                 8                                    NaN   \n",
              "4                                 7                                    NaN   \n",
              "5                                 7                                    NaN   \n",
              "6                                 7                                    NaN   \n",
              "7                                 6                                10313.0   \n",
              "8                                 7                                10073.0   \n",
              "9                                 7                                 9566.0   \n",
              "10                                7                                 9417.0   \n",
              "\n",
              "    Vertical Transport Percentage (%)  Others (Unit : Terajoule)  \\\n",
              "0                                 NaN                      38354   \n",
              "1                                 NaN                      44829   \n",
              "2                                 NaN                      47143   \n",
              "3                                 NaN                      46939   \n",
              "4                                 NaN                      47542   \n",
              "5                                 NaN                      48719   \n",
              "6                                 NaN                      49861   \n",
              "7                                 7.0                      39166   \n",
              "8                                 6.0                      38220   \n",
              "9                                 6.0                      42410   \n",
              "10                                6.0                      42126   \n",
              "\n",
              "    Others Percentage (%)  \n",
              "0                      25  \n",
              "1                      30  \n",
              "2                      30  \n",
              "3                      31  \n",
              "4                      30  \n",
              "5                      31  \n",
              "6                      31  \n",
              "7                      25  \n",
              "8                      24  \n",
              "9                      26  \n",
              "10                     26  "
            ]
          },
          "execution_count": 24,
          "metadata": {},
          "output_type": "execute_result"
        }
      ],
      "source": [
        "df_electricity_enduse"
      ]
    },
    {
      "cell_type": "markdown",
      "metadata": {
        "id": "z25crRbsgPwT"
      },
      "source": [
        "**Oil & Coal Products Consumption by End-use**\n"
      ]
    },
    {
      "cell_type": "code",
      "execution_count": 25,
      "metadata": {
        "colab": {
          "base_uri": "https://localhost:8080/"
        },
        "id": "egZDZ0qogNvO",
        "outputId": "8b5252e1-1863-48f2-9de7-e8b3d165038c"
      },
      "outputs": [
        {
          "name": "stdout",
          "output_type": "stream",
          "text": [
            "Data read successfully.\n"
          ]
        }
      ],
      "source": [
        "# Send a GET request to the API endpoint\n",
        "response = requests.get('https://www.emsd.gov.hk/filemanager/en/share/energy_efficiency/energy_end_use/2022/table13.csv')\n",
        "# Check if the request was successful\n",
        "if response.status_code == 200:\n",
        "    #convert it into a file-like object\n",
        "    data_io = io.StringIO(response.text)\n",
        "\n",
        "    df_oilcoal_enduse = pd.read_csv(data_io)\n",
        "    print('Data read successfully.')\n",
        "else:\n",
        "    print(f'Request failed with status code {response.status_code}')"
      ]
    },
    {
      "cell_type": "code",
      "execution_count": 26,
      "metadata": {
        "colab": {
          "base_uri": "https://localhost:8080/",
          "height": 484
        },
        "id": "g3JKRqf4iYpw",
        "outputId": "fe44fd1f-dafc-4709-ccf1-ff99ef4a027f"
      },
      "outputs": [
        {
          "data": {
            "text/html": [
              "<div>\n",
              "<style scoped>\n",
              "    .dataframe tbody tr th:only-of-type {\n",
              "        vertical-align: middle;\n",
              "    }\n",
              "\n",
              "    .dataframe tbody tr th {\n",
              "        vertical-align: top;\n",
              "    }\n",
              "\n",
              "    .dataframe thead th {\n",
              "        text-align: right;\n",
              "    }\n",
              "</style>\n",
              "<table border=\"1\" class=\"dataframe\">\n",
              "  <thead>\n",
              "    <tr style=\"text-align: right;\">\n",
              "      <th></th>\n",
              "      <th>Year</th>\n",
              "      <th>Goods Vehicle (Unit : Terajoule)</th>\n",
              "      <th>Goods Vehicle Percentage (%)</th>\n",
              "      <th>Bus (Unit : Terajoule)</th>\n",
              "      <th>Bus Percentage (%)</th>\n",
              "      <th>Taxi (Unit : Terajoule)</th>\n",
              "      <th>Taxi Percentage (%)</th>\n",
              "      <th>Car (Unit : Terajoule)</th>\n",
              "      <th>Car Percentage (%)</th>\n",
              "      <th>Motorcycle (Unit : Terajoule)</th>\n",
              "      <th>Motorcycle Percentage (%)</th>\n",
              "      <th>Industrial Process/ Equipment (Unit : Terajoule)</th>\n",
              "      <th>Industrial Process/ Equipment Percentage (%)</th>\n",
              "      <th>Marine (Unit : Terajoule)</th>\n",
              "      <th>Marine Percentage (%)</th>\n",
              "      <th>Others (Unit : Terajoule)</th>\n",
              "      <th>Others Percentage (%)</th>\n",
              "    </tr>\n",
              "  </thead>\n",
              "  <tbody>\n",
              "    <tr>\n",
              "      <th>0</th>\n",
              "      <td>2010</td>\n",
              "      <td>28585</td>\n",
              "      <td>35</td>\n",
              "      <td>17077</td>\n",
              "      <td>21</td>\n",
              "      <td>1.0</td>\n",
              "      <td>0.0</td>\n",
              "      <td>18247</td>\n",
              "      <td>22</td>\n",
              "      <td>436</td>\n",
              "      <td>1</td>\n",
              "      <td>6423</td>\n",
              "      <td>8</td>\n",
              "      <td>8672</td>\n",
              "      <td>11</td>\n",
              "      <td>2346</td>\n",
              "      <td>3</td>\n",
              "    </tr>\n",
              "    <tr>\n",
              "      <th>1</th>\n",
              "      <td>2011</td>\n",
              "      <td>27818</td>\n",
              "      <td>36</td>\n",
              "      <td>16997</td>\n",
              "      <td>22</td>\n",
              "      <td>1.0</td>\n",
              "      <td>0.0</td>\n",
              "      <td>18795</td>\n",
              "      <td>24</td>\n",
              "      <td>425</td>\n",
              "      <td>1</td>\n",
              "      <td>4194</td>\n",
              "      <td>5</td>\n",
              "      <td>8245</td>\n",
              "      <td>11</td>\n",
              "      <td>1875</td>\n",
              "      <td>2</td>\n",
              "    </tr>\n",
              "    <tr>\n",
              "      <th>2</th>\n",
              "      <td>2012</td>\n",
              "      <td>26681</td>\n",
              "      <td>34</td>\n",
              "      <td>17212</td>\n",
              "      <td>22</td>\n",
              "      <td>1.0</td>\n",
              "      <td>0.0</td>\n",
              "      <td>19432</td>\n",
              "      <td>25</td>\n",
              "      <td>421</td>\n",
              "      <td>1</td>\n",
              "      <td>4067</td>\n",
              "      <td>5</td>\n",
              "      <td>8077</td>\n",
              "      <td>10</td>\n",
              "      <td>1467</td>\n",
              "      <td>2</td>\n",
              "    </tr>\n",
              "    <tr>\n",
              "      <th>3</th>\n",
              "      <td>2013</td>\n",
              "      <td>25126</td>\n",
              "      <td>33</td>\n",
              "      <td>17114</td>\n",
              "      <td>22</td>\n",
              "      <td>1.0</td>\n",
              "      <td>0.0</td>\n",
              "      <td>20955</td>\n",
              "      <td>27</td>\n",
              "      <td>411</td>\n",
              "      <td>1</td>\n",
              "      <td>3984</td>\n",
              "      <td>5</td>\n",
              "      <td>7739</td>\n",
              "      <td>10</td>\n",
              "      <td>1173</td>\n",
              "      <td>2</td>\n",
              "    </tr>\n",
              "    <tr>\n",
              "      <th>4</th>\n",
              "      <td>2014</td>\n",
              "      <td>24510</td>\n",
              "      <td>33</td>\n",
              "      <td>16795</td>\n",
              "      <td>22</td>\n",
              "      <td>1.0</td>\n",
              "      <td>0.0</td>\n",
              "      <td>20630</td>\n",
              "      <td>28</td>\n",
              "      <td>418</td>\n",
              "      <td>1</td>\n",
              "      <td>3828</td>\n",
              "      <td>5</td>\n",
              "      <td>7705</td>\n",
              "      <td>10</td>\n",
              "      <td>1105</td>\n",
              "      <td>1</td>\n",
              "    </tr>\n",
              "    <tr>\n",
              "      <th>5</th>\n",
              "      <td>2015</td>\n",
              "      <td>24782</td>\n",
              "      <td>33</td>\n",
              "      <td>16556</td>\n",
              "      <td>22</td>\n",
              "      <td>1.0</td>\n",
              "      <td>0.0</td>\n",
              "      <td>21323</td>\n",
              "      <td>28</td>\n",
              "      <td>436</td>\n",
              "      <td>1</td>\n",
              "      <td>3829</td>\n",
              "      <td>5</td>\n",
              "      <td>7792</td>\n",
              "      <td>10</td>\n",
              "      <td>908</td>\n",
              "      <td>1</td>\n",
              "    </tr>\n",
              "    <tr>\n",
              "      <th>6</th>\n",
              "      <td>2016</td>\n",
              "      <td>24718</td>\n",
              "      <td>33</td>\n",
              "      <td>16239</td>\n",
              "      <td>22</td>\n",
              "      <td>NaN</td>\n",
              "      <td>NaN</td>\n",
              "      <td>22132</td>\n",
              "      <td>29</td>\n",
              "      <td>443</td>\n",
              "      <td>1</td>\n",
              "      <td>3604</td>\n",
              "      <td>5</td>\n",
              "      <td>7474</td>\n",
              "      <td>10</td>\n",
              "      <td>739</td>\n",
              "      <td>1</td>\n",
              "    </tr>\n",
              "    <tr>\n",
              "      <th>7</th>\n",
              "      <td>2017</td>\n",
              "      <td>24845</td>\n",
              "      <td>33</td>\n",
              "      <td>16002</td>\n",
              "      <td>21</td>\n",
              "      <td>NaN</td>\n",
              "      <td>NaN</td>\n",
              "      <td>21919</td>\n",
              "      <td>29</td>\n",
              "      <td>462</td>\n",
              "      <td>1</td>\n",
              "      <td>3788</td>\n",
              "      <td>5</td>\n",
              "      <td>7459</td>\n",
              "      <td>10</td>\n",
              "      <td>646</td>\n",
              "      <td>1</td>\n",
              "    </tr>\n",
              "    <tr>\n",
              "      <th>8</th>\n",
              "      <td>2018</td>\n",
              "      <td>24837</td>\n",
              "      <td>33</td>\n",
              "      <td>15543</td>\n",
              "      <td>21</td>\n",
              "      <td>NaN</td>\n",
              "      <td>NaN</td>\n",
              "      <td>22333</td>\n",
              "      <td>30</td>\n",
              "      <td>452</td>\n",
              "      <td>1</td>\n",
              "      <td>3689</td>\n",
              "      <td>5</td>\n",
              "      <td>7006</td>\n",
              "      <td>9</td>\n",
              "      <td>592</td>\n",
              "      <td>1</td>\n",
              "    </tr>\n",
              "    <tr>\n",
              "      <th>9</th>\n",
              "      <td>2019</td>\n",
              "      <td>24735</td>\n",
              "      <td>33</td>\n",
              "      <td>15259</td>\n",
              "      <td>20</td>\n",
              "      <td>NaN</td>\n",
              "      <td>NaN</td>\n",
              "      <td>22815</td>\n",
              "      <td>31</td>\n",
              "      <td>459</td>\n",
              "      <td>1</td>\n",
              "      <td>3279</td>\n",
              "      <td>4</td>\n",
              "      <td>7342</td>\n",
              "      <td>10</td>\n",
              "      <td>631</td>\n",
              "      <td>1</td>\n",
              "    </tr>\n",
              "    <tr>\n",
              "      <th>10</th>\n",
              "      <td>2020</td>\n",
              "      <td>23261</td>\n",
              "      <td>34</td>\n",
              "      <td>12358</td>\n",
              "      <td>18</td>\n",
              "      <td>NaN</td>\n",
              "      <td>NaN</td>\n",
              "      <td>21922</td>\n",
              "      <td>32</td>\n",
              "      <td>563</td>\n",
              "      <td>1</td>\n",
              "      <td>3409</td>\n",
              "      <td>5</td>\n",
              "      <td>7094</td>\n",
              "      <td>10</td>\n",
              "      <td>588</td>\n",
              "      <td>1</td>\n",
              "    </tr>\n",
              "  </tbody>\n",
              "</table>\n",
              "</div>"
            ],
            "text/plain": [
              "    Year  Goods Vehicle (Unit : Terajoule)  Goods Vehicle Percentage (%)  \\\n",
              "0   2010                             28585                            35   \n",
              "1   2011                             27818                            36   \n",
              "2   2012                             26681                            34   \n",
              "3   2013                             25126                            33   \n",
              "4   2014                             24510                            33   \n",
              "5   2015                             24782                            33   \n",
              "6   2016                             24718                            33   \n",
              "7   2017                             24845                            33   \n",
              "8   2018                             24837                            33   \n",
              "9   2019                             24735                            33   \n",
              "10  2020                             23261                            34   \n",
              "\n",
              "    Bus (Unit : Terajoule)  Bus Percentage (%)  Taxi (Unit : Terajoule)  \\\n",
              "0                    17077                  21                      1.0   \n",
              "1                    16997                  22                      1.0   \n",
              "2                    17212                  22                      1.0   \n",
              "3                    17114                  22                      1.0   \n",
              "4                    16795                  22                      1.0   \n",
              "5                    16556                  22                      1.0   \n",
              "6                    16239                  22                      NaN   \n",
              "7                    16002                  21                      NaN   \n",
              "8                    15543                  21                      NaN   \n",
              "9                    15259                  20                      NaN   \n",
              "10                   12358                  18                      NaN   \n",
              "\n",
              "    Taxi Percentage (%)  Car (Unit : Terajoule)  Car Percentage (%)  \\\n",
              "0                   0.0                   18247                  22   \n",
              "1                   0.0                   18795                  24   \n",
              "2                   0.0                   19432                  25   \n",
              "3                   0.0                   20955                  27   \n",
              "4                   0.0                   20630                  28   \n",
              "5                   0.0                   21323                  28   \n",
              "6                   NaN                   22132                  29   \n",
              "7                   NaN                   21919                  29   \n",
              "8                   NaN                   22333                  30   \n",
              "9                   NaN                   22815                  31   \n",
              "10                  NaN                   21922                  32   \n",
              "\n",
              "    Motorcycle (Unit : Terajoule)  Motorcycle Percentage (%)  \\\n",
              "0                             436                          1   \n",
              "1                             425                          1   \n",
              "2                             421                          1   \n",
              "3                             411                          1   \n",
              "4                             418                          1   \n",
              "5                             436                          1   \n",
              "6                             443                          1   \n",
              "7                             462                          1   \n",
              "8                             452                          1   \n",
              "9                             459                          1   \n",
              "10                            563                          1   \n",
              "\n",
              "    Industrial Process/ Equipment (Unit : Terajoule)  \\\n",
              "0                                               6423   \n",
              "1                                               4194   \n",
              "2                                               4067   \n",
              "3                                               3984   \n",
              "4                                               3828   \n",
              "5                                               3829   \n",
              "6                                               3604   \n",
              "7                                               3788   \n",
              "8                                               3689   \n",
              "9                                               3279   \n",
              "10                                              3409   \n",
              "\n",
              "    Industrial Process/ Equipment Percentage (%)  Marine (Unit : Terajoule)  \\\n",
              "0                                              8                       8672   \n",
              "1                                              5                       8245   \n",
              "2                                              5                       8077   \n",
              "3                                              5                       7739   \n",
              "4                                              5                       7705   \n",
              "5                                              5                       7792   \n",
              "6                                              5                       7474   \n",
              "7                                              5                       7459   \n",
              "8                                              5                       7006   \n",
              "9                                              4                       7342   \n",
              "10                                             5                       7094   \n",
              "\n",
              "    Marine Percentage (%)  Others (Unit : Terajoule)  Others Percentage (%)  \n",
              "0                      11                       2346                      3  \n",
              "1                      11                       1875                      2  \n",
              "2                      10                       1467                      2  \n",
              "3                      10                       1173                      2  \n",
              "4                      10                       1105                      1  \n",
              "5                      10                        908                      1  \n",
              "6                      10                        739                      1  \n",
              "7                      10                        646                      1  \n",
              "8                       9                        592                      1  \n",
              "9                      10                        631                      1  \n",
              "10                     10                        588                      1  "
            ]
          },
          "execution_count": 26,
          "metadata": {},
          "output_type": "execute_result"
        }
      ],
      "source": [
        "df_oilcoal_enduse"
      ]
    },
    {
      "cell_type": "markdown",
      "metadata": {
        "id": "z_YV-XUUgUwC"
      },
      "source": [
        "**Town Gas & Liqueﬁed Petroleum Gas Consumption by End-use**"
      ]
    },
    {
      "cell_type": "code",
      "execution_count": 27,
      "metadata": {
        "colab": {
          "base_uri": "https://localhost:8080/"
        },
        "id": "VP35eXXZgYD5",
        "outputId": "68965cf7-76df-468e-e087-f094fc986f6f"
      },
      "outputs": [
        {
          "name": "stdout",
          "output_type": "stream",
          "text": [
            "Data read successfully.\n"
          ]
        }
      ],
      "source": [
        "# Send a GET request to the API endpoint\n",
        "response = requests.get('https://www.emsd.gov.hk/filemanager/en/share/energy_efficiency/energy_end_use/2022/table14.csv')\n",
        "# Check if the request was successful\n",
        "if response.status_code == 200:\n",
        "    #convert it into a file-like object\n",
        "    data_io = io.StringIO(response.text)\n",
        "\n",
        "    df_gaslpg_enduse = pd.read_csv(data_io)\n",
        "    print('Data read successfully.')\n",
        "else:\n",
        "    print(f'Request failed with status code {response.status_code}')"
      ]
    },
    {
      "cell_type": "code",
      "execution_count": 28,
      "metadata": {
        "colab": {
          "base_uri": "https://localhost:8080/",
          "height": 449
        },
        "id": "Bhw2JyvbiadJ",
        "outputId": "42b24bb7-1d65-47b8-8b60-0be862c3480f"
      },
      "outputs": [
        {
          "data": {
            "text/html": [
              "<div>\n",
              "<style scoped>\n",
              "    .dataframe tbody tr th:only-of-type {\n",
              "        vertical-align: middle;\n",
              "    }\n",
              "\n",
              "    .dataframe tbody tr th {\n",
              "        vertical-align: top;\n",
              "    }\n",
              "\n",
              "    .dataframe thead th {\n",
              "        text-align: right;\n",
              "    }\n",
              "</style>\n",
              "<table border=\"1\" class=\"dataframe\">\n",
              "  <thead>\n",
              "    <tr style=\"text-align: right;\">\n",
              "      <th></th>\n",
              "      <th>Year</th>\n",
              "      <th>Cooking (Unit : Terajoule)</th>\n",
              "      <th>Cooking Percentage (%)</th>\n",
              "      <th>Hot Water (Unit : Terajoule)</th>\n",
              "      <th>Hot Water Percentage (%)</th>\n",
              "      <th>Bus &amp; Taxi (Unit : Terajoule)</th>\n",
              "      <th>Bus &amp; Taxi Percentage (%)</th>\n",
              "      <th>Others (Unit : Terajoule)</th>\n",
              "      <th>Others Percentage (%)</th>\n",
              "    </tr>\n",
              "  </thead>\n",
              "  <tbody>\n",
              "    <tr>\n",
              "      <th>0</th>\n",
              "      <td>2010</td>\n",
              "      <td>21244</td>\n",
              "      <td>43</td>\n",
              "      <td>8921</td>\n",
              "      <td>18</td>\n",
              "      <td>15137</td>\n",
              "      <td>31</td>\n",
              "      <td>3782</td>\n",
              "      <td>8</td>\n",
              "    </tr>\n",
              "    <tr>\n",
              "      <th>1</th>\n",
              "      <td>2011</td>\n",
              "      <td>20771</td>\n",
              "      <td>42</td>\n",
              "      <td>9232</td>\n",
              "      <td>19</td>\n",
              "      <td>15505</td>\n",
              "      <td>31</td>\n",
              "      <td>4060</td>\n",
              "      <td>8</td>\n",
              "    </tr>\n",
              "    <tr>\n",
              "      <th>2</th>\n",
              "      <td>2012</td>\n",
              "      <td>20316</td>\n",
              "      <td>41</td>\n",
              "      <td>9395</td>\n",
              "      <td>19</td>\n",
              "      <td>15384</td>\n",
              "      <td>31</td>\n",
              "      <td>4521</td>\n",
              "      <td>9</td>\n",
              "    </tr>\n",
              "    <tr>\n",
              "      <th>3</th>\n",
              "      <td>2013</td>\n",
              "      <td>19751</td>\n",
              "      <td>40</td>\n",
              "      <td>9701</td>\n",
              "      <td>20</td>\n",
              "      <td>15348</td>\n",
              "      <td>31</td>\n",
              "      <td>4923</td>\n",
              "      <td>10</td>\n",
              "    </tr>\n",
              "    <tr>\n",
              "      <th>4</th>\n",
              "      <td>2014</td>\n",
              "      <td>19258</td>\n",
              "      <td>38</td>\n",
              "      <td>10166</td>\n",
              "      <td>20</td>\n",
              "      <td>16185</td>\n",
              "      <td>32</td>\n",
              "      <td>5236</td>\n",
              "      <td>10</td>\n",
              "    </tr>\n",
              "    <tr>\n",
              "      <th>5</th>\n",
              "      <td>2015</td>\n",
              "      <td>18414</td>\n",
              "      <td>38</td>\n",
              "      <td>10276</td>\n",
              "      <td>21</td>\n",
              "      <td>15048</td>\n",
              "      <td>31</td>\n",
              "      <td>5217</td>\n",
              "      <td>11</td>\n",
              "    </tr>\n",
              "    <tr>\n",
              "      <th>6</th>\n",
              "      <td>2016</td>\n",
              "      <td>18142</td>\n",
              "      <td>37</td>\n",
              "      <td>10912</td>\n",
              "      <td>22</td>\n",
              "      <td>14967</td>\n",
              "      <td>30</td>\n",
              "      <td>5353</td>\n",
              "      <td>11</td>\n",
              "    </tr>\n",
              "    <tr>\n",
              "      <th>7</th>\n",
              "      <td>2017</td>\n",
              "      <td>17551</td>\n",
              "      <td>37</td>\n",
              "      <td>11245</td>\n",
              "      <td>23</td>\n",
              "      <td>13347</td>\n",
              "      <td>28</td>\n",
              "      <td>5763</td>\n",
              "      <td>12</td>\n",
              "    </tr>\n",
              "    <tr>\n",
              "      <th>8</th>\n",
              "      <td>2018</td>\n",
              "      <td>18491</td>\n",
              "      <td>38</td>\n",
              "      <td>11613</td>\n",
              "      <td>24</td>\n",
              "      <td>12262</td>\n",
              "      <td>25</td>\n",
              "      <td>6175</td>\n",
              "      <td>13</td>\n",
              "    </tr>\n",
              "    <tr>\n",
              "      <th>9</th>\n",
              "      <td>2019</td>\n",
              "      <td>17069</td>\n",
              "      <td>36</td>\n",
              "      <td>11090</td>\n",
              "      <td>23</td>\n",
              "      <td>13232</td>\n",
              "      <td>28</td>\n",
              "      <td>5947</td>\n",
              "      <td>13</td>\n",
              "    </tr>\n",
              "    <tr>\n",
              "      <th>10</th>\n",
              "      <td>2020</td>\n",
              "      <td>15952</td>\n",
              "      <td>36</td>\n",
              "      <td>11886</td>\n",
              "      <td>27</td>\n",
              "      <td>11155</td>\n",
              "      <td>25</td>\n",
              "      <td>5201</td>\n",
              "      <td>12</td>\n",
              "    </tr>\n",
              "  </tbody>\n",
              "</table>\n",
              "</div>"
            ],
            "text/plain": [
              "    Year  Cooking (Unit : Terajoule)  Cooking Percentage (%)  \\\n",
              "0   2010                       21244                      43   \n",
              "1   2011                       20771                      42   \n",
              "2   2012                       20316                      41   \n",
              "3   2013                       19751                      40   \n",
              "4   2014                       19258                      38   \n",
              "5   2015                       18414                      38   \n",
              "6   2016                       18142                      37   \n",
              "7   2017                       17551                      37   \n",
              "8   2018                       18491                      38   \n",
              "9   2019                       17069                      36   \n",
              "10  2020                       15952                      36   \n",
              "\n",
              "    Hot Water (Unit : Terajoule)  Hot Water Percentage (%)  \\\n",
              "0                           8921                        18   \n",
              "1                           9232                        19   \n",
              "2                           9395                        19   \n",
              "3                           9701                        20   \n",
              "4                          10166                        20   \n",
              "5                          10276                        21   \n",
              "6                          10912                        22   \n",
              "7                          11245                        23   \n",
              "8                          11613                        24   \n",
              "9                          11090                        23   \n",
              "10                         11886                        27   \n",
              "\n",
              "    Bus & Taxi (Unit : Terajoule)  Bus & Taxi Percentage (%)  \\\n",
              "0                           15137                         31   \n",
              "1                           15505                         31   \n",
              "2                           15384                         31   \n",
              "3                           15348                         31   \n",
              "4                           16185                         32   \n",
              "5                           15048                         31   \n",
              "6                           14967                         30   \n",
              "7                           13347                         28   \n",
              "8                           12262                         25   \n",
              "9                           13232                         28   \n",
              "10                          11155                         25   \n",
              "\n",
              "    Others (Unit : Terajoule)  Others Percentage (%)  \n",
              "0                        3782                      8  \n",
              "1                        4060                      8  \n",
              "2                        4521                      9  \n",
              "3                        4923                     10  \n",
              "4                        5236                     10  \n",
              "5                        5217                     11  \n",
              "6                        5353                     11  \n",
              "7                        5763                     12  \n",
              "8                        6175                     13  \n",
              "9                        5947                     13  \n",
              "10                       5201                     12  "
            ]
          },
          "execution_count": 28,
          "metadata": {},
          "output_type": "execute_result"
        }
      ],
      "source": [
        "df_gaslpg_enduse"
      ]
    },
    {
      "cell_type": "markdown",
      "metadata": {
        "id": "PpPOhlIagbYB"
      },
      "source": [
        "Type of Renewable Energy in Hong Kong"
      ]
    },
    {
      "cell_type": "code",
      "execution_count": 29,
      "metadata": {
        "colab": {
          "base_uri": "https://localhost:8080/"
        },
        "id": "xS1IJtH0ggn7",
        "outputId": "f51dac6e-f892-4ab9-c002-4f993f5ea076"
      },
      "outputs": [
        {
          "name": "stdout",
          "output_type": "stream",
          "text": [
            "Data read successfully.\n"
          ]
        }
      ],
      "source": [
        "# Send a GET request to the API endpoint\n",
        "response = requests.get('https://www.emsd.gov.hk/filemanager/en/share/energy_efficiency/energy_end_use/2022/table15.csv')\n",
        "# Check if the request was successful\n",
        "if response.status_code == 200:\n",
        "    #convert it into a file-like object\n",
        "    data_io = io.StringIO(response.text)\n",
        "\n",
        "    df_energy_renewable = pd.read_csv(data_io)\n",
        "    print('Data read successfully.')\n",
        "else:\n",
        "    print(f'Request failed with status code {response.status_code}')"
      ]
    },
    {
      "cell_type": "code",
      "execution_count": 30,
      "metadata": {
        "colab": {
          "base_uri": "https://localhost:8080/",
          "height": 192
        },
        "id": "RVBsYpLEic1E",
        "outputId": "123e983f-10a3-4195-b3b6-c91c11efb813"
      },
      "outputs": [
        {
          "data": {
            "text/html": [
              "<div>\n",
              "<style scoped>\n",
              "    .dataframe tbody tr th:only-of-type {\n",
              "        vertical-align: middle;\n",
              "    }\n",
              "\n",
              "    .dataframe tbody tr th {\n",
              "        vertical-align: top;\n",
              "    }\n",
              "\n",
              "    .dataframe thead th {\n",
              "        text-align: right;\n",
              "    }\n",
              "</style>\n",
              "<table border=\"1\" class=\"dataframe\">\n",
              "  <thead>\n",
              "    <tr style=\"text-align: right;\">\n",
              "      <th></th>\n",
              "      <th>Type of Renewable Energy</th>\n",
              "      <th>Renewable Energy (Unit : Terajoule)</th>\n",
              "      <th>Renewable Energy Percentage (%)</th>\n",
              "    </tr>\n",
              "  </thead>\n",
              "  <tbody>\n",
              "    <tr>\n",
              "      <th>0</th>\n",
              "      <td>Waste-to-energy</td>\n",
              "      <td>1930</td>\n",
              "      <td>80.3</td>\n",
              "    </tr>\n",
              "    <tr>\n",
              "      <th>1</th>\n",
              "      <td>Wind Energy &amp; Hydropower</td>\n",
              "      <td>9</td>\n",
              "      <td>0.4</td>\n",
              "    </tr>\n",
              "    <tr>\n",
              "      <th>2</th>\n",
              "      <td>Solar Energy</td>\n",
              "      <td>189</td>\n",
              "      <td>7.9</td>\n",
              "    </tr>\n",
              "    <tr>\n",
              "      <th>3</th>\n",
              "      <td>Bio-diesel</td>\n",
              "      <td>276</td>\n",
              "      <td>11.5</td>\n",
              "    </tr>\n",
              "  </tbody>\n",
              "</table>\n",
              "</div>"
            ],
            "text/plain": [
              "   Type of Renewable Energy  Renewable Energy (Unit : Terajoule)  \\\n",
              "0           Waste-to-energy                                 1930   \n",
              "1  Wind Energy & Hydropower                                    9   \n",
              "2              Solar Energy                                  189   \n",
              "3                Bio-diesel                                  276   \n",
              "\n",
              "   Renewable Energy Percentage (%)  \n",
              "0                             80.3  \n",
              "1                              0.4  \n",
              "2                              7.9  \n",
              "3                             11.5  "
            ]
          },
          "execution_count": 30,
          "metadata": {},
          "output_type": "execute_result"
        }
      ],
      "source": [
        "df_energy_renewable"
      ]
    },
    {
      "cell_type": "markdown",
      "metadata": {
        "id": "2qlCXIXAgi-Q"
      },
      "source": [
        "**Type of Renewable Energy in Hong Kong by Fuel**"
      ]
    },
    {
      "cell_type": "code",
      "execution_count": 31,
      "metadata": {
        "colab": {
          "base_uri": "https://localhost:8080/"
        },
        "id": "P9NJHKC7gmgG",
        "outputId": "e0bca0b5-7f74-43df-ee19-c2f1cfad86b1"
      },
      "outputs": [
        {
          "name": "stdout",
          "output_type": "stream",
          "text": [
            "Data read successfully.\n"
          ]
        }
      ],
      "source": [
        "# Send a GET request to the API endpoint\n",
        "response = requests.get('https://www.emsd.gov.hk/filemanager/en/share/energy_efficiency/energy_end_use/2022/table16.csv')\n",
        "# Check if the request was successful\n",
        "if response.status_code == 200:\n",
        "    #convert it into a file-like object\n",
        "    data_io = io.StringIO(response.text)\n",
        "\n",
        "    df_energy_renewable_fuel = pd.read_csv(data_io)\n",
        "    print('Data read successfully.')\n",
        "else:\n",
        "    print(f'Request failed with status code {response.status_code}')"
      ]
    },
    {
      "cell_type": "code",
      "execution_count": 32,
      "metadata": {
        "colab": {
          "base_uri": "https://localhost:8080/",
          "height": 230
        },
        "id": "i0HMiKjAif7I",
        "outputId": "67bfb3e4-8e91-4908-ff2a-d324cb093029"
      },
      "outputs": [
        {
          "data": {
            "text/html": [
              "<div>\n",
              "<style scoped>\n",
              "    .dataframe tbody tr th:only-of-type {\n",
              "        vertical-align: middle;\n",
              "    }\n",
              "\n",
              "    .dataframe tbody tr th {\n",
              "        vertical-align: top;\n",
              "    }\n",
              "\n",
              "    .dataframe thead th {\n",
              "        text-align: right;\n",
              "    }\n",
              "</style>\n",
              "<table border=\"1\" class=\"dataframe\">\n",
              "  <thead>\n",
              "    <tr style=\"text-align: right;\">\n",
              "      <th></th>\n",
              "      <th>Type of Fuel</th>\n",
              "      <th>Weighting of Fuel in Energy End-use (Unit : Terajoule)</th>\n",
              "      <th>Weighting of Fuel in Energy End-use Percentage (%)</th>\n",
              "      <th>Weighting of Renewable Energy in Respective Fuel Type (Unit :Terajoule)</th>\n",
              "      <th>Weighting of Renewable Energy in Respective Fuel Type Percentage (%)</th>\n",
              "    </tr>\n",
              "  </thead>\n",
              "  <tbody>\n",
              "    <tr>\n",
              "      <th>0</th>\n",
              "      <td>Electricity</td>\n",
              "      <td>159100</td>\n",
              "      <td>58.4</td>\n",
              "      <td>608</td>\n",
              "      <td>0.4</td>\n",
              "    </tr>\n",
              "    <tr>\n",
              "      <th>1</th>\n",
              "      <td>Town Gas &amp; LPG</td>\n",
              "      <td>44195</td>\n",
              "      <td>16.2</td>\n",
              "      <td>1520</td>\n",
              "      <td>3.4</td>\n",
              "    </tr>\n",
              "    <tr>\n",
              "      <th>2</th>\n",
              "      <td>Oil &amp; Coal Products</td>\n",
              "      <td>69195</td>\n",
              "      <td>25.4</td>\n",
              "      <td>276</td>\n",
              "      <td>0.4</td>\n",
              "    </tr>\n",
              "  </tbody>\n",
              "</table>\n",
              "</div>"
            ],
            "text/plain": [
              "          Type of Fuel  \\\n",
              "0          Electricity   \n",
              "1       Town Gas & LPG   \n",
              "2  Oil & Coal Products   \n",
              "\n",
              "   Weighting of Fuel in Energy End-use (Unit : Terajoule)  \\\n",
              "0                                             159100        \n",
              "1                                              44195        \n",
              "2                                              69195        \n",
              "\n",
              "   Weighting of Fuel in Energy End-use Percentage (%)  \\\n",
              "0                                               58.4    \n",
              "1                                               16.2    \n",
              "2                                               25.4    \n",
              "\n",
              "   Weighting of Renewable Energy in Respective Fuel Type (Unit :Terajoule)  \\\n",
              "0                                                608                         \n",
              "1                                               1520                         \n",
              "2                                                276                         \n",
              "\n",
              "   Weighting of Renewable Energy in Respective Fuel Type Percentage (%)  \n",
              "0                                                0.4                     \n",
              "1                                                3.4                     \n",
              "2                                                0.4                     "
            ]
          },
          "execution_count": 32,
          "metadata": {},
          "output_type": "execute_result"
        }
      ],
      "source": [
        "df_energy_renewable_fuel"
      ]
    },
    {
      "cell_type": "code",
      "execution_count": 33,
      "metadata": {
        "id": "N9F05D4mx5CC"
      },
      "outputs": [],
      "source": [
        "dataframes = [df_overview, df_total_fuel, df_residential_fuel, df_commercial_fuel, df_industrial_fuel,\n",
        "              df_transport_fuel, df_energy_sector, df_electricity_sector, df_oilcoal_sector,\n",
        "              df_gaslpg_sector, df_energy_enduse, df_electricity_enduse, df_oilcoal_enduse,\n",
        "              df_gaslpg_enduse, df_energy_renewable, df_energy_renewable_fuel]"
      ]
    },
    {
      "cell_type": "code",
      "execution_count": 34,
      "metadata": {
        "colab": {
          "base_uri": "https://localhost:8080/"
        },
        "id": "l_6AkCIux7b5",
        "outputId": "f3418c2d-85d3-4fe3-96a2-06ac2bde1926"
      },
      "outputs": [
        {
          "name": "stdout",
          "output_type": "stream",
          "text": [
            "(11, 7)\n",
            "(11, 7)\n",
            "(11, 7)\n",
            "(11, 7)\n",
            "(11, 7)\n",
            "(11, 7)\n",
            "(11, 9)\n",
            "(11, 9)\n",
            "(11, 9)\n",
            "(11, 9)\n",
            "(11, 29)\n",
            "(11, 19)\n",
            "(11, 17)\n",
            "(11, 9)\n",
            "(4, 3)\n",
            "(3, 5)\n"
          ]
        }
      ],
      "source": [
        "for df in dataframes:\n",
        "    print(df.shape)"
      ]
    },
    {
      "cell_type": "code",
      "execution_count": 35,
      "metadata": {
        "colab": {
          "base_uri": "https://localhost:8080/"
        },
        "id": "9jzfkLh1x-tO",
        "outputId": "3d2269a8-9702-49c2-fbb0-262d4be3c26a"
      },
      "outputs": [
        {
          "name": "stdout",
          "output_type": "stream",
          "text": [
            "Year                                                  0\n",
            "Energy End-use (TJ)/ GDP (HK$ billion)                0\n",
            "Energy End-use (TJ)                                   0\n",
            "GDP in Hong Kong in chained 2020 HKD (HK$ million)    0\n",
            "Energy End-use/ Capita (GJ)                           0\n",
            "Electricity/ Capita (GJ)                              0\n",
            "Population ('000)                                     0\n",
            "dtype: int64\n",
            "Year                                                     0\n",
            "Town Gas & Liquefied Petroleum Gas (Unit : Terajoule)    0\n",
            "Town Gas & Liquefied Petroleum Gas Percentage (%)        0\n",
            "Oil & Coal Products (Unit : Terajoule)                   0\n",
            "Oil & Coal Products Percentage (%)                       0\n",
            "Electricity (Unit : Terajoule)                           0\n",
            "Electricity Percentage (%)                               0\n",
            "dtype: int64\n",
            "Year                                                     0\n",
            "Town Gas & Liquefied Petroleum Gas (Unit : Terajoule)    0\n",
            "Town Gas & Liquefied Petroleum Gas Percentage (%)        0\n",
            "Oil & Coal Products (Unit : Terajoule)                   0\n",
            "Oil & Coal Products Percentage (%)                       0\n",
            "Electricity (Unit : Terajoule)                           0\n",
            "Electricity Percentage (%)                               0\n",
            "dtype: int64\n",
            "Year                                                     0\n",
            "Town Gas & Liquefied Petroleum Gas (Unit : Terajoule)    0\n",
            "Town Gas & Liquefied Petroleum Gas Percentage (%)        0\n",
            "Oil & Coal Products (Unit : Terajoule)                   0\n",
            "Oil & Coal Products Percentage (%)                       0\n",
            "Electricity (Unit : Terajoule)                           0\n",
            "Electricity Percentage (%)                               0\n",
            "dtype: int64\n",
            "Year                                                     0\n",
            "Town Gas & Liquefied Petroleum Gas (Unit : Terajoule)    0\n",
            "Town Gas & Liquefied Petroleum Gas Percentage (%)        0\n",
            "Oil & Coal Products (Unit : Terajoule)                   0\n",
            "Oil & Coal Products Percentage (%)                       0\n",
            "Electricity (Unit : Terajoule)                           0\n",
            "Electricity Percentage (%)                               0\n",
            "dtype: int64\n",
            "Year                                                     0\n",
            "Town Gas & Liquefied Petroleum Gas (Unit : Terajoule)    0\n",
            "Town Gas & Liquefied Petroleum Gas Percentage (%)        0\n",
            "Oil & Coal Products (Unit : Terajoule)                   0\n",
            "Oil & Coal Products Percentage (%)                       0\n",
            "Electricity (Unit : Terajoule)                           0\n",
            "Electricity Percentage (%)                               0\n",
            "dtype: int64\n",
            "Year                              0\n",
            "Residential (Unit : Terajoule)    0\n",
            "Residential Percentage (%)        0\n",
            "Commercial (Unit : Terajoule)     0\n",
            "Commercial Percentage (%)         0\n",
            "Industrial (Unit : Terajoule)     0\n",
            "Industrial Percentage (%)         0\n",
            "Transport (Unit : Terajoule)      0\n",
            "Transport Percentage (%)          0\n",
            "dtype: int64\n",
            "Year                              0\n",
            "Residential (Unit : Terajoule)    0\n",
            "Residential Percentage (%)        0\n",
            "Commercial (Unit : Terajoule)     0\n",
            "Commercial Percentage (%)         0\n",
            "Industrial (Unit : Terajoule)     0\n",
            "Industrial Percentage (%)         0\n",
            "Transport (Unit : Terajoule)      0\n",
            "Transport Percentage (%)          0\n",
            "dtype: int64\n",
            "Year                              0\n",
            "Residential (Unit : Terajoule)    0\n",
            "Residential Percentage (%)        0\n",
            "Commercial (Unit : Terajoule)     0\n",
            "Commercial Percentage (%)         0\n",
            "Industrial (Unit : Terajoule)     0\n",
            "Industrial Percentage (%)         0\n",
            "Transport (Unit : Terajoule)      0\n",
            "Transport Percentage (%)          0\n",
            "dtype: int64\n",
            "Year                              0\n",
            "Residential (Unit : Terajoule)    0\n",
            "Residential Percentage (%)        0\n",
            "Commercial (Unit : Terajoule)     0\n",
            "Commercial Percentage (%)         0\n",
            "Industrial (Unit : Terajoule)     0\n",
            "Industrial Percentage (%)         0\n",
            "Transport (Unit : Terajoule)      0\n",
            "Transport Percentage (%)          0\n",
            "dtype: int64\n",
            "Year                                                0\n",
            "Air Conditioning (Unit : Terajoule)                 0\n",
            "Air Conditioning Percentage (%)                     0\n",
            "Cooking (Unit : Terajoule)                          0\n",
            "Cooking Percentage (%)                              0\n",
            "Industrial Process/ Equipment (Unit : Terajoule)    0\n",
            "Industrial Process/ Equipment Percentage (%)        0\n",
            "Lighting (Unit : Terajoule)                         0\n",
            "Lighting Percentage (%)                             0\n",
            "Office Equipment (Unit : Terajoule)                 0\n",
            "Office Equipment Percentage (%)                     0\n",
            "Refrigeration (Unit : Terajoule)                    0\n",
            "Refrigeration Percentage (%)                        0\n",
            "Hot Water (Unit : Terajoule)                        0\n",
            "Hot Water Percentage (%)                            0\n",
            "Vertical Transport (Unit : Terajoule)               7\n",
            "Vertical Transport Percentage (%)                   7\n",
            "Goods Vehicle (Unit : Terajoule)                    0\n",
            "Goods Vehicle Percentage (%)                        0\n",
            "Bus (Unit : Terajoule)                              0\n",
            "Bus Percentage (%)                                  0\n",
            "Taxi (Unit : Terajoule)                             0\n",
            "Taxi Percentage (%)                                 0\n",
            "Car (Unit : Terajoule)                              0\n",
            "Car Percentage (%)                                  0\n",
            "Marine (Unit : Terajoule)                           0\n",
            "Marine Percentage (%)                               0\n",
            "Others (Unit : Terajoule)                           0\n",
            "Others Percentage (%)                               0\n",
            "dtype: int64\n",
            "Year                                                0\n",
            "Air Conditioning (Unit : Terajoule)                 0\n",
            "Air Conditioning Percentage (%)                     0\n",
            "Lighting (Unit : Terajoule)                         0\n",
            "Lighting Percentage (%)                             0\n",
            "Refrigeration (Unit : Terajoule)                    0\n",
            "Refrigeration Percentage (%)                        0\n",
            "Industrial Process/ Equipment (Unit : Terajoule)    0\n",
            "Industrial Process/ Equipment Percentage (%)        0\n",
            "Cooking (Unit : Terajoule)                          0\n",
            "Cooking Percentage (%)                              0\n",
            "Hot Water (Unit : Terajoule)                        0\n",
            "Hot Water Percentage (%)                            0\n",
            "Office Equipment (Unit : Terajoule)                 0\n",
            "Office Equipment Percentage (%)                     0\n",
            "Vertical Transport (Unit : Terajoule)               7\n",
            "Vertical Transport Percentage (%)                   7\n",
            "Others (Unit : Terajoule)                           0\n",
            "Others Percentage (%)                               0\n",
            "dtype: int64\n",
            "Year                                                0\n",
            "Goods Vehicle (Unit : Terajoule)                    0\n",
            "Goods Vehicle Percentage (%)                        0\n",
            "Bus (Unit : Terajoule)                              0\n",
            "Bus Percentage (%)                                  0\n",
            "Taxi (Unit : Terajoule)                             5\n",
            "Taxi Percentage (%)                                 5\n",
            "Car (Unit : Terajoule)                              0\n",
            "Car Percentage (%)                                  0\n",
            "Motorcycle (Unit : Terajoule)                       0\n",
            "Motorcycle Percentage (%)                           0\n",
            "Industrial Process/ Equipment (Unit : Terajoule)    0\n",
            "Industrial Process/ Equipment Percentage (%)        0\n",
            "Marine (Unit : Terajoule)                           0\n",
            "Marine Percentage (%)                               0\n",
            "Others (Unit : Terajoule)                           0\n",
            "Others Percentage (%)                               0\n",
            "dtype: int64\n",
            "Year                             0\n",
            "Cooking (Unit : Terajoule)       0\n",
            "Cooking Percentage (%)           0\n",
            "Hot Water (Unit : Terajoule)     0\n",
            "Hot Water Percentage (%)         0\n",
            "Bus & Taxi (Unit : Terajoule)    0\n",
            "Bus & Taxi Percentage (%)        0\n",
            "Others (Unit : Terajoule)        0\n",
            "Others Percentage (%)            0\n",
            "dtype: int64\n",
            "Type of Renewable Energy               0\n",
            "Renewable Energy (Unit : Terajoule)    0\n",
            "Renewable Energy Percentage (%)        0\n",
            "dtype: int64\n",
            "Type of Fuel                                                               0\n",
            "Weighting of Fuel in Energy End-use (Unit : Terajoule)                     0\n",
            "Weighting of Fuel in Energy End-use Percentage (%)                         0\n",
            "Weighting of Renewable Energy in Respective Fuel Type (Unit :Terajoule)    0\n",
            "Weighting of Renewable Energy in Respective Fuel Type Percentage (%)       0\n",
            "dtype: int64\n"
          ]
        }
      ],
      "source": [
        "for df in dataframes:\n",
        "    print(df.isnull().sum())"
      ]
    },
    {
      "cell_type": "code",
      "execution_count": 36,
      "metadata": {
        "colab": {
          "base_uri": "https://localhost:8080/",
          "height": 542
        },
        "id": "L2UXxF7CyCKC",
        "outputId": "63361af0-a0e7-4a94-b278-60a48f5d651a"
      },
      "outputs": [
        {
          "data": {
            "application/vnd.plotly.v1+json": {
              "config": {
                "plotlyServerURL": "https://plot.ly"
              },
              "data": [
                {
                  "type": "heatmap",
                  "x": [
                    "Year",
                    "Energy End-use (TJ)/ GDP (HK$ billion)",
                    "Energy End-use (TJ)",
                    "GDP in Hong Kong in chained 2020 HKD (HK$ million)",
                    "Energy End-use/ Capita (GJ)",
                    "Electricity/ Capita (GJ)",
                    "Population ('000)"
                  ],
                  "y": [
                    "Year",
                    "Energy End-use (TJ)/ GDP (HK$ billion)",
                    "Energy End-use (TJ)",
                    "GDP in Hong Kong in chained 2020 HKD (HK$ million)",
                    "Energy End-use/ Capita (GJ)",
                    "Electricity/ Capita (GJ)",
                    "Population ('000)"
                  ],
                  "z": [
                    [
                      1,
                      -0.9343487590252231,
                      -0.2453822926744781,
                      0.8862168778706535,
                      -0.9489396513905969,
                      -0.28605745392972376,
                      0.9919886221303377
                    ],
                    [
                      -0.9343487590252231,
                      1,
                      0.020082492914328853,
                      -0.984509166021882,
                      0.8286797337500549,
                      0.21662128050335924,
                      -0.9581376821870554
                    ],
                    [
                      -0.2453822926744781,
                      0.020082492914328853,
                      1,
                      0.14273917047837595,
                      0.5338613814695787,
                      0.7011465554127291,
                      -0.1365385722306464
                    ],
                    [
                      0.8862168778706535,
                      -0.984509166021882,
                      0.14273917047837595,
                      1,
                      -0.7349704274330299,
                      -0.12608257766916198,
                      0.9287830789388462
                    ],
                    [
                      -0.9489396513905969,
                      0.8286797337500549,
                      0.5338613814695787,
                      -0.7349704274330299,
                      1,
                      0.4925139297135226,
                      -0.9104412462273439
                    ],
                    [
                      -0.28605745392972376,
                      0.21662128050335924,
                      0.7011465554127291,
                      -0.12608257766916198,
                      0.4925139297135226,
                      1,
                      -0.23641945488191787
                    ],
                    [
                      0.9919886221303377,
                      -0.9581376821870554,
                      -0.1365385722306464,
                      0.9287830789388462,
                      -0.9104412462273439,
                      -0.23641945488191787,
                      1
                    ]
                  ]
                }
              ],
              "layout": {
                "template": {
                  "data": {
                    "bar": [
                      {
                        "error_x": {
                          "color": "#2a3f5f"
                        },
                        "error_y": {
                          "color": "#2a3f5f"
                        },
                        "marker": {
                          "line": {
                            "color": "#E5ECF6",
                            "width": 0.5
                          },
                          "pattern": {
                            "fillmode": "overlay",
                            "size": 10,
                            "solidity": 0.2
                          }
                        },
                        "type": "bar"
                      }
                    ],
                    "barpolar": [
                      {
                        "marker": {
                          "line": {
                            "color": "#E5ECF6",
                            "width": 0.5
                          },
                          "pattern": {
                            "fillmode": "overlay",
                            "size": 10,
                            "solidity": 0.2
                          }
                        },
                        "type": "barpolar"
                      }
                    ],
                    "carpet": [
                      {
                        "aaxis": {
                          "endlinecolor": "#2a3f5f",
                          "gridcolor": "white",
                          "linecolor": "white",
                          "minorgridcolor": "white",
                          "startlinecolor": "#2a3f5f"
                        },
                        "baxis": {
                          "endlinecolor": "#2a3f5f",
                          "gridcolor": "white",
                          "linecolor": "white",
                          "minorgridcolor": "white",
                          "startlinecolor": "#2a3f5f"
                        },
                        "type": "carpet"
                      }
                    ],
                    "choropleth": [
                      {
                        "colorbar": {
                          "outlinewidth": 0,
                          "ticks": ""
                        },
                        "type": "choropleth"
                      }
                    ],
                    "contour": [
                      {
                        "colorbar": {
                          "outlinewidth": 0,
                          "ticks": ""
                        },
                        "colorscale": [
                          [
                            0,
                            "#0d0887"
                          ],
                          [
                            0.1111111111111111,
                            "#46039f"
                          ],
                          [
                            0.2222222222222222,
                            "#7201a8"
                          ],
                          [
                            0.3333333333333333,
                            "#9c179e"
                          ],
                          [
                            0.4444444444444444,
                            "#bd3786"
                          ],
                          [
                            0.5555555555555556,
                            "#d8576b"
                          ],
                          [
                            0.6666666666666666,
                            "#ed7953"
                          ],
                          [
                            0.7777777777777778,
                            "#fb9f3a"
                          ],
                          [
                            0.8888888888888888,
                            "#fdca26"
                          ],
                          [
                            1,
                            "#f0f921"
                          ]
                        ],
                        "type": "contour"
                      }
                    ],
                    "contourcarpet": [
                      {
                        "colorbar": {
                          "outlinewidth": 0,
                          "ticks": ""
                        },
                        "type": "contourcarpet"
                      }
                    ],
                    "heatmap": [
                      {
                        "colorbar": {
                          "outlinewidth": 0,
                          "ticks": ""
                        },
                        "colorscale": [
                          [
                            0,
                            "#0d0887"
                          ],
                          [
                            0.1111111111111111,
                            "#46039f"
                          ],
                          [
                            0.2222222222222222,
                            "#7201a8"
                          ],
                          [
                            0.3333333333333333,
                            "#9c179e"
                          ],
                          [
                            0.4444444444444444,
                            "#bd3786"
                          ],
                          [
                            0.5555555555555556,
                            "#d8576b"
                          ],
                          [
                            0.6666666666666666,
                            "#ed7953"
                          ],
                          [
                            0.7777777777777778,
                            "#fb9f3a"
                          ],
                          [
                            0.8888888888888888,
                            "#fdca26"
                          ],
                          [
                            1,
                            "#f0f921"
                          ]
                        ],
                        "type": "heatmap"
                      }
                    ],
                    "heatmapgl": [
                      {
                        "colorbar": {
                          "outlinewidth": 0,
                          "ticks": ""
                        },
                        "colorscale": [
                          [
                            0,
                            "#0d0887"
                          ],
                          [
                            0.1111111111111111,
                            "#46039f"
                          ],
                          [
                            0.2222222222222222,
                            "#7201a8"
                          ],
                          [
                            0.3333333333333333,
                            "#9c179e"
                          ],
                          [
                            0.4444444444444444,
                            "#bd3786"
                          ],
                          [
                            0.5555555555555556,
                            "#d8576b"
                          ],
                          [
                            0.6666666666666666,
                            "#ed7953"
                          ],
                          [
                            0.7777777777777778,
                            "#fb9f3a"
                          ],
                          [
                            0.8888888888888888,
                            "#fdca26"
                          ],
                          [
                            1,
                            "#f0f921"
                          ]
                        ],
                        "type": "heatmapgl"
                      }
                    ],
                    "histogram": [
                      {
                        "marker": {
                          "pattern": {
                            "fillmode": "overlay",
                            "size": 10,
                            "solidity": 0.2
                          }
                        },
                        "type": "histogram"
                      }
                    ],
                    "histogram2d": [
                      {
                        "colorbar": {
                          "outlinewidth": 0,
                          "ticks": ""
                        },
                        "colorscale": [
                          [
                            0,
                            "#0d0887"
                          ],
                          [
                            0.1111111111111111,
                            "#46039f"
                          ],
                          [
                            0.2222222222222222,
                            "#7201a8"
                          ],
                          [
                            0.3333333333333333,
                            "#9c179e"
                          ],
                          [
                            0.4444444444444444,
                            "#bd3786"
                          ],
                          [
                            0.5555555555555556,
                            "#d8576b"
                          ],
                          [
                            0.6666666666666666,
                            "#ed7953"
                          ],
                          [
                            0.7777777777777778,
                            "#fb9f3a"
                          ],
                          [
                            0.8888888888888888,
                            "#fdca26"
                          ],
                          [
                            1,
                            "#f0f921"
                          ]
                        ],
                        "type": "histogram2d"
                      }
                    ],
                    "histogram2dcontour": [
                      {
                        "colorbar": {
                          "outlinewidth": 0,
                          "ticks": ""
                        },
                        "colorscale": [
                          [
                            0,
                            "#0d0887"
                          ],
                          [
                            0.1111111111111111,
                            "#46039f"
                          ],
                          [
                            0.2222222222222222,
                            "#7201a8"
                          ],
                          [
                            0.3333333333333333,
                            "#9c179e"
                          ],
                          [
                            0.4444444444444444,
                            "#bd3786"
                          ],
                          [
                            0.5555555555555556,
                            "#d8576b"
                          ],
                          [
                            0.6666666666666666,
                            "#ed7953"
                          ],
                          [
                            0.7777777777777778,
                            "#fb9f3a"
                          ],
                          [
                            0.8888888888888888,
                            "#fdca26"
                          ],
                          [
                            1,
                            "#f0f921"
                          ]
                        ],
                        "type": "histogram2dcontour"
                      }
                    ],
                    "mesh3d": [
                      {
                        "colorbar": {
                          "outlinewidth": 0,
                          "ticks": ""
                        },
                        "type": "mesh3d"
                      }
                    ],
                    "parcoords": [
                      {
                        "line": {
                          "colorbar": {
                            "outlinewidth": 0,
                            "ticks": ""
                          }
                        },
                        "type": "parcoords"
                      }
                    ],
                    "pie": [
                      {
                        "automargin": true,
                        "type": "pie"
                      }
                    ],
                    "scatter": [
                      {
                        "fillpattern": {
                          "fillmode": "overlay",
                          "size": 10,
                          "solidity": 0.2
                        },
                        "type": "scatter"
                      }
                    ],
                    "scatter3d": [
                      {
                        "line": {
                          "colorbar": {
                            "outlinewidth": 0,
                            "ticks": ""
                          }
                        },
                        "marker": {
                          "colorbar": {
                            "outlinewidth": 0,
                            "ticks": ""
                          }
                        },
                        "type": "scatter3d"
                      }
                    ],
                    "scattercarpet": [
                      {
                        "marker": {
                          "colorbar": {
                            "outlinewidth": 0,
                            "ticks": ""
                          }
                        },
                        "type": "scattercarpet"
                      }
                    ],
                    "scattergeo": [
                      {
                        "marker": {
                          "colorbar": {
                            "outlinewidth": 0,
                            "ticks": ""
                          }
                        },
                        "type": "scattergeo"
                      }
                    ],
                    "scattergl": [
                      {
                        "marker": {
                          "colorbar": {
                            "outlinewidth": 0,
                            "ticks": ""
                          }
                        },
                        "type": "scattergl"
                      }
                    ],
                    "scattermapbox": [
                      {
                        "marker": {
                          "colorbar": {
                            "outlinewidth": 0,
                            "ticks": ""
                          }
                        },
                        "type": "scattermapbox"
                      }
                    ],
                    "scatterpolar": [
                      {
                        "marker": {
                          "colorbar": {
                            "outlinewidth": 0,
                            "ticks": ""
                          }
                        },
                        "type": "scatterpolar"
                      }
                    ],
                    "scatterpolargl": [
                      {
                        "marker": {
                          "colorbar": {
                            "outlinewidth": 0,
                            "ticks": ""
                          }
                        },
                        "type": "scatterpolargl"
                      }
                    ],
                    "scatterternary": [
                      {
                        "marker": {
                          "colorbar": {
                            "outlinewidth": 0,
                            "ticks": ""
                          }
                        },
                        "type": "scatterternary"
                      }
                    ],
                    "surface": [
                      {
                        "colorbar": {
                          "outlinewidth": 0,
                          "ticks": ""
                        },
                        "colorscale": [
                          [
                            0,
                            "#0d0887"
                          ],
                          [
                            0.1111111111111111,
                            "#46039f"
                          ],
                          [
                            0.2222222222222222,
                            "#7201a8"
                          ],
                          [
                            0.3333333333333333,
                            "#9c179e"
                          ],
                          [
                            0.4444444444444444,
                            "#bd3786"
                          ],
                          [
                            0.5555555555555556,
                            "#d8576b"
                          ],
                          [
                            0.6666666666666666,
                            "#ed7953"
                          ],
                          [
                            0.7777777777777778,
                            "#fb9f3a"
                          ],
                          [
                            0.8888888888888888,
                            "#fdca26"
                          ],
                          [
                            1,
                            "#f0f921"
                          ]
                        ],
                        "type": "surface"
                      }
                    ],
                    "table": [
                      {
                        "cells": {
                          "fill": {
                            "color": "#EBF0F8"
                          },
                          "line": {
                            "color": "white"
                          }
                        },
                        "header": {
                          "fill": {
                            "color": "#C8D4E3"
                          },
                          "line": {
                            "color": "white"
                          }
                        },
                        "type": "table"
                      }
                    ]
                  },
                  "layout": {
                    "annotationdefaults": {
                      "arrowcolor": "#2a3f5f",
                      "arrowhead": 0,
                      "arrowwidth": 1
                    },
                    "autotypenumbers": "strict",
                    "coloraxis": {
                      "colorbar": {
                        "outlinewidth": 0,
                        "ticks": ""
                      }
                    },
                    "colorscale": {
                      "diverging": [
                        [
                          0,
                          "#8e0152"
                        ],
                        [
                          0.1,
                          "#c51b7d"
                        ],
                        [
                          0.2,
                          "#de77ae"
                        ],
                        [
                          0.3,
                          "#f1b6da"
                        ],
                        [
                          0.4,
                          "#fde0ef"
                        ],
                        [
                          0.5,
                          "#f7f7f7"
                        ],
                        [
                          0.6,
                          "#e6f5d0"
                        ],
                        [
                          0.7,
                          "#b8e186"
                        ],
                        [
                          0.8,
                          "#7fbc41"
                        ],
                        [
                          0.9,
                          "#4d9221"
                        ],
                        [
                          1,
                          "#276419"
                        ]
                      ],
                      "sequential": [
                        [
                          0,
                          "#0d0887"
                        ],
                        [
                          0.1111111111111111,
                          "#46039f"
                        ],
                        [
                          0.2222222222222222,
                          "#7201a8"
                        ],
                        [
                          0.3333333333333333,
                          "#9c179e"
                        ],
                        [
                          0.4444444444444444,
                          "#bd3786"
                        ],
                        [
                          0.5555555555555556,
                          "#d8576b"
                        ],
                        [
                          0.6666666666666666,
                          "#ed7953"
                        ],
                        [
                          0.7777777777777778,
                          "#fb9f3a"
                        ],
                        [
                          0.8888888888888888,
                          "#fdca26"
                        ],
                        [
                          1,
                          "#f0f921"
                        ]
                      ],
                      "sequentialminus": [
                        [
                          0,
                          "#0d0887"
                        ],
                        [
                          0.1111111111111111,
                          "#46039f"
                        ],
                        [
                          0.2222222222222222,
                          "#7201a8"
                        ],
                        [
                          0.3333333333333333,
                          "#9c179e"
                        ],
                        [
                          0.4444444444444444,
                          "#bd3786"
                        ],
                        [
                          0.5555555555555556,
                          "#d8576b"
                        ],
                        [
                          0.6666666666666666,
                          "#ed7953"
                        ],
                        [
                          0.7777777777777778,
                          "#fb9f3a"
                        ],
                        [
                          0.8888888888888888,
                          "#fdca26"
                        ],
                        [
                          1,
                          "#f0f921"
                        ]
                      ]
                    },
                    "colorway": [
                      "#636efa",
                      "#EF553B",
                      "#00cc96",
                      "#ab63fa",
                      "#FFA15A",
                      "#19d3f3",
                      "#FF6692",
                      "#B6E880",
                      "#FF97FF",
                      "#FECB52"
                    ],
                    "font": {
                      "color": "#2a3f5f"
                    },
                    "geo": {
                      "bgcolor": "white",
                      "lakecolor": "white",
                      "landcolor": "#E5ECF6",
                      "showlakes": true,
                      "showland": true,
                      "subunitcolor": "white"
                    },
                    "hoverlabel": {
                      "align": "left"
                    },
                    "hovermode": "closest",
                    "mapbox": {
                      "style": "light"
                    },
                    "paper_bgcolor": "white",
                    "plot_bgcolor": "#E5ECF6",
                    "polar": {
                      "angularaxis": {
                        "gridcolor": "white",
                        "linecolor": "white",
                        "ticks": ""
                      },
                      "bgcolor": "#E5ECF6",
                      "radialaxis": {
                        "gridcolor": "white",
                        "linecolor": "white",
                        "ticks": ""
                      }
                    },
                    "scene": {
                      "xaxis": {
                        "backgroundcolor": "#E5ECF6",
                        "gridcolor": "white",
                        "gridwidth": 2,
                        "linecolor": "white",
                        "showbackground": true,
                        "ticks": "",
                        "zerolinecolor": "white"
                      },
                      "yaxis": {
                        "backgroundcolor": "#E5ECF6",
                        "gridcolor": "white",
                        "gridwidth": 2,
                        "linecolor": "white",
                        "showbackground": true,
                        "ticks": "",
                        "zerolinecolor": "white"
                      },
                      "zaxis": {
                        "backgroundcolor": "#E5ECF6",
                        "gridcolor": "white",
                        "gridwidth": 2,
                        "linecolor": "white",
                        "showbackground": true,
                        "ticks": "",
                        "zerolinecolor": "white"
                      }
                    },
                    "shapedefaults": {
                      "line": {
                        "color": "#2a3f5f"
                      }
                    },
                    "ternary": {
                      "aaxis": {
                        "gridcolor": "white",
                        "linecolor": "white",
                        "ticks": ""
                      },
                      "baxis": {
                        "gridcolor": "white",
                        "linecolor": "white",
                        "ticks": ""
                      },
                      "bgcolor": "#E5ECF6",
                      "caxis": {
                        "gridcolor": "white",
                        "linecolor": "white",
                        "ticks": ""
                      }
                    },
                    "title": {
                      "x": 0.05
                    },
                    "xaxis": {
                      "automargin": true,
                      "gridcolor": "white",
                      "linecolor": "white",
                      "ticks": "",
                      "title": {
                        "standoff": 15
                      },
                      "zerolinecolor": "white",
                      "zerolinewidth": 2
                    },
                    "yaxis": {
                      "automargin": true,
                      "gridcolor": "white",
                      "linecolor": "white",
                      "ticks": "",
                      "title": {
                        "standoff": 15
                      },
                      "zerolinecolor": "white",
                      "zerolinewidth": 2
                    }
                  }
                }
              }
            }
          },
          "metadata": {},
          "output_type": "display_data"
        }
      ],
      "source": [
        "import plotly.express as px\n",
        "import plotly.graph_objects as go\n",
        "import plotly.figure_factory as ff\n",
        "\n",
        "# Heatmap\n",
        "df_corr = df_overview.corr()\n",
        "fig = go.Figure(data=go.Heatmap(z=df_corr.values.tolist(), x=df_corr.columns.tolist(), y=df_corr.columns.tolist()))\n",
        "fig.show()"
      ]
    },
    {
      "cell_type": "code",
      "execution_count": 37,
      "metadata": {
        "colab": {
          "base_uri": "https://localhost:8080/",
          "height": 542
        },
        "id": "dzbU1OYWyD9n",
        "outputId": "41f2da6b-6a1d-486f-bf41-65e618eccaab"
      },
      "outputs": [
        {
          "data": {
            "application/vnd.plotly.v1+json": {
              "config": {
                "plotlyServerURL": "https://plot.ly"
              },
              "data": [
                {
                  "hovertemplate": "Year=%{x}<br>Energy End-use (TJ)=%{y}<extra></extra>",
                  "legendgroup": "",
                  "line": {
                    "color": "#636efa",
                    "dash": "solid"
                  },
                  "marker": {
                    "symbol": "circle"
                  },
                  "mode": "lines",
                  "name": "",
                  "orientation": "v",
                  "showlegend": false,
                  "type": "scatter",
                  "x": [
                    2010,
                    2011,
                    2012,
                    2013,
                    2014,
                    2015,
                    2016,
                    2017,
                    2018,
                    2019,
                    2020
                  ],
                  "xaxis": "x",
                  "y": [
                    281729,
                    279524,
                    282055,
                    279588,
                    283984,
                    282960,
                    283564,
                    281006,
                    282486,
                    283527,
                    272490
                  ],
                  "yaxis": "y"
                }
              ],
              "layout": {
                "legend": {
                  "tracegroupgap": 0
                },
                "template": {
                  "data": {
                    "bar": [
                      {
                        "error_x": {
                          "color": "#2a3f5f"
                        },
                        "error_y": {
                          "color": "#2a3f5f"
                        },
                        "marker": {
                          "line": {
                            "color": "#E5ECF6",
                            "width": 0.5
                          },
                          "pattern": {
                            "fillmode": "overlay",
                            "size": 10,
                            "solidity": 0.2
                          }
                        },
                        "type": "bar"
                      }
                    ],
                    "barpolar": [
                      {
                        "marker": {
                          "line": {
                            "color": "#E5ECF6",
                            "width": 0.5
                          },
                          "pattern": {
                            "fillmode": "overlay",
                            "size": 10,
                            "solidity": 0.2
                          }
                        },
                        "type": "barpolar"
                      }
                    ],
                    "carpet": [
                      {
                        "aaxis": {
                          "endlinecolor": "#2a3f5f",
                          "gridcolor": "white",
                          "linecolor": "white",
                          "minorgridcolor": "white",
                          "startlinecolor": "#2a3f5f"
                        },
                        "baxis": {
                          "endlinecolor": "#2a3f5f",
                          "gridcolor": "white",
                          "linecolor": "white",
                          "minorgridcolor": "white",
                          "startlinecolor": "#2a3f5f"
                        },
                        "type": "carpet"
                      }
                    ],
                    "choropleth": [
                      {
                        "colorbar": {
                          "outlinewidth": 0,
                          "ticks": ""
                        },
                        "type": "choropleth"
                      }
                    ],
                    "contour": [
                      {
                        "colorbar": {
                          "outlinewidth": 0,
                          "ticks": ""
                        },
                        "colorscale": [
                          [
                            0,
                            "#0d0887"
                          ],
                          [
                            0.1111111111111111,
                            "#46039f"
                          ],
                          [
                            0.2222222222222222,
                            "#7201a8"
                          ],
                          [
                            0.3333333333333333,
                            "#9c179e"
                          ],
                          [
                            0.4444444444444444,
                            "#bd3786"
                          ],
                          [
                            0.5555555555555556,
                            "#d8576b"
                          ],
                          [
                            0.6666666666666666,
                            "#ed7953"
                          ],
                          [
                            0.7777777777777778,
                            "#fb9f3a"
                          ],
                          [
                            0.8888888888888888,
                            "#fdca26"
                          ],
                          [
                            1,
                            "#f0f921"
                          ]
                        ],
                        "type": "contour"
                      }
                    ],
                    "contourcarpet": [
                      {
                        "colorbar": {
                          "outlinewidth": 0,
                          "ticks": ""
                        },
                        "type": "contourcarpet"
                      }
                    ],
                    "heatmap": [
                      {
                        "colorbar": {
                          "outlinewidth": 0,
                          "ticks": ""
                        },
                        "colorscale": [
                          [
                            0,
                            "#0d0887"
                          ],
                          [
                            0.1111111111111111,
                            "#46039f"
                          ],
                          [
                            0.2222222222222222,
                            "#7201a8"
                          ],
                          [
                            0.3333333333333333,
                            "#9c179e"
                          ],
                          [
                            0.4444444444444444,
                            "#bd3786"
                          ],
                          [
                            0.5555555555555556,
                            "#d8576b"
                          ],
                          [
                            0.6666666666666666,
                            "#ed7953"
                          ],
                          [
                            0.7777777777777778,
                            "#fb9f3a"
                          ],
                          [
                            0.8888888888888888,
                            "#fdca26"
                          ],
                          [
                            1,
                            "#f0f921"
                          ]
                        ],
                        "type": "heatmap"
                      }
                    ],
                    "heatmapgl": [
                      {
                        "colorbar": {
                          "outlinewidth": 0,
                          "ticks": ""
                        },
                        "colorscale": [
                          [
                            0,
                            "#0d0887"
                          ],
                          [
                            0.1111111111111111,
                            "#46039f"
                          ],
                          [
                            0.2222222222222222,
                            "#7201a8"
                          ],
                          [
                            0.3333333333333333,
                            "#9c179e"
                          ],
                          [
                            0.4444444444444444,
                            "#bd3786"
                          ],
                          [
                            0.5555555555555556,
                            "#d8576b"
                          ],
                          [
                            0.6666666666666666,
                            "#ed7953"
                          ],
                          [
                            0.7777777777777778,
                            "#fb9f3a"
                          ],
                          [
                            0.8888888888888888,
                            "#fdca26"
                          ],
                          [
                            1,
                            "#f0f921"
                          ]
                        ],
                        "type": "heatmapgl"
                      }
                    ],
                    "histogram": [
                      {
                        "marker": {
                          "pattern": {
                            "fillmode": "overlay",
                            "size": 10,
                            "solidity": 0.2
                          }
                        },
                        "type": "histogram"
                      }
                    ],
                    "histogram2d": [
                      {
                        "colorbar": {
                          "outlinewidth": 0,
                          "ticks": ""
                        },
                        "colorscale": [
                          [
                            0,
                            "#0d0887"
                          ],
                          [
                            0.1111111111111111,
                            "#46039f"
                          ],
                          [
                            0.2222222222222222,
                            "#7201a8"
                          ],
                          [
                            0.3333333333333333,
                            "#9c179e"
                          ],
                          [
                            0.4444444444444444,
                            "#bd3786"
                          ],
                          [
                            0.5555555555555556,
                            "#d8576b"
                          ],
                          [
                            0.6666666666666666,
                            "#ed7953"
                          ],
                          [
                            0.7777777777777778,
                            "#fb9f3a"
                          ],
                          [
                            0.8888888888888888,
                            "#fdca26"
                          ],
                          [
                            1,
                            "#f0f921"
                          ]
                        ],
                        "type": "histogram2d"
                      }
                    ],
                    "histogram2dcontour": [
                      {
                        "colorbar": {
                          "outlinewidth": 0,
                          "ticks": ""
                        },
                        "colorscale": [
                          [
                            0,
                            "#0d0887"
                          ],
                          [
                            0.1111111111111111,
                            "#46039f"
                          ],
                          [
                            0.2222222222222222,
                            "#7201a8"
                          ],
                          [
                            0.3333333333333333,
                            "#9c179e"
                          ],
                          [
                            0.4444444444444444,
                            "#bd3786"
                          ],
                          [
                            0.5555555555555556,
                            "#d8576b"
                          ],
                          [
                            0.6666666666666666,
                            "#ed7953"
                          ],
                          [
                            0.7777777777777778,
                            "#fb9f3a"
                          ],
                          [
                            0.8888888888888888,
                            "#fdca26"
                          ],
                          [
                            1,
                            "#f0f921"
                          ]
                        ],
                        "type": "histogram2dcontour"
                      }
                    ],
                    "mesh3d": [
                      {
                        "colorbar": {
                          "outlinewidth": 0,
                          "ticks": ""
                        },
                        "type": "mesh3d"
                      }
                    ],
                    "parcoords": [
                      {
                        "line": {
                          "colorbar": {
                            "outlinewidth": 0,
                            "ticks": ""
                          }
                        },
                        "type": "parcoords"
                      }
                    ],
                    "pie": [
                      {
                        "automargin": true,
                        "type": "pie"
                      }
                    ],
                    "scatter": [
                      {
                        "fillpattern": {
                          "fillmode": "overlay",
                          "size": 10,
                          "solidity": 0.2
                        },
                        "type": "scatter"
                      }
                    ],
                    "scatter3d": [
                      {
                        "line": {
                          "colorbar": {
                            "outlinewidth": 0,
                            "ticks": ""
                          }
                        },
                        "marker": {
                          "colorbar": {
                            "outlinewidth": 0,
                            "ticks": ""
                          }
                        },
                        "type": "scatter3d"
                      }
                    ],
                    "scattercarpet": [
                      {
                        "marker": {
                          "colorbar": {
                            "outlinewidth": 0,
                            "ticks": ""
                          }
                        },
                        "type": "scattercarpet"
                      }
                    ],
                    "scattergeo": [
                      {
                        "marker": {
                          "colorbar": {
                            "outlinewidth": 0,
                            "ticks": ""
                          }
                        },
                        "type": "scattergeo"
                      }
                    ],
                    "scattergl": [
                      {
                        "marker": {
                          "colorbar": {
                            "outlinewidth": 0,
                            "ticks": ""
                          }
                        },
                        "type": "scattergl"
                      }
                    ],
                    "scattermapbox": [
                      {
                        "marker": {
                          "colorbar": {
                            "outlinewidth": 0,
                            "ticks": ""
                          }
                        },
                        "type": "scattermapbox"
                      }
                    ],
                    "scatterpolar": [
                      {
                        "marker": {
                          "colorbar": {
                            "outlinewidth": 0,
                            "ticks": ""
                          }
                        },
                        "type": "scatterpolar"
                      }
                    ],
                    "scatterpolargl": [
                      {
                        "marker": {
                          "colorbar": {
                            "outlinewidth": 0,
                            "ticks": ""
                          }
                        },
                        "type": "scatterpolargl"
                      }
                    ],
                    "scatterternary": [
                      {
                        "marker": {
                          "colorbar": {
                            "outlinewidth": 0,
                            "ticks": ""
                          }
                        },
                        "type": "scatterternary"
                      }
                    ],
                    "surface": [
                      {
                        "colorbar": {
                          "outlinewidth": 0,
                          "ticks": ""
                        },
                        "colorscale": [
                          [
                            0,
                            "#0d0887"
                          ],
                          [
                            0.1111111111111111,
                            "#46039f"
                          ],
                          [
                            0.2222222222222222,
                            "#7201a8"
                          ],
                          [
                            0.3333333333333333,
                            "#9c179e"
                          ],
                          [
                            0.4444444444444444,
                            "#bd3786"
                          ],
                          [
                            0.5555555555555556,
                            "#d8576b"
                          ],
                          [
                            0.6666666666666666,
                            "#ed7953"
                          ],
                          [
                            0.7777777777777778,
                            "#fb9f3a"
                          ],
                          [
                            0.8888888888888888,
                            "#fdca26"
                          ],
                          [
                            1,
                            "#f0f921"
                          ]
                        ],
                        "type": "surface"
                      }
                    ],
                    "table": [
                      {
                        "cells": {
                          "fill": {
                            "color": "#EBF0F8"
                          },
                          "line": {
                            "color": "white"
                          }
                        },
                        "header": {
                          "fill": {
                            "color": "#C8D4E3"
                          },
                          "line": {
                            "color": "white"
                          }
                        },
                        "type": "table"
                      }
                    ]
                  },
                  "layout": {
                    "annotationdefaults": {
                      "arrowcolor": "#2a3f5f",
                      "arrowhead": 0,
                      "arrowwidth": 1
                    },
                    "autotypenumbers": "strict",
                    "coloraxis": {
                      "colorbar": {
                        "outlinewidth": 0,
                        "ticks": ""
                      }
                    },
                    "colorscale": {
                      "diverging": [
                        [
                          0,
                          "#8e0152"
                        ],
                        [
                          0.1,
                          "#c51b7d"
                        ],
                        [
                          0.2,
                          "#de77ae"
                        ],
                        [
                          0.3,
                          "#f1b6da"
                        ],
                        [
                          0.4,
                          "#fde0ef"
                        ],
                        [
                          0.5,
                          "#f7f7f7"
                        ],
                        [
                          0.6,
                          "#e6f5d0"
                        ],
                        [
                          0.7,
                          "#b8e186"
                        ],
                        [
                          0.8,
                          "#7fbc41"
                        ],
                        [
                          0.9,
                          "#4d9221"
                        ],
                        [
                          1,
                          "#276419"
                        ]
                      ],
                      "sequential": [
                        [
                          0,
                          "#0d0887"
                        ],
                        [
                          0.1111111111111111,
                          "#46039f"
                        ],
                        [
                          0.2222222222222222,
                          "#7201a8"
                        ],
                        [
                          0.3333333333333333,
                          "#9c179e"
                        ],
                        [
                          0.4444444444444444,
                          "#bd3786"
                        ],
                        [
                          0.5555555555555556,
                          "#d8576b"
                        ],
                        [
                          0.6666666666666666,
                          "#ed7953"
                        ],
                        [
                          0.7777777777777778,
                          "#fb9f3a"
                        ],
                        [
                          0.8888888888888888,
                          "#fdca26"
                        ],
                        [
                          1,
                          "#f0f921"
                        ]
                      ],
                      "sequentialminus": [
                        [
                          0,
                          "#0d0887"
                        ],
                        [
                          0.1111111111111111,
                          "#46039f"
                        ],
                        [
                          0.2222222222222222,
                          "#7201a8"
                        ],
                        [
                          0.3333333333333333,
                          "#9c179e"
                        ],
                        [
                          0.4444444444444444,
                          "#bd3786"
                        ],
                        [
                          0.5555555555555556,
                          "#d8576b"
                        ],
                        [
                          0.6666666666666666,
                          "#ed7953"
                        ],
                        [
                          0.7777777777777778,
                          "#fb9f3a"
                        ],
                        [
                          0.8888888888888888,
                          "#fdca26"
                        ],
                        [
                          1,
                          "#f0f921"
                        ]
                      ]
                    },
                    "colorway": [
                      "#636efa",
                      "#EF553B",
                      "#00cc96",
                      "#ab63fa",
                      "#FFA15A",
                      "#19d3f3",
                      "#FF6692",
                      "#B6E880",
                      "#FF97FF",
                      "#FECB52"
                    ],
                    "font": {
                      "color": "#2a3f5f"
                    },
                    "geo": {
                      "bgcolor": "white",
                      "lakecolor": "white",
                      "landcolor": "#E5ECF6",
                      "showlakes": true,
                      "showland": true,
                      "subunitcolor": "white"
                    },
                    "hoverlabel": {
                      "align": "left"
                    },
                    "hovermode": "closest",
                    "mapbox": {
                      "style": "light"
                    },
                    "paper_bgcolor": "white",
                    "plot_bgcolor": "#E5ECF6",
                    "polar": {
                      "angularaxis": {
                        "gridcolor": "white",
                        "linecolor": "white",
                        "ticks": ""
                      },
                      "bgcolor": "#E5ECF6",
                      "radialaxis": {
                        "gridcolor": "white",
                        "linecolor": "white",
                        "ticks": ""
                      }
                    },
                    "scene": {
                      "xaxis": {
                        "backgroundcolor": "#E5ECF6",
                        "gridcolor": "white",
                        "gridwidth": 2,
                        "linecolor": "white",
                        "showbackground": true,
                        "ticks": "",
                        "zerolinecolor": "white"
                      },
                      "yaxis": {
                        "backgroundcolor": "#E5ECF6",
                        "gridcolor": "white",
                        "gridwidth": 2,
                        "linecolor": "white",
                        "showbackground": true,
                        "ticks": "",
                        "zerolinecolor": "white"
                      },
                      "zaxis": {
                        "backgroundcolor": "#E5ECF6",
                        "gridcolor": "white",
                        "gridwidth": 2,
                        "linecolor": "white",
                        "showbackground": true,
                        "ticks": "",
                        "zerolinecolor": "white"
                      }
                    },
                    "shapedefaults": {
                      "line": {
                        "color": "#2a3f5f"
                      }
                    },
                    "ternary": {
                      "aaxis": {
                        "gridcolor": "white",
                        "linecolor": "white",
                        "ticks": ""
                      },
                      "baxis": {
                        "gridcolor": "white",
                        "linecolor": "white",
                        "ticks": ""
                      },
                      "bgcolor": "#E5ECF6",
                      "caxis": {
                        "gridcolor": "white",
                        "linecolor": "white",
                        "ticks": ""
                      }
                    },
                    "title": {
                      "x": 0.05
                    },
                    "xaxis": {
                      "automargin": true,
                      "gridcolor": "white",
                      "linecolor": "white",
                      "ticks": "",
                      "title": {
                        "standoff": 15
                      },
                      "zerolinecolor": "white",
                      "zerolinewidth": 2
                    },
                    "yaxis": {
                      "automargin": true,
                      "gridcolor": "white",
                      "linecolor": "white",
                      "ticks": "",
                      "title": {
                        "standoff": 15
                      },
                      "zerolinecolor": "white",
                      "zerolinewidth": 2
                    }
                  }
                },
                "title": {
                  "text": "Trend of Energy End-use over the Years"
                },
                "xaxis": {
                  "anchor": "y",
                  "domain": [
                    0,
                    1
                  ],
                  "title": {
                    "text": "Year"
                  }
                },
                "yaxis": {
                  "anchor": "x",
                  "domain": [
                    0,
                    1
                  ],
                  "title": {
                    "text": "Energy End-use (TJ)"
                  }
                }
              }
            }
          },
          "metadata": {},
          "output_type": "display_data"
        }
      ],
      "source": [
        "# Line plot for 'Trend of Energy End-use over the Years'\n",
        "fig = px.line(df_overview, x='Year', y='Energy End-use (TJ)', title='Trend of Energy End-use over the Years')\n",
        "fig.show()"
      ]
    },
    {
      "cell_type": "code",
      "execution_count": 38,
      "metadata": {
        "id": "4KJTbpcRyHgj"
      },
      "outputs": [],
      "source": [
        "from sklearn.model_selection import train_test_split\n",
        "from sklearn.linear_model import LinearRegression\n",
        "\n",
        "X = df_overview.drop('Energy End-use (TJ)', axis=1)\n",
        "y = df_overview['Energy End-use (TJ)']\n",
        "\n",
        "X_train, X_test, y_train, y_test = train_test_split(X, y, test_size=0.2, random_state=42)\n",
        "\n",
        "model = LinearRegression()\n",
        "model.fit(X_train, y_train)\n",
        "\n",
        "predictions = model.predict(X_test)"
      ]
    },
    {
      "cell_type": "code",
      "execution_count": 39,
      "metadata": {
        "colab": {
          "base_uri": "https://localhost:8080/"
        },
        "id": "d1syfQym1ngI",
        "outputId": "7e74cf6e-1c60-48af-aff2-d7c40fce9511"
      },
      "outputs": [
        {
          "name": "stdout",
          "output_type": "stream",
          "text": [
            "[282930.20184256 281933.44935531 283681.35070016]\n"
          ]
        }
      ],
      "source": [
        "print(predictions)"
      ]
    },
    {
      "cell_type": "code",
      "execution_count": 42,
      "metadata": {
        "colab": {
          "base_uri": "https://localhost:8080/"
        },
        "id": "zW-3YbRhyJan",
        "outputId": "5ca6a15c-d2c2-40f5-d902-d4991cfab806"
      },
      "outputs": [
        {
          "name": "stdout",
          "output_type": "stream",
          "text": [
            "MAE:  129.532737636182\n",
            "MSE:  22170.535904252512\n",
            "RMSE:  148.89773639734256\n"
          ]
        }
      ],
      "source": [
        "from sklearn.metrics import mean_absolute_error, mean_squared_error\n",
        "\n",
        "print(\"MAE: \", mean_absolute_error(y_test, predictions))\n",
        "print(\"MSE: \", mean_squared_error(y_test, predictions))\n",
        "print(\"RMSE: \", np.sqrt(mean_squared_error(y_test, predictions)))\n"
      ]
    },
    {
      "cell_type": "code",
      "execution_count": 43,
      "metadata": {
        "colab": {
          "base_uri": "https://localhost:8080/",
          "height": 542
        },
        "id": "4e9ZY_3ByOGD",
        "outputId": "da30f924-ca6f-4d3c-9838-dbf6dd5f2cd0"
      },
      "outputs": [
        {
          "data": {
            "application/vnd.plotly.v1+json": {
              "config": {
                "plotlyServerURL": "https://plot.ly"
              },
              "data": [
                {
                  "mode": "lines",
                  "name": "Energy End-use",
                  "type": "scatter",
                  "x": [
                    2010,
                    2011,
                    2012,
                    2013,
                    2014,
                    2015,
                    2016,
                    2017,
                    2018,
                    2019,
                    2020
                  ],
                  "y": [
                    281729,
                    279524,
                    282055,
                    279588,
                    283984,
                    282960,
                    283564,
                    281006,
                    282486,
                    283527,
                    272490
                  ]
                },
                {
                  "mode": "lines",
                  "name": "GDP",
                  "type": "scatter",
                  "x": [
                    2010,
                    2011,
                    2012,
                    2013,
                    2014,
                    2015,
                    2016,
                    2017,
                    2018,
                    2019,
                    2020
                  ],
                  "y": [
                    2308742,
                    2419901,
                    2461047,
                    2537377,
                    2607470,
                    2669732,
                    2727810,
                    2831361,
                    2911968,
                    2863098,
                    2675708
                  ]
                }
              ],
              "layout": {
                "template": {
                  "data": {
                    "bar": [
                      {
                        "error_x": {
                          "color": "#2a3f5f"
                        },
                        "error_y": {
                          "color": "#2a3f5f"
                        },
                        "marker": {
                          "line": {
                            "color": "#E5ECF6",
                            "width": 0.5
                          },
                          "pattern": {
                            "fillmode": "overlay",
                            "size": 10,
                            "solidity": 0.2
                          }
                        },
                        "type": "bar"
                      }
                    ],
                    "barpolar": [
                      {
                        "marker": {
                          "line": {
                            "color": "#E5ECF6",
                            "width": 0.5
                          },
                          "pattern": {
                            "fillmode": "overlay",
                            "size": 10,
                            "solidity": 0.2
                          }
                        },
                        "type": "barpolar"
                      }
                    ],
                    "carpet": [
                      {
                        "aaxis": {
                          "endlinecolor": "#2a3f5f",
                          "gridcolor": "white",
                          "linecolor": "white",
                          "minorgridcolor": "white",
                          "startlinecolor": "#2a3f5f"
                        },
                        "baxis": {
                          "endlinecolor": "#2a3f5f",
                          "gridcolor": "white",
                          "linecolor": "white",
                          "minorgridcolor": "white",
                          "startlinecolor": "#2a3f5f"
                        },
                        "type": "carpet"
                      }
                    ],
                    "choropleth": [
                      {
                        "colorbar": {
                          "outlinewidth": 0,
                          "ticks": ""
                        },
                        "type": "choropleth"
                      }
                    ],
                    "contour": [
                      {
                        "colorbar": {
                          "outlinewidth": 0,
                          "ticks": ""
                        },
                        "colorscale": [
                          [
                            0,
                            "#0d0887"
                          ],
                          [
                            0.1111111111111111,
                            "#46039f"
                          ],
                          [
                            0.2222222222222222,
                            "#7201a8"
                          ],
                          [
                            0.3333333333333333,
                            "#9c179e"
                          ],
                          [
                            0.4444444444444444,
                            "#bd3786"
                          ],
                          [
                            0.5555555555555556,
                            "#d8576b"
                          ],
                          [
                            0.6666666666666666,
                            "#ed7953"
                          ],
                          [
                            0.7777777777777778,
                            "#fb9f3a"
                          ],
                          [
                            0.8888888888888888,
                            "#fdca26"
                          ],
                          [
                            1,
                            "#f0f921"
                          ]
                        ],
                        "type": "contour"
                      }
                    ],
                    "contourcarpet": [
                      {
                        "colorbar": {
                          "outlinewidth": 0,
                          "ticks": ""
                        },
                        "type": "contourcarpet"
                      }
                    ],
                    "heatmap": [
                      {
                        "colorbar": {
                          "outlinewidth": 0,
                          "ticks": ""
                        },
                        "colorscale": [
                          [
                            0,
                            "#0d0887"
                          ],
                          [
                            0.1111111111111111,
                            "#46039f"
                          ],
                          [
                            0.2222222222222222,
                            "#7201a8"
                          ],
                          [
                            0.3333333333333333,
                            "#9c179e"
                          ],
                          [
                            0.4444444444444444,
                            "#bd3786"
                          ],
                          [
                            0.5555555555555556,
                            "#d8576b"
                          ],
                          [
                            0.6666666666666666,
                            "#ed7953"
                          ],
                          [
                            0.7777777777777778,
                            "#fb9f3a"
                          ],
                          [
                            0.8888888888888888,
                            "#fdca26"
                          ],
                          [
                            1,
                            "#f0f921"
                          ]
                        ],
                        "type": "heatmap"
                      }
                    ],
                    "heatmapgl": [
                      {
                        "colorbar": {
                          "outlinewidth": 0,
                          "ticks": ""
                        },
                        "colorscale": [
                          [
                            0,
                            "#0d0887"
                          ],
                          [
                            0.1111111111111111,
                            "#46039f"
                          ],
                          [
                            0.2222222222222222,
                            "#7201a8"
                          ],
                          [
                            0.3333333333333333,
                            "#9c179e"
                          ],
                          [
                            0.4444444444444444,
                            "#bd3786"
                          ],
                          [
                            0.5555555555555556,
                            "#d8576b"
                          ],
                          [
                            0.6666666666666666,
                            "#ed7953"
                          ],
                          [
                            0.7777777777777778,
                            "#fb9f3a"
                          ],
                          [
                            0.8888888888888888,
                            "#fdca26"
                          ],
                          [
                            1,
                            "#f0f921"
                          ]
                        ],
                        "type": "heatmapgl"
                      }
                    ],
                    "histogram": [
                      {
                        "marker": {
                          "pattern": {
                            "fillmode": "overlay",
                            "size": 10,
                            "solidity": 0.2
                          }
                        },
                        "type": "histogram"
                      }
                    ],
                    "histogram2d": [
                      {
                        "colorbar": {
                          "outlinewidth": 0,
                          "ticks": ""
                        },
                        "colorscale": [
                          [
                            0,
                            "#0d0887"
                          ],
                          [
                            0.1111111111111111,
                            "#46039f"
                          ],
                          [
                            0.2222222222222222,
                            "#7201a8"
                          ],
                          [
                            0.3333333333333333,
                            "#9c179e"
                          ],
                          [
                            0.4444444444444444,
                            "#bd3786"
                          ],
                          [
                            0.5555555555555556,
                            "#d8576b"
                          ],
                          [
                            0.6666666666666666,
                            "#ed7953"
                          ],
                          [
                            0.7777777777777778,
                            "#fb9f3a"
                          ],
                          [
                            0.8888888888888888,
                            "#fdca26"
                          ],
                          [
                            1,
                            "#f0f921"
                          ]
                        ],
                        "type": "histogram2d"
                      }
                    ],
                    "histogram2dcontour": [
                      {
                        "colorbar": {
                          "outlinewidth": 0,
                          "ticks": ""
                        },
                        "colorscale": [
                          [
                            0,
                            "#0d0887"
                          ],
                          [
                            0.1111111111111111,
                            "#46039f"
                          ],
                          [
                            0.2222222222222222,
                            "#7201a8"
                          ],
                          [
                            0.3333333333333333,
                            "#9c179e"
                          ],
                          [
                            0.4444444444444444,
                            "#bd3786"
                          ],
                          [
                            0.5555555555555556,
                            "#d8576b"
                          ],
                          [
                            0.6666666666666666,
                            "#ed7953"
                          ],
                          [
                            0.7777777777777778,
                            "#fb9f3a"
                          ],
                          [
                            0.8888888888888888,
                            "#fdca26"
                          ],
                          [
                            1,
                            "#f0f921"
                          ]
                        ],
                        "type": "histogram2dcontour"
                      }
                    ],
                    "mesh3d": [
                      {
                        "colorbar": {
                          "outlinewidth": 0,
                          "ticks": ""
                        },
                        "type": "mesh3d"
                      }
                    ],
                    "parcoords": [
                      {
                        "line": {
                          "colorbar": {
                            "outlinewidth": 0,
                            "ticks": ""
                          }
                        },
                        "type": "parcoords"
                      }
                    ],
                    "pie": [
                      {
                        "automargin": true,
                        "type": "pie"
                      }
                    ],
                    "scatter": [
                      {
                        "fillpattern": {
                          "fillmode": "overlay",
                          "size": 10,
                          "solidity": 0.2
                        },
                        "type": "scatter"
                      }
                    ],
                    "scatter3d": [
                      {
                        "line": {
                          "colorbar": {
                            "outlinewidth": 0,
                            "ticks": ""
                          }
                        },
                        "marker": {
                          "colorbar": {
                            "outlinewidth": 0,
                            "ticks": ""
                          }
                        },
                        "type": "scatter3d"
                      }
                    ],
                    "scattercarpet": [
                      {
                        "marker": {
                          "colorbar": {
                            "outlinewidth": 0,
                            "ticks": ""
                          }
                        },
                        "type": "scattercarpet"
                      }
                    ],
                    "scattergeo": [
                      {
                        "marker": {
                          "colorbar": {
                            "outlinewidth": 0,
                            "ticks": ""
                          }
                        },
                        "type": "scattergeo"
                      }
                    ],
                    "scattergl": [
                      {
                        "marker": {
                          "colorbar": {
                            "outlinewidth": 0,
                            "ticks": ""
                          }
                        },
                        "type": "scattergl"
                      }
                    ],
                    "scattermapbox": [
                      {
                        "marker": {
                          "colorbar": {
                            "outlinewidth": 0,
                            "ticks": ""
                          }
                        },
                        "type": "scattermapbox"
                      }
                    ],
                    "scatterpolar": [
                      {
                        "marker": {
                          "colorbar": {
                            "outlinewidth": 0,
                            "ticks": ""
                          }
                        },
                        "type": "scatterpolar"
                      }
                    ],
                    "scatterpolargl": [
                      {
                        "marker": {
                          "colorbar": {
                            "outlinewidth": 0,
                            "ticks": ""
                          }
                        },
                        "type": "scatterpolargl"
                      }
                    ],
                    "scatterternary": [
                      {
                        "marker": {
                          "colorbar": {
                            "outlinewidth": 0,
                            "ticks": ""
                          }
                        },
                        "type": "scatterternary"
                      }
                    ],
                    "surface": [
                      {
                        "colorbar": {
                          "outlinewidth": 0,
                          "ticks": ""
                        },
                        "colorscale": [
                          [
                            0,
                            "#0d0887"
                          ],
                          [
                            0.1111111111111111,
                            "#46039f"
                          ],
                          [
                            0.2222222222222222,
                            "#7201a8"
                          ],
                          [
                            0.3333333333333333,
                            "#9c179e"
                          ],
                          [
                            0.4444444444444444,
                            "#bd3786"
                          ],
                          [
                            0.5555555555555556,
                            "#d8576b"
                          ],
                          [
                            0.6666666666666666,
                            "#ed7953"
                          ],
                          [
                            0.7777777777777778,
                            "#fb9f3a"
                          ],
                          [
                            0.8888888888888888,
                            "#fdca26"
                          ],
                          [
                            1,
                            "#f0f921"
                          ]
                        ],
                        "type": "surface"
                      }
                    ],
                    "table": [
                      {
                        "cells": {
                          "fill": {
                            "color": "#EBF0F8"
                          },
                          "line": {
                            "color": "white"
                          }
                        },
                        "header": {
                          "fill": {
                            "color": "#C8D4E3"
                          },
                          "line": {
                            "color": "white"
                          }
                        },
                        "type": "table"
                      }
                    ]
                  },
                  "layout": {
                    "annotationdefaults": {
                      "arrowcolor": "#2a3f5f",
                      "arrowhead": 0,
                      "arrowwidth": 1
                    },
                    "autotypenumbers": "strict",
                    "coloraxis": {
                      "colorbar": {
                        "outlinewidth": 0,
                        "ticks": ""
                      }
                    },
                    "colorscale": {
                      "diverging": [
                        [
                          0,
                          "#8e0152"
                        ],
                        [
                          0.1,
                          "#c51b7d"
                        ],
                        [
                          0.2,
                          "#de77ae"
                        ],
                        [
                          0.3,
                          "#f1b6da"
                        ],
                        [
                          0.4,
                          "#fde0ef"
                        ],
                        [
                          0.5,
                          "#f7f7f7"
                        ],
                        [
                          0.6,
                          "#e6f5d0"
                        ],
                        [
                          0.7,
                          "#b8e186"
                        ],
                        [
                          0.8,
                          "#7fbc41"
                        ],
                        [
                          0.9,
                          "#4d9221"
                        ],
                        [
                          1,
                          "#276419"
                        ]
                      ],
                      "sequential": [
                        [
                          0,
                          "#0d0887"
                        ],
                        [
                          0.1111111111111111,
                          "#46039f"
                        ],
                        [
                          0.2222222222222222,
                          "#7201a8"
                        ],
                        [
                          0.3333333333333333,
                          "#9c179e"
                        ],
                        [
                          0.4444444444444444,
                          "#bd3786"
                        ],
                        [
                          0.5555555555555556,
                          "#d8576b"
                        ],
                        [
                          0.6666666666666666,
                          "#ed7953"
                        ],
                        [
                          0.7777777777777778,
                          "#fb9f3a"
                        ],
                        [
                          0.8888888888888888,
                          "#fdca26"
                        ],
                        [
                          1,
                          "#f0f921"
                        ]
                      ],
                      "sequentialminus": [
                        [
                          0,
                          "#0d0887"
                        ],
                        [
                          0.1111111111111111,
                          "#46039f"
                        ],
                        [
                          0.2222222222222222,
                          "#7201a8"
                        ],
                        [
                          0.3333333333333333,
                          "#9c179e"
                        ],
                        [
                          0.4444444444444444,
                          "#bd3786"
                        ],
                        [
                          0.5555555555555556,
                          "#d8576b"
                        ],
                        [
                          0.6666666666666666,
                          "#ed7953"
                        ],
                        [
                          0.7777777777777778,
                          "#fb9f3a"
                        ],
                        [
                          0.8888888888888888,
                          "#fdca26"
                        ],
                        [
                          1,
                          "#f0f921"
                        ]
                      ]
                    },
                    "colorway": [
                      "#636efa",
                      "#EF553B",
                      "#00cc96",
                      "#ab63fa",
                      "#FFA15A",
                      "#19d3f3",
                      "#FF6692",
                      "#B6E880",
                      "#FF97FF",
                      "#FECB52"
                    ],
                    "font": {
                      "color": "#2a3f5f"
                    },
                    "geo": {
                      "bgcolor": "white",
                      "lakecolor": "white",
                      "landcolor": "#E5ECF6",
                      "showlakes": true,
                      "showland": true,
                      "subunitcolor": "white"
                    },
                    "hoverlabel": {
                      "align": "left"
                    },
                    "hovermode": "closest",
                    "mapbox": {
                      "style": "light"
                    },
                    "paper_bgcolor": "white",
                    "plot_bgcolor": "#E5ECF6",
                    "polar": {
                      "angularaxis": {
                        "gridcolor": "white",
                        "linecolor": "white",
                        "ticks": ""
                      },
                      "bgcolor": "#E5ECF6",
                      "radialaxis": {
                        "gridcolor": "white",
                        "linecolor": "white",
                        "ticks": ""
                      }
                    },
                    "scene": {
                      "xaxis": {
                        "backgroundcolor": "#E5ECF6",
                        "gridcolor": "white",
                        "gridwidth": 2,
                        "linecolor": "white",
                        "showbackground": true,
                        "ticks": "",
                        "zerolinecolor": "white"
                      },
                      "yaxis": {
                        "backgroundcolor": "#E5ECF6",
                        "gridcolor": "white",
                        "gridwidth": 2,
                        "linecolor": "white",
                        "showbackground": true,
                        "ticks": "",
                        "zerolinecolor": "white"
                      },
                      "zaxis": {
                        "backgroundcolor": "#E5ECF6",
                        "gridcolor": "white",
                        "gridwidth": 2,
                        "linecolor": "white",
                        "showbackground": true,
                        "ticks": "",
                        "zerolinecolor": "white"
                      }
                    },
                    "shapedefaults": {
                      "line": {
                        "color": "#2a3f5f"
                      }
                    },
                    "ternary": {
                      "aaxis": {
                        "gridcolor": "white",
                        "linecolor": "white",
                        "ticks": ""
                      },
                      "baxis": {
                        "gridcolor": "white",
                        "linecolor": "white",
                        "ticks": ""
                      },
                      "bgcolor": "#E5ECF6",
                      "caxis": {
                        "gridcolor": "white",
                        "linecolor": "white",
                        "ticks": ""
                      }
                    },
                    "title": {
                      "x": 0.05
                    },
                    "xaxis": {
                      "automargin": true,
                      "gridcolor": "white",
                      "linecolor": "white",
                      "ticks": "",
                      "title": {
                        "standoff": 15
                      },
                      "zerolinecolor": "white",
                      "zerolinewidth": 2
                    },
                    "yaxis": {
                      "automargin": true,
                      "gridcolor": "white",
                      "linecolor": "white",
                      "ticks": "",
                      "title": {
                        "standoff": 15
                      },
                      "zerolinecolor": "white",
                      "zerolinewidth": 2
                    }
                  }
                }
              }
            }
          },
          "metadata": {},
          "output_type": "display_data"
        }
      ],
      "source": [
        "# Line plot for 'Trend of Energy End-use and GDP over the Years'\n",
        "fig = go.Figure()\n",
        "fig.add_trace(go.Scatter(x=df_overview['Year'], y=df_overview['Energy End-use (TJ)'], mode='lines', name='Energy End-use'))\n",
        "fig.add_trace(go.Scatter(x=df_overview['Year'], y=df_overview['GDP in Hong Kong in chained 2020 HKD (HK$ million)'], mode='lines', name='GDP'))\n",
        "fig.show()"
      ]
    },
    {
      "cell_type": "code",
      "execution_count": 44,
      "metadata": {
        "colab": {
          "base_uri": "https://localhost:8080/",
          "height": 542
        },
        "id": "pjFGE4dcyPp6",
        "outputId": "55279ccf-d2d4-47fb-83a1-6502f3d8fd71"
      },
      "outputs": [
        {
          "data": {
            "application/vnd.plotly.v1+json": {
              "config": {
                "plotlyServerURL": "https://plot.ly"
              },
              "data": [
                {
                  "alignmentgroup": "True",
                  "hovertemplate": "Fuel Type=Town Gas & Liquefied Petroleum Gas (Unit : Terajoule)<br>Year=%{x}<br>Energy Consumption (TJ)=%{y}<extra></extra>",
                  "legendgroup": "Town Gas & Liquefied Petroleum Gas (Unit : Terajoule)",
                  "marker": {
                    "color": "#636efa",
                    "pattern": {
                      "shape": ""
                    }
                  },
                  "name": "Town Gas & Liquefied Petroleum Gas (Unit : Terajoule)",
                  "offsetgroup": "Town Gas & Liquefied Petroleum Gas (Unit : Terajoule)",
                  "orientation": "v",
                  "showlegend": true,
                  "textposition": "auto",
                  "type": "bar",
                  "x": [
                    2010,
                    2011,
                    2012,
                    2013,
                    2014,
                    2015,
                    2016,
                    2017,
                    2018,
                    2019,
                    2020
                  ],
                  "xaxis": "x",
                  "y": [
                    19038,
                    18977,
                    18841,
                    18635,
                    18681,
                    18063,
                    18574,
                    18335,
                    19578,
                    18070,
                    19726
                  ],
                  "yaxis": "y"
                },
                {
                  "alignmentgroup": "True",
                  "hovertemplate": "Fuel Type=Oil & Coal Products (Unit : Terajoule)<br>Year=%{x}<br>Energy Consumption (TJ)=%{y}<extra></extra>",
                  "legendgroup": "Oil & Coal Products (Unit : Terajoule)",
                  "marker": {
                    "color": "#EF553B",
                    "pattern": {
                      "shape": ""
                    }
                  },
                  "name": "Oil & Coal Products (Unit : Terajoule)",
                  "offsetgroup": "Oil & Coal Products (Unit : Terajoule)",
                  "orientation": "v",
                  "showlegend": true,
                  "textposition": "auto",
                  "type": "bar",
                  "x": [
                    2010,
                    2011,
                    2012,
                    2013,
                    2014,
                    2015,
                    2016,
                    2017,
                    2018,
                    2019,
                    2020
                  ],
                  "xaxis": "x",
                  "y": [
                    13,
                    8,
                    8,
                    7,
                    7,
                    8,
                    10,
                    14,
                    14,
                    15,
                    15
                  ],
                  "yaxis": "y"
                },
                {
                  "alignmentgroup": "True",
                  "hovertemplate": "Fuel Type=Electricity (Unit : Terajoule)<br>Year=%{x}<br>Energy Consumption (TJ)=%{y}<extra></extra>",
                  "legendgroup": "Electricity (Unit : Terajoule)",
                  "marker": {
                    "color": "#00cc96",
                    "pattern": {
                      "shape": ""
                    }
                  },
                  "name": "Electricity (Unit : Terajoule)",
                  "offsetgroup": "Electricity (Unit : Terajoule)",
                  "orientation": "v",
                  "showlegend": true,
                  "textposition": "auto",
                  "type": "bar",
                  "x": [
                    2010,
                    2011,
                    2012,
                    2013,
                    2014,
                    2015,
                    2016,
                    2017,
                    2018,
                    2019,
                    2020
                  ],
                  "xaxis": "x",
                  "y": [
                    39344,
                    39872,
                    41189,
                    39941,
                    43415,
                    42368,
                    43120,
                    42127,
                    41965,
                    42937,
                    46675
                  ],
                  "yaxis": "y"
                }
              ],
              "layout": {
                "barmode": "relative",
                "legend": {
                  "title": {
                    "text": "Fuel Type"
                  },
                  "tracegroupgap": 0
                },
                "template": {
                  "data": {
                    "bar": [
                      {
                        "error_x": {
                          "color": "#2a3f5f"
                        },
                        "error_y": {
                          "color": "#2a3f5f"
                        },
                        "marker": {
                          "line": {
                            "color": "#E5ECF6",
                            "width": 0.5
                          },
                          "pattern": {
                            "fillmode": "overlay",
                            "size": 10,
                            "solidity": 0.2
                          }
                        },
                        "type": "bar"
                      }
                    ],
                    "barpolar": [
                      {
                        "marker": {
                          "line": {
                            "color": "#E5ECF6",
                            "width": 0.5
                          },
                          "pattern": {
                            "fillmode": "overlay",
                            "size": 10,
                            "solidity": 0.2
                          }
                        },
                        "type": "barpolar"
                      }
                    ],
                    "carpet": [
                      {
                        "aaxis": {
                          "endlinecolor": "#2a3f5f",
                          "gridcolor": "white",
                          "linecolor": "white",
                          "minorgridcolor": "white",
                          "startlinecolor": "#2a3f5f"
                        },
                        "baxis": {
                          "endlinecolor": "#2a3f5f",
                          "gridcolor": "white",
                          "linecolor": "white",
                          "minorgridcolor": "white",
                          "startlinecolor": "#2a3f5f"
                        },
                        "type": "carpet"
                      }
                    ],
                    "choropleth": [
                      {
                        "colorbar": {
                          "outlinewidth": 0,
                          "ticks": ""
                        },
                        "type": "choropleth"
                      }
                    ],
                    "contour": [
                      {
                        "colorbar": {
                          "outlinewidth": 0,
                          "ticks": ""
                        },
                        "colorscale": [
                          [
                            0,
                            "#0d0887"
                          ],
                          [
                            0.1111111111111111,
                            "#46039f"
                          ],
                          [
                            0.2222222222222222,
                            "#7201a8"
                          ],
                          [
                            0.3333333333333333,
                            "#9c179e"
                          ],
                          [
                            0.4444444444444444,
                            "#bd3786"
                          ],
                          [
                            0.5555555555555556,
                            "#d8576b"
                          ],
                          [
                            0.6666666666666666,
                            "#ed7953"
                          ],
                          [
                            0.7777777777777778,
                            "#fb9f3a"
                          ],
                          [
                            0.8888888888888888,
                            "#fdca26"
                          ],
                          [
                            1,
                            "#f0f921"
                          ]
                        ],
                        "type": "contour"
                      }
                    ],
                    "contourcarpet": [
                      {
                        "colorbar": {
                          "outlinewidth": 0,
                          "ticks": ""
                        },
                        "type": "contourcarpet"
                      }
                    ],
                    "heatmap": [
                      {
                        "colorbar": {
                          "outlinewidth": 0,
                          "ticks": ""
                        },
                        "colorscale": [
                          [
                            0,
                            "#0d0887"
                          ],
                          [
                            0.1111111111111111,
                            "#46039f"
                          ],
                          [
                            0.2222222222222222,
                            "#7201a8"
                          ],
                          [
                            0.3333333333333333,
                            "#9c179e"
                          ],
                          [
                            0.4444444444444444,
                            "#bd3786"
                          ],
                          [
                            0.5555555555555556,
                            "#d8576b"
                          ],
                          [
                            0.6666666666666666,
                            "#ed7953"
                          ],
                          [
                            0.7777777777777778,
                            "#fb9f3a"
                          ],
                          [
                            0.8888888888888888,
                            "#fdca26"
                          ],
                          [
                            1,
                            "#f0f921"
                          ]
                        ],
                        "type": "heatmap"
                      }
                    ],
                    "heatmapgl": [
                      {
                        "colorbar": {
                          "outlinewidth": 0,
                          "ticks": ""
                        },
                        "colorscale": [
                          [
                            0,
                            "#0d0887"
                          ],
                          [
                            0.1111111111111111,
                            "#46039f"
                          ],
                          [
                            0.2222222222222222,
                            "#7201a8"
                          ],
                          [
                            0.3333333333333333,
                            "#9c179e"
                          ],
                          [
                            0.4444444444444444,
                            "#bd3786"
                          ],
                          [
                            0.5555555555555556,
                            "#d8576b"
                          ],
                          [
                            0.6666666666666666,
                            "#ed7953"
                          ],
                          [
                            0.7777777777777778,
                            "#fb9f3a"
                          ],
                          [
                            0.8888888888888888,
                            "#fdca26"
                          ],
                          [
                            1,
                            "#f0f921"
                          ]
                        ],
                        "type": "heatmapgl"
                      }
                    ],
                    "histogram": [
                      {
                        "marker": {
                          "pattern": {
                            "fillmode": "overlay",
                            "size": 10,
                            "solidity": 0.2
                          }
                        },
                        "type": "histogram"
                      }
                    ],
                    "histogram2d": [
                      {
                        "colorbar": {
                          "outlinewidth": 0,
                          "ticks": ""
                        },
                        "colorscale": [
                          [
                            0,
                            "#0d0887"
                          ],
                          [
                            0.1111111111111111,
                            "#46039f"
                          ],
                          [
                            0.2222222222222222,
                            "#7201a8"
                          ],
                          [
                            0.3333333333333333,
                            "#9c179e"
                          ],
                          [
                            0.4444444444444444,
                            "#bd3786"
                          ],
                          [
                            0.5555555555555556,
                            "#d8576b"
                          ],
                          [
                            0.6666666666666666,
                            "#ed7953"
                          ],
                          [
                            0.7777777777777778,
                            "#fb9f3a"
                          ],
                          [
                            0.8888888888888888,
                            "#fdca26"
                          ],
                          [
                            1,
                            "#f0f921"
                          ]
                        ],
                        "type": "histogram2d"
                      }
                    ],
                    "histogram2dcontour": [
                      {
                        "colorbar": {
                          "outlinewidth": 0,
                          "ticks": ""
                        },
                        "colorscale": [
                          [
                            0,
                            "#0d0887"
                          ],
                          [
                            0.1111111111111111,
                            "#46039f"
                          ],
                          [
                            0.2222222222222222,
                            "#7201a8"
                          ],
                          [
                            0.3333333333333333,
                            "#9c179e"
                          ],
                          [
                            0.4444444444444444,
                            "#bd3786"
                          ],
                          [
                            0.5555555555555556,
                            "#d8576b"
                          ],
                          [
                            0.6666666666666666,
                            "#ed7953"
                          ],
                          [
                            0.7777777777777778,
                            "#fb9f3a"
                          ],
                          [
                            0.8888888888888888,
                            "#fdca26"
                          ],
                          [
                            1,
                            "#f0f921"
                          ]
                        ],
                        "type": "histogram2dcontour"
                      }
                    ],
                    "mesh3d": [
                      {
                        "colorbar": {
                          "outlinewidth": 0,
                          "ticks": ""
                        },
                        "type": "mesh3d"
                      }
                    ],
                    "parcoords": [
                      {
                        "line": {
                          "colorbar": {
                            "outlinewidth": 0,
                            "ticks": ""
                          }
                        },
                        "type": "parcoords"
                      }
                    ],
                    "pie": [
                      {
                        "automargin": true,
                        "type": "pie"
                      }
                    ],
                    "scatter": [
                      {
                        "fillpattern": {
                          "fillmode": "overlay",
                          "size": 10,
                          "solidity": 0.2
                        },
                        "type": "scatter"
                      }
                    ],
                    "scatter3d": [
                      {
                        "line": {
                          "colorbar": {
                            "outlinewidth": 0,
                            "ticks": ""
                          }
                        },
                        "marker": {
                          "colorbar": {
                            "outlinewidth": 0,
                            "ticks": ""
                          }
                        },
                        "type": "scatter3d"
                      }
                    ],
                    "scattercarpet": [
                      {
                        "marker": {
                          "colorbar": {
                            "outlinewidth": 0,
                            "ticks": ""
                          }
                        },
                        "type": "scattercarpet"
                      }
                    ],
                    "scattergeo": [
                      {
                        "marker": {
                          "colorbar": {
                            "outlinewidth": 0,
                            "ticks": ""
                          }
                        },
                        "type": "scattergeo"
                      }
                    ],
                    "scattergl": [
                      {
                        "marker": {
                          "colorbar": {
                            "outlinewidth": 0,
                            "ticks": ""
                          }
                        },
                        "type": "scattergl"
                      }
                    ],
                    "scattermapbox": [
                      {
                        "marker": {
                          "colorbar": {
                            "outlinewidth": 0,
                            "ticks": ""
                          }
                        },
                        "type": "scattermapbox"
                      }
                    ],
                    "scatterpolar": [
                      {
                        "marker": {
                          "colorbar": {
                            "outlinewidth": 0,
                            "ticks": ""
                          }
                        },
                        "type": "scatterpolar"
                      }
                    ],
                    "scatterpolargl": [
                      {
                        "marker": {
                          "colorbar": {
                            "outlinewidth": 0,
                            "ticks": ""
                          }
                        },
                        "type": "scatterpolargl"
                      }
                    ],
                    "scatterternary": [
                      {
                        "marker": {
                          "colorbar": {
                            "outlinewidth": 0,
                            "ticks": ""
                          }
                        },
                        "type": "scatterternary"
                      }
                    ],
                    "surface": [
                      {
                        "colorbar": {
                          "outlinewidth": 0,
                          "ticks": ""
                        },
                        "colorscale": [
                          [
                            0,
                            "#0d0887"
                          ],
                          [
                            0.1111111111111111,
                            "#46039f"
                          ],
                          [
                            0.2222222222222222,
                            "#7201a8"
                          ],
                          [
                            0.3333333333333333,
                            "#9c179e"
                          ],
                          [
                            0.4444444444444444,
                            "#bd3786"
                          ],
                          [
                            0.5555555555555556,
                            "#d8576b"
                          ],
                          [
                            0.6666666666666666,
                            "#ed7953"
                          ],
                          [
                            0.7777777777777778,
                            "#fb9f3a"
                          ],
                          [
                            0.8888888888888888,
                            "#fdca26"
                          ],
                          [
                            1,
                            "#f0f921"
                          ]
                        ],
                        "type": "surface"
                      }
                    ],
                    "table": [
                      {
                        "cells": {
                          "fill": {
                            "color": "#EBF0F8"
                          },
                          "line": {
                            "color": "white"
                          }
                        },
                        "header": {
                          "fill": {
                            "color": "#C8D4E3"
                          },
                          "line": {
                            "color": "white"
                          }
                        },
                        "type": "table"
                      }
                    ]
                  },
                  "layout": {
                    "annotationdefaults": {
                      "arrowcolor": "#2a3f5f",
                      "arrowhead": 0,
                      "arrowwidth": 1
                    },
                    "autotypenumbers": "strict",
                    "coloraxis": {
                      "colorbar": {
                        "outlinewidth": 0,
                        "ticks": ""
                      }
                    },
                    "colorscale": {
                      "diverging": [
                        [
                          0,
                          "#8e0152"
                        ],
                        [
                          0.1,
                          "#c51b7d"
                        ],
                        [
                          0.2,
                          "#de77ae"
                        ],
                        [
                          0.3,
                          "#f1b6da"
                        ],
                        [
                          0.4,
                          "#fde0ef"
                        ],
                        [
                          0.5,
                          "#f7f7f7"
                        ],
                        [
                          0.6,
                          "#e6f5d0"
                        ],
                        [
                          0.7,
                          "#b8e186"
                        ],
                        [
                          0.8,
                          "#7fbc41"
                        ],
                        [
                          0.9,
                          "#4d9221"
                        ],
                        [
                          1,
                          "#276419"
                        ]
                      ],
                      "sequential": [
                        [
                          0,
                          "#0d0887"
                        ],
                        [
                          0.1111111111111111,
                          "#46039f"
                        ],
                        [
                          0.2222222222222222,
                          "#7201a8"
                        ],
                        [
                          0.3333333333333333,
                          "#9c179e"
                        ],
                        [
                          0.4444444444444444,
                          "#bd3786"
                        ],
                        [
                          0.5555555555555556,
                          "#d8576b"
                        ],
                        [
                          0.6666666666666666,
                          "#ed7953"
                        ],
                        [
                          0.7777777777777778,
                          "#fb9f3a"
                        ],
                        [
                          0.8888888888888888,
                          "#fdca26"
                        ],
                        [
                          1,
                          "#f0f921"
                        ]
                      ],
                      "sequentialminus": [
                        [
                          0,
                          "#0d0887"
                        ],
                        [
                          0.1111111111111111,
                          "#46039f"
                        ],
                        [
                          0.2222222222222222,
                          "#7201a8"
                        ],
                        [
                          0.3333333333333333,
                          "#9c179e"
                        ],
                        [
                          0.4444444444444444,
                          "#bd3786"
                        ],
                        [
                          0.5555555555555556,
                          "#d8576b"
                        ],
                        [
                          0.6666666666666666,
                          "#ed7953"
                        ],
                        [
                          0.7777777777777778,
                          "#fb9f3a"
                        ],
                        [
                          0.8888888888888888,
                          "#fdca26"
                        ],
                        [
                          1,
                          "#f0f921"
                        ]
                      ]
                    },
                    "colorway": [
                      "#636efa",
                      "#EF553B",
                      "#00cc96",
                      "#ab63fa",
                      "#FFA15A",
                      "#19d3f3",
                      "#FF6692",
                      "#B6E880",
                      "#FF97FF",
                      "#FECB52"
                    ],
                    "font": {
                      "color": "#2a3f5f"
                    },
                    "geo": {
                      "bgcolor": "white",
                      "lakecolor": "white",
                      "landcolor": "#E5ECF6",
                      "showlakes": true,
                      "showland": true,
                      "subunitcolor": "white"
                    },
                    "hoverlabel": {
                      "align": "left"
                    },
                    "hovermode": "closest",
                    "mapbox": {
                      "style": "light"
                    },
                    "paper_bgcolor": "white",
                    "plot_bgcolor": "#E5ECF6",
                    "polar": {
                      "angularaxis": {
                        "gridcolor": "white",
                        "linecolor": "white",
                        "ticks": ""
                      },
                      "bgcolor": "#E5ECF6",
                      "radialaxis": {
                        "gridcolor": "white",
                        "linecolor": "white",
                        "ticks": ""
                      }
                    },
                    "scene": {
                      "xaxis": {
                        "backgroundcolor": "#E5ECF6",
                        "gridcolor": "white",
                        "gridwidth": 2,
                        "linecolor": "white",
                        "showbackground": true,
                        "ticks": "",
                        "zerolinecolor": "white"
                      },
                      "yaxis": {
                        "backgroundcolor": "#E5ECF6",
                        "gridcolor": "white",
                        "gridwidth": 2,
                        "linecolor": "white",
                        "showbackground": true,
                        "ticks": "",
                        "zerolinecolor": "white"
                      },
                      "zaxis": {
                        "backgroundcolor": "#E5ECF6",
                        "gridcolor": "white",
                        "gridwidth": 2,
                        "linecolor": "white",
                        "showbackground": true,
                        "ticks": "",
                        "zerolinecolor": "white"
                      }
                    },
                    "shapedefaults": {
                      "line": {
                        "color": "#2a3f5f"
                      }
                    },
                    "ternary": {
                      "aaxis": {
                        "gridcolor": "white",
                        "linecolor": "white",
                        "ticks": ""
                      },
                      "baxis": {
                        "gridcolor": "white",
                        "linecolor": "white",
                        "ticks": ""
                      },
                      "bgcolor": "#E5ECF6",
                      "caxis": {
                        "gridcolor": "white",
                        "linecolor": "white",
                        "ticks": ""
                      }
                    },
                    "title": {
                      "x": 0.05
                    },
                    "xaxis": {
                      "automargin": true,
                      "gridcolor": "white",
                      "linecolor": "white",
                      "ticks": "",
                      "title": {
                        "standoff": 15
                      },
                      "zerolinecolor": "white",
                      "zerolinewidth": 2
                    },
                    "yaxis": {
                      "automargin": true,
                      "gridcolor": "white",
                      "linecolor": "white",
                      "ticks": "",
                      "title": {
                        "standoff": 15
                      },
                      "zerolinecolor": "white",
                      "zerolinewidth": 2
                    }
                  }
                },
                "title": {
                  "text": "Proportion of Different Fuels Used in Residential Sector Over the Years"
                },
                "xaxis": {
                  "anchor": "y",
                  "domain": [
                    0,
                    1
                  ],
                  "title": {
                    "text": "Year"
                  }
                },
                "yaxis": {
                  "anchor": "x",
                  "domain": [
                    0,
                    1
                  ],
                  "title": {
                    "text": "Energy Consumption (TJ)"
                  }
                }
              }
            }
          },
          "metadata": {},
          "output_type": "display_data"
        }
      ],
      "source": [
        "# Grouped bar plot for 'Proportion of Different Fuels Used in Residential Sector Over the Years'\n",
        "df_melted = pd.melt(df_residential_fuel, id_vars='Year', value_vars=['Town Gas & Liquefied Petroleum Gas (Unit : Terajoule)', 'Oil & Coal Products (Unit : Terajoule)', 'Electricity (Unit : Terajoule)'])\n",
        "fig = px.bar(df_melted, x='Year', y='value', color='variable', title='Proportion of Different Fuels Used in Residential Sector Over the Years', labels={'value':'Energy Consumption (TJ)', 'variable':'Fuel Type'})\n",
        "fig.show()"
      ]
    },
    {
      "cell_type": "code",
      "execution_count": 45,
      "metadata": {
        "colab": {
          "base_uri": "https://localhost:8080/",
          "height": 542
        },
        "id": "dhcThP5PyRbk",
        "outputId": "42f84e2b-226c-4b93-edc3-2f3e580dfb3a"
      },
      "outputs": [
        {
          "data": {
            "application/vnd.plotly.v1+json": {
              "config": {
                "plotlyServerURL": "https://plot.ly"
              },
              "data": [
                {
                  "mode": "lines",
                  "name": "Residential",
                  "type": "scatter",
                  "x": [
                    2010,
                    2011,
                    2012,
                    2013,
                    2014,
                    2015,
                    2016,
                    2017,
                    2018,
                    2019,
                    2020
                  ],
                  "y": [
                    58396,
                    58857,
                    60037,
                    58582,
                    62103,
                    60439,
                    61704,
                    60476,
                    61557,
                    61022,
                    66416
                  ]
                },
                {
                  "mode": "lines",
                  "name": "Commercial",
                  "type": "scatter",
                  "x": [
                    2010,
                    2011,
                    2012,
                    2013,
                    2014,
                    2015,
                    2016,
                    2017,
                    2018,
                    2019,
                    2020
                  ],
                  "y": [
                    116391,
                    116013,
                    118330,
                    118209,
                    119617,
                    120419,
                    120460,
                    120410,
                    122222,
                    123005,
                    114513
                  ]
                },
                {
                  "mode": "lines",
                  "name": "Industrial",
                  "type": "scatter",
                  "x": [
                    2010,
                    2011,
                    2012,
                    2013,
                    2014,
                    2015,
                    2016,
                    2017,
                    2018,
                    2019,
                    2020
                  ],
                  "y": [
                    16053,
                    14155,
                    13655,
                    13204,
                    13028,
                    13054,
                    12294,
                    12722,
                    12829,
                    12274,
                    12162
                  ]
                },
                {
                  "mode": "lines",
                  "name": "Transport",
                  "type": "scatter",
                  "x": [
                    2010,
                    2011,
                    2012,
                    2013,
                    2014,
                    2015,
                    2016,
                    2017,
                    2018,
                    2019,
                    2020
                  ],
                  "y": [
                    90889,
                    90498,
                    90033,
                    89593,
                    89236,
                    89049,
                    89105,
                    87397,
                    85878,
                    87225,
                    79399
                  ]
                }
              ],
              "layout": {
                "template": {
                  "data": {
                    "bar": [
                      {
                        "error_x": {
                          "color": "#2a3f5f"
                        },
                        "error_y": {
                          "color": "#2a3f5f"
                        },
                        "marker": {
                          "line": {
                            "color": "#E5ECF6",
                            "width": 0.5
                          },
                          "pattern": {
                            "fillmode": "overlay",
                            "size": 10,
                            "solidity": 0.2
                          }
                        },
                        "type": "bar"
                      }
                    ],
                    "barpolar": [
                      {
                        "marker": {
                          "line": {
                            "color": "#E5ECF6",
                            "width": 0.5
                          },
                          "pattern": {
                            "fillmode": "overlay",
                            "size": 10,
                            "solidity": 0.2
                          }
                        },
                        "type": "barpolar"
                      }
                    ],
                    "carpet": [
                      {
                        "aaxis": {
                          "endlinecolor": "#2a3f5f",
                          "gridcolor": "white",
                          "linecolor": "white",
                          "minorgridcolor": "white",
                          "startlinecolor": "#2a3f5f"
                        },
                        "baxis": {
                          "endlinecolor": "#2a3f5f",
                          "gridcolor": "white",
                          "linecolor": "white",
                          "minorgridcolor": "white",
                          "startlinecolor": "#2a3f5f"
                        },
                        "type": "carpet"
                      }
                    ],
                    "choropleth": [
                      {
                        "colorbar": {
                          "outlinewidth": 0,
                          "ticks": ""
                        },
                        "type": "choropleth"
                      }
                    ],
                    "contour": [
                      {
                        "colorbar": {
                          "outlinewidth": 0,
                          "ticks": ""
                        },
                        "colorscale": [
                          [
                            0,
                            "#0d0887"
                          ],
                          [
                            0.1111111111111111,
                            "#46039f"
                          ],
                          [
                            0.2222222222222222,
                            "#7201a8"
                          ],
                          [
                            0.3333333333333333,
                            "#9c179e"
                          ],
                          [
                            0.4444444444444444,
                            "#bd3786"
                          ],
                          [
                            0.5555555555555556,
                            "#d8576b"
                          ],
                          [
                            0.6666666666666666,
                            "#ed7953"
                          ],
                          [
                            0.7777777777777778,
                            "#fb9f3a"
                          ],
                          [
                            0.8888888888888888,
                            "#fdca26"
                          ],
                          [
                            1,
                            "#f0f921"
                          ]
                        ],
                        "type": "contour"
                      }
                    ],
                    "contourcarpet": [
                      {
                        "colorbar": {
                          "outlinewidth": 0,
                          "ticks": ""
                        },
                        "type": "contourcarpet"
                      }
                    ],
                    "heatmap": [
                      {
                        "colorbar": {
                          "outlinewidth": 0,
                          "ticks": ""
                        },
                        "colorscale": [
                          [
                            0,
                            "#0d0887"
                          ],
                          [
                            0.1111111111111111,
                            "#46039f"
                          ],
                          [
                            0.2222222222222222,
                            "#7201a8"
                          ],
                          [
                            0.3333333333333333,
                            "#9c179e"
                          ],
                          [
                            0.4444444444444444,
                            "#bd3786"
                          ],
                          [
                            0.5555555555555556,
                            "#d8576b"
                          ],
                          [
                            0.6666666666666666,
                            "#ed7953"
                          ],
                          [
                            0.7777777777777778,
                            "#fb9f3a"
                          ],
                          [
                            0.8888888888888888,
                            "#fdca26"
                          ],
                          [
                            1,
                            "#f0f921"
                          ]
                        ],
                        "type": "heatmap"
                      }
                    ],
                    "heatmapgl": [
                      {
                        "colorbar": {
                          "outlinewidth": 0,
                          "ticks": ""
                        },
                        "colorscale": [
                          [
                            0,
                            "#0d0887"
                          ],
                          [
                            0.1111111111111111,
                            "#46039f"
                          ],
                          [
                            0.2222222222222222,
                            "#7201a8"
                          ],
                          [
                            0.3333333333333333,
                            "#9c179e"
                          ],
                          [
                            0.4444444444444444,
                            "#bd3786"
                          ],
                          [
                            0.5555555555555556,
                            "#d8576b"
                          ],
                          [
                            0.6666666666666666,
                            "#ed7953"
                          ],
                          [
                            0.7777777777777778,
                            "#fb9f3a"
                          ],
                          [
                            0.8888888888888888,
                            "#fdca26"
                          ],
                          [
                            1,
                            "#f0f921"
                          ]
                        ],
                        "type": "heatmapgl"
                      }
                    ],
                    "histogram": [
                      {
                        "marker": {
                          "pattern": {
                            "fillmode": "overlay",
                            "size": 10,
                            "solidity": 0.2
                          }
                        },
                        "type": "histogram"
                      }
                    ],
                    "histogram2d": [
                      {
                        "colorbar": {
                          "outlinewidth": 0,
                          "ticks": ""
                        },
                        "colorscale": [
                          [
                            0,
                            "#0d0887"
                          ],
                          [
                            0.1111111111111111,
                            "#46039f"
                          ],
                          [
                            0.2222222222222222,
                            "#7201a8"
                          ],
                          [
                            0.3333333333333333,
                            "#9c179e"
                          ],
                          [
                            0.4444444444444444,
                            "#bd3786"
                          ],
                          [
                            0.5555555555555556,
                            "#d8576b"
                          ],
                          [
                            0.6666666666666666,
                            "#ed7953"
                          ],
                          [
                            0.7777777777777778,
                            "#fb9f3a"
                          ],
                          [
                            0.8888888888888888,
                            "#fdca26"
                          ],
                          [
                            1,
                            "#f0f921"
                          ]
                        ],
                        "type": "histogram2d"
                      }
                    ],
                    "histogram2dcontour": [
                      {
                        "colorbar": {
                          "outlinewidth": 0,
                          "ticks": ""
                        },
                        "colorscale": [
                          [
                            0,
                            "#0d0887"
                          ],
                          [
                            0.1111111111111111,
                            "#46039f"
                          ],
                          [
                            0.2222222222222222,
                            "#7201a8"
                          ],
                          [
                            0.3333333333333333,
                            "#9c179e"
                          ],
                          [
                            0.4444444444444444,
                            "#bd3786"
                          ],
                          [
                            0.5555555555555556,
                            "#d8576b"
                          ],
                          [
                            0.6666666666666666,
                            "#ed7953"
                          ],
                          [
                            0.7777777777777778,
                            "#fb9f3a"
                          ],
                          [
                            0.8888888888888888,
                            "#fdca26"
                          ],
                          [
                            1,
                            "#f0f921"
                          ]
                        ],
                        "type": "histogram2dcontour"
                      }
                    ],
                    "mesh3d": [
                      {
                        "colorbar": {
                          "outlinewidth": 0,
                          "ticks": ""
                        },
                        "type": "mesh3d"
                      }
                    ],
                    "parcoords": [
                      {
                        "line": {
                          "colorbar": {
                            "outlinewidth": 0,
                            "ticks": ""
                          }
                        },
                        "type": "parcoords"
                      }
                    ],
                    "pie": [
                      {
                        "automargin": true,
                        "type": "pie"
                      }
                    ],
                    "scatter": [
                      {
                        "fillpattern": {
                          "fillmode": "overlay",
                          "size": 10,
                          "solidity": 0.2
                        },
                        "type": "scatter"
                      }
                    ],
                    "scatter3d": [
                      {
                        "line": {
                          "colorbar": {
                            "outlinewidth": 0,
                            "ticks": ""
                          }
                        },
                        "marker": {
                          "colorbar": {
                            "outlinewidth": 0,
                            "ticks": ""
                          }
                        },
                        "type": "scatter3d"
                      }
                    ],
                    "scattercarpet": [
                      {
                        "marker": {
                          "colorbar": {
                            "outlinewidth": 0,
                            "ticks": ""
                          }
                        },
                        "type": "scattercarpet"
                      }
                    ],
                    "scattergeo": [
                      {
                        "marker": {
                          "colorbar": {
                            "outlinewidth": 0,
                            "ticks": ""
                          }
                        },
                        "type": "scattergeo"
                      }
                    ],
                    "scattergl": [
                      {
                        "marker": {
                          "colorbar": {
                            "outlinewidth": 0,
                            "ticks": ""
                          }
                        },
                        "type": "scattergl"
                      }
                    ],
                    "scattermapbox": [
                      {
                        "marker": {
                          "colorbar": {
                            "outlinewidth": 0,
                            "ticks": ""
                          }
                        },
                        "type": "scattermapbox"
                      }
                    ],
                    "scatterpolar": [
                      {
                        "marker": {
                          "colorbar": {
                            "outlinewidth": 0,
                            "ticks": ""
                          }
                        },
                        "type": "scatterpolar"
                      }
                    ],
                    "scatterpolargl": [
                      {
                        "marker": {
                          "colorbar": {
                            "outlinewidth": 0,
                            "ticks": ""
                          }
                        },
                        "type": "scatterpolargl"
                      }
                    ],
                    "scatterternary": [
                      {
                        "marker": {
                          "colorbar": {
                            "outlinewidth": 0,
                            "ticks": ""
                          }
                        },
                        "type": "scatterternary"
                      }
                    ],
                    "surface": [
                      {
                        "colorbar": {
                          "outlinewidth": 0,
                          "ticks": ""
                        },
                        "colorscale": [
                          [
                            0,
                            "#0d0887"
                          ],
                          [
                            0.1111111111111111,
                            "#46039f"
                          ],
                          [
                            0.2222222222222222,
                            "#7201a8"
                          ],
                          [
                            0.3333333333333333,
                            "#9c179e"
                          ],
                          [
                            0.4444444444444444,
                            "#bd3786"
                          ],
                          [
                            0.5555555555555556,
                            "#d8576b"
                          ],
                          [
                            0.6666666666666666,
                            "#ed7953"
                          ],
                          [
                            0.7777777777777778,
                            "#fb9f3a"
                          ],
                          [
                            0.8888888888888888,
                            "#fdca26"
                          ],
                          [
                            1,
                            "#f0f921"
                          ]
                        ],
                        "type": "surface"
                      }
                    ],
                    "table": [
                      {
                        "cells": {
                          "fill": {
                            "color": "#EBF0F8"
                          },
                          "line": {
                            "color": "white"
                          }
                        },
                        "header": {
                          "fill": {
                            "color": "#C8D4E3"
                          },
                          "line": {
                            "color": "white"
                          }
                        },
                        "type": "table"
                      }
                    ]
                  },
                  "layout": {
                    "annotationdefaults": {
                      "arrowcolor": "#2a3f5f",
                      "arrowhead": 0,
                      "arrowwidth": 1
                    },
                    "autotypenumbers": "strict",
                    "coloraxis": {
                      "colorbar": {
                        "outlinewidth": 0,
                        "ticks": ""
                      }
                    },
                    "colorscale": {
                      "diverging": [
                        [
                          0,
                          "#8e0152"
                        ],
                        [
                          0.1,
                          "#c51b7d"
                        ],
                        [
                          0.2,
                          "#de77ae"
                        ],
                        [
                          0.3,
                          "#f1b6da"
                        ],
                        [
                          0.4,
                          "#fde0ef"
                        ],
                        [
                          0.5,
                          "#f7f7f7"
                        ],
                        [
                          0.6,
                          "#e6f5d0"
                        ],
                        [
                          0.7,
                          "#b8e186"
                        ],
                        [
                          0.8,
                          "#7fbc41"
                        ],
                        [
                          0.9,
                          "#4d9221"
                        ],
                        [
                          1,
                          "#276419"
                        ]
                      ],
                      "sequential": [
                        [
                          0,
                          "#0d0887"
                        ],
                        [
                          0.1111111111111111,
                          "#46039f"
                        ],
                        [
                          0.2222222222222222,
                          "#7201a8"
                        ],
                        [
                          0.3333333333333333,
                          "#9c179e"
                        ],
                        [
                          0.4444444444444444,
                          "#bd3786"
                        ],
                        [
                          0.5555555555555556,
                          "#d8576b"
                        ],
                        [
                          0.6666666666666666,
                          "#ed7953"
                        ],
                        [
                          0.7777777777777778,
                          "#fb9f3a"
                        ],
                        [
                          0.8888888888888888,
                          "#fdca26"
                        ],
                        [
                          1,
                          "#f0f921"
                        ]
                      ],
                      "sequentialminus": [
                        [
                          0,
                          "#0d0887"
                        ],
                        [
                          0.1111111111111111,
                          "#46039f"
                        ],
                        [
                          0.2222222222222222,
                          "#7201a8"
                        ],
                        [
                          0.3333333333333333,
                          "#9c179e"
                        ],
                        [
                          0.4444444444444444,
                          "#bd3786"
                        ],
                        [
                          0.5555555555555556,
                          "#d8576b"
                        ],
                        [
                          0.6666666666666666,
                          "#ed7953"
                        ],
                        [
                          0.7777777777777778,
                          "#fb9f3a"
                        ],
                        [
                          0.8888888888888888,
                          "#fdca26"
                        ],
                        [
                          1,
                          "#f0f921"
                        ]
                      ]
                    },
                    "colorway": [
                      "#636efa",
                      "#EF553B",
                      "#00cc96",
                      "#ab63fa",
                      "#FFA15A",
                      "#19d3f3",
                      "#FF6692",
                      "#B6E880",
                      "#FF97FF",
                      "#FECB52"
                    ],
                    "font": {
                      "color": "#2a3f5f"
                    },
                    "geo": {
                      "bgcolor": "white",
                      "lakecolor": "white",
                      "landcolor": "#E5ECF6",
                      "showlakes": true,
                      "showland": true,
                      "subunitcolor": "white"
                    },
                    "hoverlabel": {
                      "align": "left"
                    },
                    "hovermode": "closest",
                    "mapbox": {
                      "style": "light"
                    },
                    "paper_bgcolor": "white",
                    "plot_bgcolor": "#E5ECF6",
                    "polar": {
                      "angularaxis": {
                        "gridcolor": "white",
                        "linecolor": "white",
                        "ticks": ""
                      },
                      "bgcolor": "#E5ECF6",
                      "radialaxis": {
                        "gridcolor": "white",
                        "linecolor": "white",
                        "ticks": ""
                      }
                    },
                    "scene": {
                      "xaxis": {
                        "backgroundcolor": "#E5ECF6",
                        "gridcolor": "white",
                        "gridwidth": 2,
                        "linecolor": "white",
                        "showbackground": true,
                        "ticks": "",
                        "zerolinecolor": "white"
                      },
                      "yaxis": {
                        "backgroundcolor": "#E5ECF6",
                        "gridcolor": "white",
                        "gridwidth": 2,
                        "linecolor": "white",
                        "showbackground": true,
                        "ticks": "",
                        "zerolinecolor": "white"
                      },
                      "zaxis": {
                        "backgroundcolor": "#E5ECF6",
                        "gridcolor": "white",
                        "gridwidth": 2,
                        "linecolor": "white",
                        "showbackground": true,
                        "ticks": "",
                        "zerolinecolor": "white"
                      }
                    },
                    "shapedefaults": {
                      "line": {
                        "color": "#2a3f5f"
                      }
                    },
                    "ternary": {
                      "aaxis": {
                        "gridcolor": "white",
                        "linecolor": "white",
                        "ticks": ""
                      },
                      "baxis": {
                        "gridcolor": "white",
                        "linecolor": "white",
                        "ticks": ""
                      },
                      "bgcolor": "#E5ECF6",
                      "caxis": {
                        "gridcolor": "white",
                        "linecolor": "white",
                        "ticks": ""
                      }
                    },
                    "title": {
                      "x": 0.05
                    },
                    "xaxis": {
                      "automargin": true,
                      "gridcolor": "white",
                      "linecolor": "white",
                      "ticks": "",
                      "title": {
                        "standoff": 15
                      },
                      "zerolinecolor": "white",
                      "zerolinewidth": 2
                    },
                    "yaxis": {
                      "automargin": true,
                      "gridcolor": "white",
                      "linecolor": "white",
                      "ticks": "",
                      "title": {
                        "standoff": 15
                      },
                      "zerolinecolor": "white",
                      "zerolinewidth": 2
                    }
                  }
                },
                "title": {
                  "text": "Energy Consumption by Sector"
                },
                "xaxis": {
                  "title": {
                    "text": "Year"
                  }
                },
                "yaxis": {
                  "title": {
                    "text": "Energy Consumption (TJ)"
                  }
                }
              }
            }
          },
          "metadata": {},
          "output_type": "display_data"
        }
      ],
      "source": [
        "# Line plot for 'Energy Consumption by Sector'\n",
        "fig = go.Figure()\n",
        "fig.add_trace(go.Scatter(x=df_energy_sector['Year'], y=df_energy_sector['Residential (Unit : Terajoule)'], mode='lines', name='Residential'))\n",
        "fig.add_trace(go.Scatter(x=df_energy_sector['Year'], y=df_energy_sector['Commercial (Unit : Terajoule)'], mode='lines', name='Commercial'))\n",
        "fig.add_trace(go.Scatter(x=df_energy_sector['Year'], y=df_energy_sector['Industrial (Unit : Terajoule)'], mode='lines', name='Industrial'))\n",
        "fig.add_trace(go.Scatter(x=df_energy_sector['Year'], y=df_energy_sector['Transport (Unit : Terajoule)'], mode='lines', name='Transport'))\n",
        "fig.update_layout(title='Energy Consumption by Sector', xaxis_title='Year', yaxis_title='Energy Consumption (TJ)')\n",
        "fig.show()"
      ]
    },
    {
      "cell_type": "code",
      "execution_count": 46,
      "metadata": {
        "colab": {
          "base_uri": "https://localhost:8080/",
          "height": 542
        },
        "id": "5SRBoq2ZyVd8",
        "outputId": "a8990669-98a7-4418-c1b2-973afc911c90"
      },
      "outputs": [
        {
          "data": {
            "application/vnd.plotly.v1+json": {
              "config": {
                "plotlyServerURL": "https://plot.ly"
              },
              "data": [
                {
                  "mode": "lines",
                  "name": "Air Conditioning",
                  "type": "scatter",
                  "x": [
                    2010,
                    2011,
                    2012,
                    2013,
                    2014,
                    2015,
                    2016,
                    2017,
                    2018,
                    2019,
                    2020
                  ],
                  "y": [
                    45511,
                    44605,
                    45079,
                    43821,
                    47264,
                    46927,
                    46441,
                    46396,
                    48032,
                    47965,
                    48622
                  ]
                },
                {
                  "mode": "lines",
                  "name": "Lighting",
                  "type": "scatter",
                  "x": [
                    2010,
                    2011,
                    2012,
                    2013,
                    2014,
                    2015,
                    2016,
                    2017,
                    2018,
                    2019,
                    2020
                  ],
                  "y": [
                    19563,
                    18357,
                    18524,
                    17774,
                    17365,
                    16914,
                    16385,
                    16026,
                    16255,
                    16094,
                    15786
                  ]
                },
                {
                  "mode": "lines",
                  "name": "Refrigeration",
                  "type": "scatter",
                  "x": [
                    2010,
                    2011,
                    2012,
                    2013,
                    2014,
                    2015,
                    2016,
                    2017,
                    2018,
                    2019,
                    2020
                  ],
                  "y": [
                    9213,
                    8117,
                    7723,
                    6886,
                    6549,
                    5812,
                    5176,
                    4454,
                    4292,
                    4363,
                    4492
                  ]
                }
              ],
              "layout": {
                "template": {
                  "data": {
                    "bar": [
                      {
                        "error_x": {
                          "color": "#2a3f5f"
                        },
                        "error_y": {
                          "color": "#2a3f5f"
                        },
                        "marker": {
                          "line": {
                            "color": "#E5ECF6",
                            "width": 0.5
                          },
                          "pattern": {
                            "fillmode": "overlay",
                            "size": 10,
                            "solidity": 0.2
                          }
                        },
                        "type": "bar"
                      }
                    ],
                    "barpolar": [
                      {
                        "marker": {
                          "line": {
                            "color": "#E5ECF6",
                            "width": 0.5
                          },
                          "pattern": {
                            "fillmode": "overlay",
                            "size": 10,
                            "solidity": 0.2
                          }
                        },
                        "type": "barpolar"
                      }
                    ],
                    "carpet": [
                      {
                        "aaxis": {
                          "endlinecolor": "#2a3f5f",
                          "gridcolor": "white",
                          "linecolor": "white",
                          "minorgridcolor": "white",
                          "startlinecolor": "#2a3f5f"
                        },
                        "baxis": {
                          "endlinecolor": "#2a3f5f",
                          "gridcolor": "white",
                          "linecolor": "white",
                          "minorgridcolor": "white",
                          "startlinecolor": "#2a3f5f"
                        },
                        "type": "carpet"
                      }
                    ],
                    "choropleth": [
                      {
                        "colorbar": {
                          "outlinewidth": 0,
                          "ticks": ""
                        },
                        "type": "choropleth"
                      }
                    ],
                    "contour": [
                      {
                        "colorbar": {
                          "outlinewidth": 0,
                          "ticks": ""
                        },
                        "colorscale": [
                          [
                            0,
                            "#0d0887"
                          ],
                          [
                            0.1111111111111111,
                            "#46039f"
                          ],
                          [
                            0.2222222222222222,
                            "#7201a8"
                          ],
                          [
                            0.3333333333333333,
                            "#9c179e"
                          ],
                          [
                            0.4444444444444444,
                            "#bd3786"
                          ],
                          [
                            0.5555555555555556,
                            "#d8576b"
                          ],
                          [
                            0.6666666666666666,
                            "#ed7953"
                          ],
                          [
                            0.7777777777777778,
                            "#fb9f3a"
                          ],
                          [
                            0.8888888888888888,
                            "#fdca26"
                          ],
                          [
                            1,
                            "#f0f921"
                          ]
                        ],
                        "type": "contour"
                      }
                    ],
                    "contourcarpet": [
                      {
                        "colorbar": {
                          "outlinewidth": 0,
                          "ticks": ""
                        },
                        "type": "contourcarpet"
                      }
                    ],
                    "heatmap": [
                      {
                        "colorbar": {
                          "outlinewidth": 0,
                          "ticks": ""
                        },
                        "colorscale": [
                          [
                            0,
                            "#0d0887"
                          ],
                          [
                            0.1111111111111111,
                            "#46039f"
                          ],
                          [
                            0.2222222222222222,
                            "#7201a8"
                          ],
                          [
                            0.3333333333333333,
                            "#9c179e"
                          ],
                          [
                            0.4444444444444444,
                            "#bd3786"
                          ],
                          [
                            0.5555555555555556,
                            "#d8576b"
                          ],
                          [
                            0.6666666666666666,
                            "#ed7953"
                          ],
                          [
                            0.7777777777777778,
                            "#fb9f3a"
                          ],
                          [
                            0.8888888888888888,
                            "#fdca26"
                          ],
                          [
                            1,
                            "#f0f921"
                          ]
                        ],
                        "type": "heatmap"
                      }
                    ],
                    "heatmapgl": [
                      {
                        "colorbar": {
                          "outlinewidth": 0,
                          "ticks": ""
                        },
                        "colorscale": [
                          [
                            0,
                            "#0d0887"
                          ],
                          [
                            0.1111111111111111,
                            "#46039f"
                          ],
                          [
                            0.2222222222222222,
                            "#7201a8"
                          ],
                          [
                            0.3333333333333333,
                            "#9c179e"
                          ],
                          [
                            0.4444444444444444,
                            "#bd3786"
                          ],
                          [
                            0.5555555555555556,
                            "#d8576b"
                          ],
                          [
                            0.6666666666666666,
                            "#ed7953"
                          ],
                          [
                            0.7777777777777778,
                            "#fb9f3a"
                          ],
                          [
                            0.8888888888888888,
                            "#fdca26"
                          ],
                          [
                            1,
                            "#f0f921"
                          ]
                        ],
                        "type": "heatmapgl"
                      }
                    ],
                    "histogram": [
                      {
                        "marker": {
                          "pattern": {
                            "fillmode": "overlay",
                            "size": 10,
                            "solidity": 0.2
                          }
                        },
                        "type": "histogram"
                      }
                    ],
                    "histogram2d": [
                      {
                        "colorbar": {
                          "outlinewidth": 0,
                          "ticks": ""
                        },
                        "colorscale": [
                          [
                            0,
                            "#0d0887"
                          ],
                          [
                            0.1111111111111111,
                            "#46039f"
                          ],
                          [
                            0.2222222222222222,
                            "#7201a8"
                          ],
                          [
                            0.3333333333333333,
                            "#9c179e"
                          ],
                          [
                            0.4444444444444444,
                            "#bd3786"
                          ],
                          [
                            0.5555555555555556,
                            "#d8576b"
                          ],
                          [
                            0.6666666666666666,
                            "#ed7953"
                          ],
                          [
                            0.7777777777777778,
                            "#fb9f3a"
                          ],
                          [
                            0.8888888888888888,
                            "#fdca26"
                          ],
                          [
                            1,
                            "#f0f921"
                          ]
                        ],
                        "type": "histogram2d"
                      }
                    ],
                    "histogram2dcontour": [
                      {
                        "colorbar": {
                          "outlinewidth": 0,
                          "ticks": ""
                        },
                        "colorscale": [
                          [
                            0,
                            "#0d0887"
                          ],
                          [
                            0.1111111111111111,
                            "#46039f"
                          ],
                          [
                            0.2222222222222222,
                            "#7201a8"
                          ],
                          [
                            0.3333333333333333,
                            "#9c179e"
                          ],
                          [
                            0.4444444444444444,
                            "#bd3786"
                          ],
                          [
                            0.5555555555555556,
                            "#d8576b"
                          ],
                          [
                            0.6666666666666666,
                            "#ed7953"
                          ],
                          [
                            0.7777777777777778,
                            "#fb9f3a"
                          ],
                          [
                            0.8888888888888888,
                            "#fdca26"
                          ],
                          [
                            1,
                            "#f0f921"
                          ]
                        ],
                        "type": "histogram2dcontour"
                      }
                    ],
                    "mesh3d": [
                      {
                        "colorbar": {
                          "outlinewidth": 0,
                          "ticks": ""
                        },
                        "type": "mesh3d"
                      }
                    ],
                    "parcoords": [
                      {
                        "line": {
                          "colorbar": {
                            "outlinewidth": 0,
                            "ticks": ""
                          }
                        },
                        "type": "parcoords"
                      }
                    ],
                    "pie": [
                      {
                        "automargin": true,
                        "type": "pie"
                      }
                    ],
                    "scatter": [
                      {
                        "fillpattern": {
                          "fillmode": "overlay",
                          "size": 10,
                          "solidity": 0.2
                        },
                        "type": "scatter"
                      }
                    ],
                    "scatter3d": [
                      {
                        "line": {
                          "colorbar": {
                            "outlinewidth": 0,
                            "ticks": ""
                          }
                        },
                        "marker": {
                          "colorbar": {
                            "outlinewidth": 0,
                            "ticks": ""
                          }
                        },
                        "type": "scatter3d"
                      }
                    ],
                    "scattercarpet": [
                      {
                        "marker": {
                          "colorbar": {
                            "outlinewidth": 0,
                            "ticks": ""
                          }
                        },
                        "type": "scattercarpet"
                      }
                    ],
                    "scattergeo": [
                      {
                        "marker": {
                          "colorbar": {
                            "outlinewidth": 0,
                            "ticks": ""
                          }
                        },
                        "type": "scattergeo"
                      }
                    ],
                    "scattergl": [
                      {
                        "marker": {
                          "colorbar": {
                            "outlinewidth": 0,
                            "ticks": ""
                          }
                        },
                        "type": "scattergl"
                      }
                    ],
                    "scattermapbox": [
                      {
                        "marker": {
                          "colorbar": {
                            "outlinewidth": 0,
                            "ticks": ""
                          }
                        },
                        "type": "scattermapbox"
                      }
                    ],
                    "scatterpolar": [
                      {
                        "marker": {
                          "colorbar": {
                            "outlinewidth": 0,
                            "ticks": ""
                          }
                        },
                        "type": "scatterpolar"
                      }
                    ],
                    "scatterpolargl": [
                      {
                        "marker": {
                          "colorbar": {
                            "outlinewidth": 0,
                            "ticks": ""
                          }
                        },
                        "type": "scatterpolargl"
                      }
                    ],
                    "scatterternary": [
                      {
                        "marker": {
                          "colorbar": {
                            "outlinewidth": 0,
                            "ticks": ""
                          }
                        },
                        "type": "scatterternary"
                      }
                    ],
                    "surface": [
                      {
                        "colorbar": {
                          "outlinewidth": 0,
                          "ticks": ""
                        },
                        "colorscale": [
                          [
                            0,
                            "#0d0887"
                          ],
                          [
                            0.1111111111111111,
                            "#46039f"
                          ],
                          [
                            0.2222222222222222,
                            "#7201a8"
                          ],
                          [
                            0.3333333333333333,
                            "#9c179e"
                          ],
                          [
                            0.4444444444444444,
                            "#bd3786"
                          ],
                          [
                            0.5555555555555556,
                            "#d8576b"
                          ],
                          [
                            0.6666666666666666,
                            "#ed7953"
                          ],
                          [
                            0.7777777777777778,
                            "#fb9f3a"
                          ],
                          [
                            0.8888888888888888,
                            "#fdca26"
                          ],
                          [
                            1,
                            "#f0f921"
                          ]
                        ],
                        "type": "surface"
                      }
                    ],
                    "table": [
                      {
                        "cells": {
                          "fill": {
                            "color": "#EBF0F8"
                          },
                          "line": {
                            "color": "white"
                          }
                        },
                        "header": {
                          "fill": {
                            "color": "#C8D4E3"
                          },
                          "line": {
                            "color": "white"
                          }
                        },
                        "type": "table"
                      }
                    ]
                  },
                  "layout": {
                    "annotationdefaults": {
                      "arrowcolor": "#2a3f5f",
                      "arrowhead": 0,
                      "arrowwidth": 1
                    },
                    "autotypenumbers": "strict",
                    "coloraxis": {
                      "colorbar": {
                        "outlinewidth": 0,
                        "ticks": ""
                      }
                    },
                    "colorscale": {
                      "diverging": [
                        [
                          0,
                          "#8e0152"
                        ],
                        [
                          0.1,
                          "#c51b7d"
                        ],
                        [
                          0.2,
                          "#de77ae"
                        ],
                        [
                          0.3,
                          "#f1b6da"
                        ],
                        [
                          0.4,
                          "#fde0ef"
                        ],
                        [
                          0.5,
                          "#f7f7f7"
                        ],
                        [
                          0.6,
                          "#e6f5d0"
                        ],
                        [
                          0.7,
                          "#b8e186"
                        ],
                        [
                          0.8,
                          "#7fbc41"
                        ],
                        [
                          0.9,
                          "#4d9221"
                        ],
                        [
                          1,
                          "#276419"
                        ]
                      ],
                      "sequential": [
                        [
                          0,
                          "#0d0887"
                        ],
                        [
                          0.1111111111111111,
                          "#46039f"
                        ],
                        [
                          0.2222222222222222,
                          "#7201a8"
                        ],
                        [
                          0.3333333333333333,
                          "#9c179e"
                        ],
                        [
                          0.4444444444444444,
                          "#bd3786"
                        ],
                        [
                          0.5555555555555556,
                          "#d8576b"
                        ],
                        [
                          0.6666666666666666,
                          "#ed7953"
                        ],
                        [
                          0.7777777777777778,
                          "#fb9f3a"
                        ],
                        [
                          0.8888888888888888,
                          "#fdca26"
                        ],
                        [
                          1,
                          "#f0f921"
                        ]
                      ],
                      "sequentialminus": [
                        [
                          0,
                          "#0d0887"
                        ],
                        [
                          0.1111111111111111,
                          "#46039f"
                        ],
                        [
                          0.2222222222222222,
                          "#7201a8"
                        ],
                        [
                          0.3333333333333333,
                          "#9c179e"
                        ],
                        [
                          0.4444444444444444,
                          "#bd3786"
                        ],
                        [
                          0.5555555555555556,
                          "#d8576b"
                        ],
                        [
                          0.6666666666666666,
                          "#ed7953"
                        ],
                        [
                          0.7777777777777778,
                          "#fb9f3a"
                        ],
                        [
                          0.8888888888888888,
                          "#fdca26"
                        ],
                        [
                          1,
                          "#f0f921"
                        ]
                      ]
                    },
                    "colorway": [
                      "#636efa",
                      "#EF553B",
                      "#00cc96",
                      "#ab63fa",
                      "#FFA15A",
                      "#19d3f3",
                      "#FF6692",
                      "#B6E880",
                      "#FF97FF",
                      "#FECB52"
                    ],
                    "font": {
                      "color": "#2a3f5f"
                    },
                    "geo": {
                      "bgcolor": "white",
                      "lakecolor": "white",
                      "landcolor": "#E5ECF6",
                      "showlakes": true,
                      "showland": true,
                      "subunitcolor": "white"
                    },
                    "hoverlabel": {
                      "align": "left"
                    },
                    "hovermode": "closest",
                    "mapbox": {
                      "style": "light"
                    },
                    "paper_bgcolor": "white",
                    "plot_bgcolor": "#E5ECF6",
                    "polar": {
                      "angularaxis": {
                        "gridcolor": "white",
                        "linecolor": "white",
                        "ticks": ""
                      },
                      "bgcolor": "#E5ECF6",
                      "radialaxis": {
                        "gridcolor": "white",
                        "linecolor": "white",
                        "ticks": ""
                      }
                    },
                    "scene": {
                      "xaxis": {
                        "backgroundcolor": "#E5ECF6",
                        "gridcolor": "white",
                        "gridwidth": 2,
                        "linecolor": "white",
                        "showbackground": true,
                        "ticks": "",
                        "zerolinecolor": "white"
                      },
                      "yaxis": {
                        "backgroundcolor": "#E5ECF6",
                        "gridcolor": "white",
                        "gridwidth": 2,
                        "linecolor": "white",
                        "showbackground": true,
                        "ticks": "",
                        "zerolinecolor": "white"
                      },
                      "zaxis": {
                        "backgroundcolor": "#E5ECF6",
                        "gridcolor": "white",
                        "gridwidth": 2,
                        "linecolor": "white",
                        "showbackground": true,
                        "ticks": "",
                        "zerolinecolor": "white"
                      }
                    },
                    "shapedefaults": {
                      "line": {
                        "color": "#2a3f5f"
                      }
                    },
                    "ternary": {
                      "aaxis": {
                        "gridcolor": "white",
                        "linecolor": "white",
                        "ticks": ""
                      },
                      "baxis": {
                        "gridcolor": "white",
                        "linecolor": "white",
                        "ticks": ""
                      },
                      "bgcolor": "#E5ECF6",
                      "caxis": {
                        "gridcolor": "white",
                        "linecolor": "white",
                        "ticks": ""
                      }
                    },
                    "title": {
                      "x": 0.05
                    },
                    "xaxis": {
                      "automargin": true,
                      "gridcolor": "white",
                      "linecolor": "white",
                      "ticks": "",
                      "title": {
                        "standoff": 15
                      },
                      "zerolinecolor": "white",
                      "zerolinewidth": 2
                    },
                    "yaxis": {
                      "automargin": true,
                      "gridcolor": "white",
                      "linecolor": "white",
                      "ticks": "",
                      "title": {
                        "standoff": 15
                      },
                      "zerolinecolor": "white",
                      "zerolinewidth": 2
                    }
                  }
                },
                "title": {
                  "text": "Electricity Consumption by End-use"
                },
                "xaxis": {
                  "title": {
                    "text": "Year"
                  }
                },
                "yaxis": {
                  "title": {
                    "text": "Electricity Consumption (TJ)"
                  }
                }
              }
            }
          },
          "metadata": {},
          "output_type": "display_data"
        }
      ],
      "source": [
        "# Line plot for 'Electricity Consumption by End-use'\n",
        "fig = go.Figure()\n",
        "fig.add_trace(go.Scatter(x=df_electricity_enduse['Year'], y=df_electricity_enduse['Air Conditioning (Unit : Terajoule)'], mode='lines', name='Air Conditioning'))\n",
        "fig.add_trace(go.Scatter(x=df_electricity_enduse['Year'], y=df_electricity_enduse['Lighting (Unit : Terajoule)'], mode='lines', name='Lighting'))\n",
        "fig.add_trace(go.Scatter(x=df_electricity_enduse['Year'], y=df_electricity_enduse['Refrigeration (Unit : Terajoule)'], mode='lines', name='Refrigeration'))\n",
        "fig.update_layout(title='Electricity Consumption by End-use', xaxis_title='Year', yaxis_title='Electricity Consumption (TJ)')\n",
        "fig.show()"
      ]
    },
    {
      "cell_type": "code",
      "execution_count": 47,
      "metadata": {
        "colab": {
          "base_uri": "https://localhost:8080/",
          "height": 542
        },
        "id": "sBz2xVWNyXEA",
        "outputId": "b057b4eb-67af-4d35-a5ee-781cd3cbee6b"
      },
      "outputs": [
        {
          "data": {
            "application/vnd.plotly.v1+json": {
              "config": {
                "plotlyServerURL": "https://plot.ly"
              },
              "data": [
                {
                  "labels": [
                    "Waste-to-energy",
                    "Wind Energy & Hydropower",
                    "Solar Energy",
                    "Bio-diesel"
                  ],
                  "type": "pie",
                  "values": [
                    1930,
                    9,
                    189,
                    276
                  ]
                }
              ],
              "layout": {
                "template": {
                  "data": {
                    "bar": [
                      {
                        "error_x": {
                          "color": "#2a3f5f"
                        },
                        "error_y": {
                          "color": "#2a3f5f"
                        },
                        "marker": {
                          "line": {
                            "color": "#E5ECF6",
                            "width": 0.5
                          },
                          "pattern": {
                            "fillmode": "overlay",
                            "size": 10,
                            "solidity": 0.2
                          }
                        },
                        "type": "bar"
                      }
                    ],
                    "barpolar": [
                      {
                        "marker": {
                          "line": {
                            "color": "#E5ECF6",
                            "width": 0.5
                          },
                          "pattern": {
                            "fillmode": "overlay",
                            "size": 10,
                            "solidity": 0.2
                          }
                        },
                        "type": "barpolar"
                      }
                    ],
                    "carpet": [
                      {
                        "aaxis": {
                          "endlinecolor": "#2a3f5f",
                          "gridcolor": "white",
                          "linecolor": "white",
                          "minorgridcolor": "white",
                          "startlinecolor": "#2a3f5f"
                        },
                        "baxis": {
                          "endlinecolor": "#2a3f5f",
                          "gridcolor": "white",
                          "linecolor": "white",
                          "minorgridcolor": "white",
                          "startlinecolor": "#2a3f5f"
                        },
                        "type": "carpet"
                      }
                    ],
                    "choropleth": [
                      {
                        "colorbar": {
                          "outlinewidth": 0,
                          "ticks": ""
                        },
                        "type": "choropleth"
                      }
                    ],
                    "contour": [
                      {
                        "colorbar": {
                          "outlinewidth": 0,
                          "ticks": ""
                        },
                        "colorscale": [
                          [
                            0,
                            "#0d0887"
                          ],
                          [
                            0.1111111111111111,
                            "#46039f"
                          ],
                          [
                            0.2222222222222222,
                            "#7201a8"
                          ],
                          [
                            0.3333333333333333,
                            "#9c179e"
                          ],
                          [
                            0.4444444444444444,
                            "#bd3786"
                          ],
                          [
                            0.5555555555555556,
                            "#d8576b"
                          ],
                          [
                            0.6666666666666666,
                            "#ed7953"
                          ],
                          [
                            0.7777777777777778,
                            "#fb9f3a"
                          ],
                          [
                            0.8888888888888888,
                            "#fdca26"
                          ],
                          [
                            1,
                            "#f0f921"
                          ]
                        ],
                        "type": "contour"
                      }
                    ],
                    "contourcarpet": [
                      {
                        "colorbar": {
                          "outlinewidth": 0,
                          "ticks": ""
                        },
                        "type": "contourcarpet"
                      }
                    ],
                    "heatmap": [
                      {
                        "colorbar": {
                          "outlinewidth": 0,
                          "ticks": ""
                        },
                        "colorscale": [
                          [
                            0,
                            "#0d0887"
                          ],
                          [
                            0.1111111111111111,
                            "#46039f"
                          ],
                          [
                            0.2222222222222222,
                            "#7201a8"
                          ],
                          [
                            0.3333333333333333,
                            "#9c179e"
                          ],
                          [
                            0.4444444444444444,
                            "#bd3786"
                          ],
                          [
                            0.5555555555555556,
                            "#d8576b"
                          ],
                          [
                            0.6666666666666666,
                            "#ed7953"
                          ],
                          [
                            0.7777777777777778,
                            "#fb9f3a"
                          ],
                          [
                            0.8888888888888888,
                            "#fdca26"
                          ],
                          [
                            1,
                            "#f0f921"
                          ]
                        ],
                        "type": "heatmap"
                      }
                    ],
                    "heatmapgl": [
                      {
                        "colorbar": {
                          "outlinewidth": 0,
                          "ticks": ""
                        },
                        "colorscale": [
                          [
                            0,
                            "#0d0887"
                          ],
                          [
                            0.1111111111111111,
                            "#46039f"
                          ],
                          [
                            0.2222222222222222,
                            "#7201a8"
                          ],
                          [
                            0.3333333333333333,
                            "#9c179e"
                          ],
                          [
                            0.4444444444444444,
                            "#bd3786"
                          ],
                          [
                            0.5555555555555556,
                            "#d8576b"
                          ],
                          [
                            0.6666666666666666,
                            "#ed7953"
                          ],
                          [
                            0.7777777777777778,
                            "#fb9f3a"
                          ],
                          [
                            0.8888888888888888,
                            "#fdca26"
                          ],
                          [
                            1,
                            "#f0f921"
                          ]
                        ],
                        "type": "heatmapgl"
                      }
                    ],
                    "histogram": [
                      {
                        "marker": {
                          "pattern": {
                            "fillmode": "overlay",
                            "size": 10,
                            "solidity": 0.2
                          }
                        },
                        "type": "histogram"
                      }
                    ],
                    "histogram2d": [
                      {
                        "colorbar": {
                          "outlinewidth": 0,
                          "ticks": ""
                        },
                        "colorscale": [
                          [
                            0,
                            "#0d0887"
                          ],
                          [
                            0.1111111111111111,
                            "#46039f"
                          ],
                          [
                            0.2222222222222222,
                            "#7201a8"
                          ],
                          [
                            0.3333333333333333,
                            "#9c179e"
                          ],
                          [
                            0.4444444444444444,
                            "#bd3786"
                          ],
                          [
                            0.5555555555555556,
                            "#d8576b"
                          ],
                          [
                            0.6666666666666666,
                            "#ed7953"
                          ],
                          [
                            0.7777777777777778,
                            "#fb9f3a"
                          ],
                          [
                            0.8888888888888888,
                            "#fdca26"
                          ],
                          [
                            1,
                            "#f0f921"
                          ]
                        ],
                        "type": "histogram2d"
                      }
                    ],
                    "histogram2dcontour": [
                      {
                        "colorbar": {
                          "outlinewidth": 0,
                          "ticks": ""
                        },
                        "colorscale": [
                          [
                            0,
                            "#0d0887"
                          ],
                          [
                            0.1111111111111111,
                            "#46039f"
                          ],
                          [
                            0.2222222222222222,
                            "#7201a8"
                          ],
                          [
                            0.3333333333333333,
                            "#9c179e"
                          ],
                          [
                            0.4444444444444444,
                            "#bd3786"
                          ],
                          [
                            0.5555555555555556,
                            "#d8576b"
                          ],
                          [
                            0.6666666666666666,
                            "#ed7953"
                          ],
                          [
                            0.7777777777777778,
                            "#fb9f3a"
                          ],
                          [
                            0.8888888888888888,
                            "#fdca26"
                          ],
                          [
                            1,
                            "#f0f921"
                          ]
                        ],
                        "type": "histogram2dcontour"
                      }
                    ],
                    "mesh3d": [
                      {
                        "colorbar": {
                          "outlinewidth": 0,
                          "ticks": ""
                        },
                        "type": "mesh3d"
                      }
                    ],
                    "parcoords": [
                      {
                        "line": {
                          "colorbar": {
                            "outlinewidth": 0,
                            "ticks": ""
                          }
                        },
                        "type": "parcoords"
                      }
                    ],
                    "pie": [
                      {
                        "automargin": true,
                        "type": "pie"
                      }
                    ],
                    "scatter": [
                      {
                        "fillpattern": {
                          "fillmode": "overlay",
                          "size": 10,
                          "solidity": 0.2
                        },
                        "type": "scatter"
                      }
                    ],
                    "scatter3d": [
                      {
                        "line": {
                          "colorbar": {
                            "outlinewidth": 0,
                            "ticks": ""
                          }
                        },
                        "marker": {
                          "colorbar": {
                            "outlinewidth": 0,
                            "ticks": ""
                          }
                        },
                        "type": "scatter3d"
                      }
                    ],
                    "scattercarpet": [
                      {
                        "marker": {
                          "colorbar": {
                            "outlinewidth": 0,
                            "ticks": ""
                          }
                        },
                        "type": "scattercarpet"
                      }
                    ],
                    "scattergeo": [
                      {
                        "marker": {
                          "colorbar": {
                            "outlinewidth": 0,
                            "ticks": ""
                          }
                        },
                        "type": "scattergeo"
                      }
                    ],
                    "scattergl": [
                      {
                        "marker": {
                          "colorbar": {
                            "outlinewidth": 0,
                            "ticks": ""
                          }
                        },
                        "type": "scattergl"
                      }
                    ],
                    "scattermapbox": [
                      {
                        "marker": {
                          "colorbar": {
                            "outlinewidth": 0,
                            "ticks": ""
                          }
                        },
                        "type": "scattermapbox"
                      }
                    ],
                    "scatterpolar": [
                      {
                        "marker": {
                          "colorbar": {
                            "outlinewidth": 0,
                            "ticks": ""
                          }
                        },
                        "type": "scatterpolar"
                      }
                    ],
                    "scatterpolargl": [
                      {
                        "marker": {
                          "colorbar": {
                            "outlinewidth": 0,
                            "ticks": ""
                          }
                        },
                        "type": "scatterpolargl"
                      }
                    ],
                    "scatterternary": [
                      {
                        "marker": {
                          "colorbar": {
                            "outlinewidth": 0,
                            "ticks": ""
                          }
                        },
                        "type": "scatterternary"
                      }
                    ],
                    "surface": [
                      {
                        "colorbar": {
                          "outlinewidth": 0,
                          "ticks": ""
                        },
                        "colorscale": [
                          [
                            0,
                            "#0d0887"
                          ],
                          [
                            0.1111111111111111,
                            "#46039f"
                          ],
                          [
                            0.2222222222222222,
                            "#7201a8"
                          ],
                          [
                            0.3333333333333333,
                            "#9c179e"
                          ],
                          [
                            0.4444444444444444,
                            "#bd3786"
                          ],
                          [
                            0.5555555555555556,
                            "#d8576b"
                          ],
                          [
                            0.6666666666666666,
                            "#ed7953"
                          ],
                          [
                            0.7777777777777778,
                            "#fb9f3a"
                          ],
                          [
                            0.8888888888888888,
                            "#fdca26"
                          ],
                          [
                            1,
                            "#f0f921"
                          ]
                        ],
                        "type": "surface"
                      }
                    ],
                    "table": [
                      {
                        "cells": {
                          "fill": {
                            "color": "#EBF0F8"
                          },
                          "line": {
                            "color": "white"
                          }
                        },
                        "header": {
                          "fill": {
                            "color": "#C8D4E3"
                          },
                          "line": {
                            "color": "white"
                          }
                        },
                        "type": "table"
                      }
                    ]
                  },
                  "layout": {
                    "annotationdefaults": {
                      "arrowcolor": "#2a3f5f",
                      "arrowhead": 0,
                      "arrowwidth": 1
                    },
                    "autotypenumbers": "strict",
                    "coloraxis": {
                      "colorbar": {
                        "outlinewidth": 0,
                        "ticks": ""
                      }
                    },
                    "colorscale": {
                      "diverging": [
                        [
                          0,
                          "#8e0152"
                        ],
                        [
                          0.1,
                          "#c51b7d"
                        ],
                        [
                          0.2,
                          "#de77ae"
                        ],
                        [
                          0.3,
                          "#f1b6da"
                        ],
                        [
                          0.4,
                          "#fde0ef"
                        ],
                        [
                          0.5,
                          "#f7f7f7"
                        ],
                        [
                          0.6,
                          "#e6f5d0"
                        ],
                        [
                          0.7,
                          "#b8e186"
                        ],
                        [
                          0.8,
                          "#7fbc41"
                        ],
                        [
                          0.9,
                          "#4d9221"
                        ],
                        [
                          1,
                          "#276419"
                        ]
                      ],
                      "sequential": [
                        [
                          0,
                          "#0d0887"
                        ],
                        [
                          0.1111111111111111,
                          "#46039f"
                        ],
                        [
                          0.2222222222222222,
                          "#7201a8"
                        ],
                        [
                          0.3333333333333333,
                          "#9c179e"
                        ],
                        [
                          0.4444444444444444,
                          "#bd3786"
                        ],
                        [
                          0.5555555555555556,
                          "#d8576b"
                        ],
                        [
                          0.6666666666666666,
                          "#ed7953"
                        ],
                        [
                          0.7777777777777778,
                          "#fb9f3a"
                        ],
                        [
                          0.8888888888888888,
                          "#fdca26"
                        ],
                        [
                          1,
                          "#f0f921"
                        ]
                      ],
                      "sequentialminus": [
                        [
                          0,
                          "#0d0887"
                        ],
                        [
                          0.1111111111111111,
                          "#46039f"
                        ],
                        [
                          0.2222222222222222,
                          "#7201a8"
                        ],
                        [
                          0.3333333333333333,
                          "#9c179e"
                        ],
                        [
                          0.4444444444444444,
                          "#bd3786"
                        ],
                        [
                          0.5555555555555556,
                          "#d8576b"
                        ],
                        [
                          0.6666666666666666,
                          "#ed7953"
                        ],
                        [
                          0.7777777777777778,
                          "#fb9f3a"
                        ],
                        [
                          0.8888888888888888,
                          "#fdca26"
                        ],
                        [
                          1,
                          "#f0f921"
                        ]
                      ]
                    },
                    "colorway": [
                      "#636efa",
                      "#EF553B",
                      "#00cc96",
                      "#ab63fa",
                      "#FFA15A",
                      "#19d3f3",
                      "#FF6692",
                      "#B6E880",
                      "#FF97FF",
                      "#FECB52"
                    ],
                    "font": {
                      "color": "#2a3f5f"
                    },
                    "geo": {
                      "bgcolor": "white",
                      "lakecolor": "white",
                      "landcolor": "#E5ECF6",
                      "showlakes": true,
                      "showland": true,
                      "subunitcolor": "white"
                    },
                    "hoverlabel": {
                      "align": "left"
                    },
                    "hovermode": "closest",
                    "mapbox": {
                      "style": "light"
                    },
                    "paper_bgcolor": "white",
                    "plot_bgcolor": "#E5ECF6",
                    "polar": {
                      "angularaxis": {
                        "gridcolor": "white",
                        "linecolor": "white",
                        "ticks": ""
                      },
                      "bgcolor": "#E5ECF6",
                      "radialaxis": {
                        "gridcolor": "white",
                        "linecolor": "white",
                        "ticks": ""
                      }
                    },
                    "scene": {
                      "xaxis": {
                        "backgroundcolor": "#E5ECF6",
                        "gridcolor": "white",
                        "gridwidth": 2,
                        "linecolor": "white",
                        "showbackground": true,
                        "ticks": "",
                        "zerolinecolor": "white"
                      },
                      "yaxis": {
                        "backgroundcolor": "#E5ECF6",
                        "gridcolor": "white",
                        "gridwidth": 2,
                        "linecolor": "white",
                        "showbackground": true,
                        "ticks": "",
                        "zerolinecolor": "white"
                      },
                      "zaxis": {
                        "backgroundcolor": "#E5ECF6",
                        "gridcolor": "white",
                        "gridwidth": 2,
                        "linecolor": "white",
                        "showbackground": true,
                        "ticks": "",
                        "zerolinecolor": "white"
                      }
                    },
                    "shapedefaults": {
                      "line": {
                        "color": "#2a3f5f"
                      }
                    },
                    "ternary": {
                      "aaxis": {
                        "gridcolor": "white",
                        "linecolor": "white",
                        "ticks": ""
                      },
                      "baxis": {
                        "gridcolor": "white",
                        "linecolor": "white",
                        "ticks": ""
                      },
                      "bgcolor": "#E5ECF6",
                      "caxis": {
                        "gridcolor": "white",
                        "linecolor": "white",
                        "ticks": ""
                      }
                    },
                    "title": {
                      "x": 0.05
                    },
                    "xaxis": {
                      "automargin": true,
                      "gridcolor": "white",
                      "linecolor": "white",
                      "ticks": "",
                      "title": {
                        "standoff": 15
                      },
                      "zerolinecolor": "white",
                      "zerolinewidth": 2
                    },
                    "yaxis": {
                      "automargin": true,
                      "gridcolor": "white",
                      "linecolor": "white",
                      "ticks": "",
                      "title": {
                        "standoff": 15
                      },
                      "zerolinecolor": "white",
                      "zerolinewidth": 2
                    }
                  }
                },
                "title": {
                  "text": "Proportion of Different Types of Renewable Energy"
                }
              }
            }
          },
          "metadata": {},
          "output_type": "display_data"
        }
      ],
      "source": [
        "# Pie chart for 'Proportion of Different Types of Renewable Energy'\n",
        "fig = go.Figure(data=[go.Pie(labels=df_energy_renewable['Type of Renewable Energy'].values, values=df_energy_renewable['Renewable Energy (Unit : Terajoule)'].values)])\n",
        "fig.update_layout(title_text='Proportion of Different Types of Renewable Energy')\n",
        "fig.show()"
      ]
    }
  ],
  "metadata": {
    "colab": {
      "provenance": []
    },
    "kernelspec": {
      "display_name": "Python 3",
      "name": "python3"
    },
    "language_info": {
      "codemirror_mode": {
        "name": "ipython",
        "version": 3
      },
      "file_extension": ".py",
      "mimetype": "text/x-python",
      "name": "python",
      "nbconvert_exporter": "python",
      "pygments_lexer": "ipython3",
      "version": "3.12.0"
    }
  },
  "nbformat": 4,
  "nbformat_minor": 0
}
